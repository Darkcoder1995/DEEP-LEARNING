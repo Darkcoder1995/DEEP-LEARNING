{
 "cells": [
  {
   "cell_type": "code",
   "execution_count": null,
   "metadata": {
    "id": "vvMotauMEUpJ"
   },
   "outputs": [],
   "source": [
    "import keras\n",
    "from keras.models import Sequential\n",
    "from keras.preprocessing.image import ImageDataGenerator\n",
    "from keras.optimizers import SGD\n",
    "from keras.layers import Dense, Dropout, Activation, Flatten\n",
    "from keras.layers import Conv2D\n",
    "import numpy as np\n",
    "import tensorflow as tf\n",
    "from tensorflow.python.keras.metrics import Metric\n",
    "from keras import optimizers\n",
    "from keras.layers.core import Lambda\n",
    "from keras import backend as K\n",
    "from keras import regularizers\n",
    "import matplotlib.pyplot as plt \n",
    "from keras.layers import Concatenate\n",
    "from keras.models import Model\n",
    "from keras import layers\n",
    "from keras.layers import Activation,Dense,Input,BatchNormalization,Conv2D,MaxPooling2D,AveragePooling2D,GlobalAveragePooling2D,GlobalMaxPooling2D\n",
    "from keras.engine.topology import get_source_inputs\n",
    "from keras.utils.layer_utils import convert_all_kernels_in_model\n",
    "from keras.utils.data_utils import get_file\n",
    "from keras.applications.imagenet_utils import decode_predictions\n",
    "from keras.preprocessing import image"
   ]
  },
  {
   "cell_type": "code",
   "execution_count": null,
   "metadata": {
    "id": "RWOfYDVhPsdN"
   },
   "outputs": [],
   "source": [
    "# REFERENCED FROM https://github.com/fchollet/deep-learning-models/blob/master/inception_v3.py"
   ]
  },
  {
   "cell_type": "code",
   "execution_count": null,
   "metadata": {
    "id": "KmwbnhHDm4gR"
   },
   "outputs": [],
   "source": [
    "num_classes=100"
   ]
  },
  {
   "cell_type": "code",
   "execution_count": null,
   "metadata": {
    "id": "AbsffDlVe898"
   },
   "outputs": [],
   "source": [
    "from keras.datasets import cifar100\n",
    "(x_train, y_train), (x_test, y_test) = cifar100.load_data()\n",
    "x_train = x_train.astype('float32')\n",
    "x_test = x_test.astype('float32')\n",
    "x_train = x_train / 255.0\n",
    "x_test = x_test / 255.0\n",
    "\n",
    "y_train = keras.utils.to_categorical(y_train, num_classes)\n",
    "y_test = keras.utils.to_categorical(y_test, num_classes)"
   ]
  },
  {
   "cell_type": "code",
   "execution_count": null,
   "metadata": {
    "id": "x4dA34fd4I14"
   },
   "outputs": [],
   "source": [
    "x_shape = x_train[0].shape"
   ]
  },
  {
   "cell_type": "code",
   "execution_count": null,
   "metadata": {
    "colab": {
     "base_uri": "https://localhost:8080/",
     "height": 34
    },
    "id": "GX7kQgV60HXX",
    "outputId": "8b54f2f3-8a37-4dc4-c870-22ccbf856a78"
   },
   "outputs": [
    {
     "name": "stdout",
     "output_type": "stream",
     "text": [
      "Drive already mounted at /content/gdrive/; to attempt to forcibly remount, call drive.mount(\"/content/gdrive/\", force_remount=True).\n"
     ]
    }
   ],
   "source": [
    "from google.colab import drive\n",
    "drive.mount('/content/gdrive/')"
   ]
  },
  {
   "cell_type": "code",
   "execution_count": null,
   "metadata": {
    "id": "pgX7k_aLreV5"
   },
   "outputs": [],
   "source": [
    "def conv2d_bn(x,filters,num_row,num_col,padding='same',strides=(1, 1),name=None):\n",
    "    if K.image_data_format() == 'channels_first':\n",
    "        bn_axis = 1\n",
    "    else:\n",
    "        bn_axis = 3\n",
    "    \n",
    "    x = Conv2D(filters, (num_row, num_col),strides=strides,padding=padding,use_bias=False)(x)\n",
    "    x = Activation('elu')(x)\n",
    "    x = Dropout(0.1)(x)\n",
    "    return x\n",
    "\n",
    "def InceptionV2(input_shape = (32, 32, 3), classes = 100):\n",
    "    X_Input = tf.keras.Input(input_shape)\n",
    "    \n",
    "    if K.image_data_format() == 'channels_first':\n",
    "        channel_axis = 1\n",
    "    else:\n",
    "        channel_axis = 3\n",
    "    x = conv2d_bn(X_Input,32,3,3,strides=(2,2),padding='valid')\n",
    "    x = conv2d_bn(x,32,3,3,strides=(1,1),padding='valid')\n",
    "    x = conv2d_bn(x,64,3,3)\n",
    "    x = MaxPooling2D((3,3),strides=(2,2))(x)\n",
    "\n",
    "    x = conv2d_bn(x,80,1,1,padding='valid')\n",
    "    x = conv2d_bn(x,192,3,3,padding='valid')\n",
    "    x = MaxPooling2D((3,3),strides=(2,2))(x)\n",
    "\n",
    "    # (Inception Layer1) * 3 Times\n",
    "    \n",
    "    #Inception Layer1 #mixed0\n",
    "    branch1_1 = conv2d_bn(x,64,1,1)\n",
    "    \n",
    "    branch5_5 = conv2d_bn(x,48,1,1)\n",
    "    branch5_5 = conv2d_bn(branch5_5,64,3,3)\n",
    "\n",
    "    branch3_3dbl = conv2d_bn(x,64,1,1)\n",
    "    branch3_3dbl = conv2d_bn(branch3_3dbl,96,3,3)\n",
    "    branch3_3dbl = conv2d_bn(branch3_3dbl,96,3,3)\n",
    "\n",
    "    branch_pool = AveragePooling2D((3,3),strides=(1,1),padding='same')(x)\n",
    "    branch_pool = conv2d_bn(branch_pool,32,1,1)\n",
    "\n",
    "    x = layers.concatenate([branch1_1,branch5_5,branch3_3dbl,branch_pool],axis=channel_axis,name='InceptionLayer1')\n",
    "\n",
    "    #Inception Layer2\n",
    "    branch1_1 = conv2d_bn(x,64,1,1)\n",
    "    \n",
    "    branch5_5 = conv2d_bn(x,48,1,1)\n",
    "    branch5_5 = conv2d_bn(branch5_5,64,3,3)\n",
    "\n",
    "    branch3_3dbl = conv2d_bn(x,64,1,1)\n",
    "    branch3_3dbl = conv2d_bn(branch3_3dbl,96,3,3)\n",
    "    branch3_3dbl = conv2d_bn(branch3_3dbl,96,3,3)\n",
    "\n",
    "    branch_pool = AveragePooling2D((3,3),strides=(1,1),padding='same')(x)\n",
    "    branch_pool = conv2d_bn(branch_pool,64,1,1)\n",
    "\n",
    "    x = layers.concatenate([branch1_1,branch5_5,branch3_3dbl,branch_pool],axis=channel_axis,name='InceptionLayer2')\n",
    "\n",
    "    #Inception Layer3\n",
    "    branch1_1 = conv2d_bn(x,64,1,1)\n",
    "    \n",
    "    branch5_5 = conv2d_bn(x,48,1,1)\n",
    "    branch5_5 = conv2d_bn(branch5_5,64,3,3)\n",
    "\n",
    "    branch3_3dbl = conv2d_bn(x,64,1,1)\n",
    "    branch3_3dbl = conv2d_bn(branch3_3dbl,96,3,3)\n",
    "    branch3_3dbl = conv2d_bn(branch3_3dbl,96,3,3)\n",
    "\n",
    "    branch_pool = AveragePooling2D((3,3),strides=(1,1),padding='same')(x)\n",
    "    branch_pool = conv2d_bn(branch_pool,64,1,1)\n",
    "\n",
    "    x = layers.concatenate([branch1_1,branch5_5,branch3_3dbl,branch_pool],axis=channel_axis,name='InceptionLayer3')\n",
    "\n",
    "    #Inception Layer4\n",
    "    branch1_1 = conv2d_bn(x,192,1,1)\n",
    "\n",
    "    branch7_7 = conv2d_bn(x,128,1,1)\n",
    "    branch7_7 = conv2d_bn(branch7_7,128,1,7)\n",
    "    branch7_7 = conv2d_bn(branch7_7,192,7,1)\n",
    "\n",
    "    branch7_7dbl = conv2d_bn(x,128,1,1)\n",
    "    branch7_7dbl = conv2d_bn(branch7_7dbl,128,7,1)\n",
    "    branch7_7dbl = conv2d_bn(branch7_7dbl,128,1,7)\n",
    "    branch7_7dbl = conv2d_bn(branch7_7dbl,128,7,1)\n",
    "    branch7_7dbl = conv2d_bn(branch7_7dbl,192,1,7)\n",
    "\n",
    "    branch_pool = AveragePooling2D((3,3),strides=(1,1),padding='same')(x)\n",
    "    branch_pool = conv2d_bn(branch_pool,192,1,1)\n",
    "    x = layers.concatenate([branch1_1,branch7_7,branch7_7dbl,branch_pool],axis=channel_axis,name='InceptionLayer4')\n",
    "\n",
    "    #Inception Layer5\n",
    "    branch1_1 = conv2d_bn(x,192,1,1)\n",
    "\n",
    "    branch7_7 = conv2d_bn(x,160,1,1)\n",
    "    branch7_7 = conv2d_bn(branch7_7,160,1,7)\n",
    "    branch7_7 = conv2d_bn(branch7_7,192,7,1)\n",
    "\n",
    "    branch7_7dbl = conv2d_bn(x,160,1,1)\n",
    "    branch7_7dbl = conv2d_bn(branch7_7dbl,160,7,1)\n",
    "    branch7_7dbl = conv2d_bn(branch7_7dbl,160,1,7)\n",
    "    branch7_7dbl = conv2d_bn(branch7_7dbl,160,7,1)\n",
    "    branch7_7dbl = conv2d_bn(branch7_7dbl,192,1,7)\n",
    "\n",
    "    branch_pool = AveragePooling2D((3,3),strides=(1,1),padding='same')(x)\n",
    "    branch_pool = conv2d_bn(branch_pool,192,1,1)\n",
    "    x = layers.concatenate([branch1_1,branch7_7,branch7_7dbl,branch_pool],axis=channel_axis,name='InceptionLayer5')\n",
    "\n",
    "    #Inception Layer6 mixed6\n",
    "    branch1_1 = conv2d_bn(x,192,1,1)\n",
    "\n",
    "    branch7_7 = conv2d_bn(x,160,1,1)\n",
    "    branch7_7 = conv2d_bn(branch7_7,160,1,7)\n",
    "    branch7_7 = conv2d_bn(branch7_7,192,7,1)\n",
    "\n",
    "    branch7_7dbl = conv2d_bn(x,160,1,1)\n",
    "    branch7_7dbl = conv2d_bn(branch7_7dbl,160,7,1)\n",
    "    branch7_7dbl = conv2d_bn(branch7_7dbl,160,1,7)\n",
    "    branch7_7dbl = conv2d_bn(branch7_7dbl,160,7,1)\n",
    "    branch7_7dbl = conv2d_bn(branch7_7dbl,192,1,7)\n",
    "\n",
    "    branch_pool = AveragePooling2D((3,3),strides=(1,1),padding='same')(x)\n",
    "    branch_pool = conv2d_bn(branch_pool,192,1,1)\n",
    "    x = layers.concatenate([branch1_1,branch7_7,branch7_7dbl,branch_pool],axis=channel_axis,name='InceptionLayer6')\n",
    "\n",
    "    #Inception Layer7\n",
    "    branch1_1 = conv2d_bn(x,192,1,1)\n",
    "\n",
    "    branch7_7 = conv2d_bn(x,192,1,1)\n",
    "    branch7_7 = conv2d_bn(branch7_7,192,1,7)\n",
    "    branch7_7 = conv2d_bn(branch7_7,192,7,1)\n",
    "\n",
    "    branch7_7dbl = conv2d_bn(x,192,1,1)\n",
    "    branch7_7dbl = conv2d_bn(branch7_7dbl,192,7,1)\n",
    "    branch7_7dbl = conv2d_bn(branch7_7dbl,192,1,7)\n",
    "    branch7_7dbl = conv2d_bn(branch7_7dbl,192,7,1)\n",
    "    branch7_7dbl = conv2d_bn(branch7_7dbl,192,1,7)\n",
    "\n",
    "    branch_pool = AveragePooling2D((3,3),strides=(1,1),padding='same')(x)\n",
    "    branch_pool = conv2d_bn(branch_pool,192,1,1)\n",
    "    x = layers.concatenate([branch1_1,branch7_7,branch7_7dbl,branch_pool],axis=channel_axis,name='InceptionLayer7')\n",
    "\n",
    "    #Inception Layer8\n",
    "    branch1_1 = conv2d_bn(x,192,1,1)\n",
    "\n",
    "    branch7_7 = conv2d_bn(x,192,1,1)\n",
    "    branch7_7 = conv2d_bn(branch7_7,192,1,7)\n",
    "    branch7_7 = conv2d_bn(branch7_7,192,7,1)\n",
    "\n",
    "    branch7_7dbl = conv2d_bn(x,192,1,1)\n",
    "    branch7_7dbl = conv2d_bn(branch7_7dbl,192,7,1)\n",
    "    branch7_7dbl = conv2d_bn(branch7_7dbl,192,1,7)\n",
    "    branch7_7dbl = conv2d_bn(branch7_7dbl,192,7,1)\n",
    "    branch7_7dbl = conv2d_bn(branch7_7dbl,192,1,7)\n",
    "\n",
    "    branch_pool = AveragePooling2D((3,3),strides=(1,1),padding='same')(x)\n",
    "    branch_pool = conv2d_bn(branch_pool,192,1,1)\n",
    "    x = layers.concatenate([branch1_1,branch7_7,branch7_7dbl,branch_pool],axis=channel_axis,name='InceptionLayer8')\n",
    "\n",
    "    #Inception Layer9\n",
    "    branch1_1 = conv2d_bn(x,320,1,1)\n",
    "\n",
    "    branch3_3 = conv2d_bn(x,384,1,1)\n",
    "    branch3_3_1 = conv2d_bn(branch3_3,384,1,3)\n",
    "    branch3_3_2 = conv2d_bn(branch3_3,384,3,1)\n",
    "    branch3_3 = layers.concatenate([branch3_3_1,branch3_3_2],axis=channel_axis,name='InceptionLayer9_1')\n",
    "\n",
    "    branch3_3dbl = conv2d_bn(x,448,1,1)\n",
    "    branch3_3dbl = conv2d_bn(branch3_3dbl,348,1,1)    \n",
    "    branch3_3dbl1 = conv2d_bn(branch3_3,384,1,3)\n",
    "    branch3_3dbl2 = conv2d_bn(branch3_3,384,3,1)\n",
    "    branch3_3dbl = layers.concatenate([branch3_3dbl1,branch3_3dbl2],axis=channel_axis,name='InceptionLayer9_2')\n",
    "\n",
    "    branch_pool = AveragePooling2D((3,3),strides=(1,1),padding='same')(x)\n",
    "    branch_pool = conv2d_bn(branch_pool,192,1,1)\n",
    "    x = layers.concatenate([branch1_1,branch3_3,branch3_3dbl,branch_pool],axis=channel_axis,name='InceptionLayer9')\n",
    "\n",
    "    #Inception Layer10\n",
    "    branch1_1 = conv2d_bn(x,320,1,1)\n",
    "\n",
    "    branch3_3 = conv2d_bn(x,384,1,1)\n",
    "    branch3_3_1 = conv2d_bn(branch3_3,384,1,3)\n",
    "    branch3_3_2 = conv2d_bn(branch3_3,384,3,1)\n",
    "    branch3_3 = layers.concatenate([branch3_3_1,branch3_3_2],axis=channel_axis,name='InceptionLayer10_1')\n",
    "\n",
    "    branch3_3dbl = conv2d_bn(x,448,1,1)\n",
    "    branch3_3dbl = conv2d_bn(branch3_3dbl,348,1,1)    \n",
    "    branch3_3dbl1 = conv2d_bn(branch3_3,384,1,3)\n",
    "    branch3_3dbl2 = conv2d_bn(branch3_3,384,3,1)\n",
    "    branch3_3dbl = layers.concatenate([branch3_3dbl1,branch3_3dbl2],axis=channel_axis,name='InceptionLayer10_2')\n",
    "\n",
    "    branch_pool = AveragePooling2D((3,3),strides=(1,1),padding='same')(x)\n",
    "    branch_pool = conv2d_bn(branch_pool,192,1,1)\n",
    "    x = layers.concatenate([branch1_1,branch3_3,branch3_3dbl,branch_pool],axis=channel_axis,name='InceptionLayer10')\n",
    "\n",
    "    x = GlobalAveragePooling2D(name='avg_pool')(x)\n",
    "    x = Dense(classes,activation='softmax',name='predictions')(x)\n",
    "\n",
    "    model = keras.Model(inputs = X_Input, outputs = x,name='InceptionV2')\n",
    "\n",
    "    return model\n"
   ]
  },
  {
   "cell_type": "code",
   "execution_count": null,
   "metadata": {
    "id": "74EQnw0ClYaw"
   },
   "outputs": [],
   "source": [
    "model = InceptionV2(input_shape = (32, 32, 3), classes = 100)"
   ]
  },
  {
   "cell_type": "code",
   "execution_count": null,
   "metadata": {
    "colab": {
     "base_uri": "https://localhost:8080/",
     "height": 1000
    },
    "id": "uSYaUKYEsXw0",
    "outputId": "ef82283f-4562-48c3-cf51-0814820cbec4"
   },
   "outputs": [
    {
     "name": "stdout",
     "output_type": "stream",
     "text": [
      "Epoch 1/200\n",
      "391/391 - 31s - loss: 4.4709 - accuracy: 0.0200 - val_loss: 4.1925 - val_accuracy: 0.0440\n",
      "Epoch 2/200\n",
      "391/391 - 29s - loss: 4.0536 - accuracy: 0.0682 - val_loss: 3.9197 - val_accuracy: 0.0918\n",
      "Epoch 3/200\n",
      "391/391 - 29s - loss: 3.7743 - accuracy: 0.1102 - val_loss: 3.5165 - val_accuracy: 0.1623\n",
      "Epoch 4/200\n",
      "391/391 - 29s - loss: 3.5554 - accuracy: 0.1456 - val_loss: 3.3243 - val_accuracy: 0.1886\n",
      "Epoch 5/200\n",
      "391/391 - 29s - loss: 3.4202 - accuracy: 0.1690 - val_loss: 3.1927 - val_accuracy: 0.2105\n",
      "Epoch 6/200\n",
      "391/391 - 29s - loss: 3.3151 - accuracy: 0.1896 - val_loss: 3.0990 - val_accuracy: 0.2256\n",
      "Epoch 7/200\n",
      "391/391 - 29s - loss: 3.2141 - accuracy: 0.2056 - val_loss: 3.0012 - val_accuracy: 0.2460\n",
      "Epoch 8/200\n",
      "391/391 - 29s - loss: 3.1392 - accuracy: 0.2190 - val_loss: 2.8991 - val_accuracy: 0.2626\n",
      "Epoch 9/200\n",
      "391/391 - 29s - loss: 3.0635 - accuracy: 0.2360 - val_loss: 2.8103 - val_accuracy: 0.2850\n",
      "Epoch 10/200\n",
      "391/391 - 29s - loss: 2.9987 - accuracy: 0.2484 - val_loss: 2.7478 - val_accuracy: 0.3018\n",
      "Epoch 11/200\n",
      "391/391 - 29s - loss: 2.9530 - accuracy: 0.2560 - val_loss: 2.6717 - val_accuracy: 0.3145\n",
      "Epoch 12/200\n",
      "391/391 - 28s - loss: 2.9050 - accuracy: 0.2654 - val_loss: 2.6687 - val_accuracy: 0.3128\n",
      "Epoch 13/200\n",
      "391/391 - 28s - loss: 2.8614 - accuracy: 0.2733 - val_loss: 2.6513 - val_accuracy: 0.3170\n",
      "Epoch 14/200\n",
      "391/391 - 28s - loss: 2.8226 - accuracy: 0.2824 - val_loss: 2.6428 - val_accuracy: 0.3182\n",
      "Epoch 15/200\n",
      "391/391 - 29s - loss: 2.7920 - accuracy: 0.2868 - val_loss: 2.5489 - val_accuracy: 0.3427\n",
      "Epoch 16/200\n",
      "391/391 - 29s - loss: 2.7635 - accuracy: 0.2961 - val_loss: 2.5518 - val_accuracy: 0.3462\n",
      "Epoch 17/200\n",
      "391/391 - 29s - loss: 2.7338 - accuracy: 0.2994 - val_loss: 2.4919 - val_accuracy: 0.3545\n",
      "Epoch 18/200\n",
      "391/391 - 29s - loss: 2.7063 - accuracy: 0.3065 - val_loss: 2.5455 - val_accuracy: 0.3518\n",
      "Epoch 19/200\n",
      "391/391 - 29s - loss: 2.6815 - accuracy: 0.3107 - val_loss: 2.5175 - val_accuracy: 0.3560\n",
      "Epoch 20/200\n",
      "391/391 - 29s - loss: 2.6547 - accuracy: 0.3184 - val_loss: 2.4687 - val_accuracy: 0.3634\n",
      "Epoch 21/200\n",
      "391/391 - 29s - loss: 2.5288 - accuracy: 0.3461 - val_loss: 2.3376 - val_accuracy: 0.3908\n",
      "Epoch 22/200\n",
      "391/391 - 29s - loss: 2.4956 - accuracy: 0.3500 - val_loss: 2.3146 - val_accuracy: 0.3994\n",
      "Epoch 23/200\n",
      "391/391 - 29s - loss: 2.4822 - accuracy: 0.3518 - val_loss: 2.3626 - val_accuracy: 0.3914\n",
      "Epoch 24/200\n",
      "391/391 - 29s - loss: 2.4626 - accuracy: 0.3583 - val_loss: 2.3232 - val_accuracy: 0.3942\n",
      "Epoch 25/200\n",
      "391/391 - 29s - loss: 2.4572 - accuracy: 0.3614 - val_loss: 2.3011 - val_accuracy: 0.3964\n",
      "Epoch 26/200\n",
      "391/391 - 29s - loss: 2.4438 - accuracy: 0.3625 - val_loss: 2.2982 - val_accuracy: 0.3982\n",
      "Epoch 27/200\n",
      "391/391 - 29s - loss: 2.4256 - accuracy: 0.3671 - val_loss: 2.2864 - val_accuracy: 0.4086\n",
      "Epoch 28/200\n",
      "391/391 - 29s - loss: 2.4148 - accuracy: 0.3677 - val_loss: 2.2760 - val_accuracy: 0.4137\n",
      "Epoch 29/200\n",
      "391/391 - 29s - loss: 2.4084 - accuracy: 0.3679 - val_loss: 2.2498 - val_accuracy: 0.4124\n",
      "Epoch 30/200\n",
      "391/391 - 29s - loss: 2.3970 - accuracy: 0.3712 - val_loss: 2.2711 - val_accuracy: 0.4115\n",
      "Epoch 31/200\n",
      "391/391 - 29s - loss: 2.3789 - accuracy: 0.3772 - val_loss: 2.2525 - val_accuracy: 0.4163\n",
      "Epoch 32/200\n",
      "391/391 - 29s - loss: 2.3697 - accuracy: 0.3784 - val_loss: 2.2504 - val_accuracy: 0.4080\n",
      "Epoch 33/200\n",
      "391/391 - 29s - loss: 2.3628 - accuracy: 0.3807 - val_loss: 2.2385 - val_accuracy: 0.4128\n",
      "Epoch 34/200\n",
      "391/391 - 29s - loss: 2.3449 - accuracy: 0.3808 - val_loss: 2.1936 - val_accuracy: 0.4291\n",
      "Epoch 35/200\n",
      "391/391 - 29s - loss: 2.3364 - accuracy: 0.3863 - val_loss: 2.2646 - val_accuracy: 0.4107\n",
      "Epoch 36/200\n",
      "391/391 - 29s - loss: 2.3248 - accuracy: 0.3865 - val_loss: 2.2246 - val_accuracy: 0.4182\n",
      "Epoch 37/200\n",
      "391/391 - 29s - loss: 2.3241 - accuracy: 0.3868 - val_loss: 2.2666 - val_accuracy: 0.4165\n",
      "Epoch 38/200\n",
      "391/391 - 29s - loss: 2.3095 - accuracy: 0.3899 - val_loss: 2.1920 - val_accuracy: 0.4289\n",
      "Epoch 39/200\n",
      "391/391 - 29s - loss: 2.3046 - accuracy: 0.3918 - val_loss: 2.1935 - val_accuracy: 0.4241\n",
      "Epoch 40/200\n",
      "391/391 - 29s - loss: 2.2941 - accuracy: 0.3936 - val_loss: 2.1899 - val_accuracy: 0.4283\n",
      "Epoch 41/200\n",
      "391/391 - 29s - loss: 2.2276 - accuracy: 0.4067 - val_loss: 2.1259 - val_accuracy: 0.4447\n",
      "Epoch 42/200\n",
      "391/391 - 29s - loss: 2.2070 - accuracy: 0.4110 - val_loss: 2.1773 - val_accuracy: 0.4352\n",
      "Epoch 43/200\n",
      "391/391 - 29s - loss: 2.1912 - accuracy: 0.4152 - val_loss: 2.1569 - val_accuracy: 0.4363\n",
      "Epoch 44/200\n",
      "391/391 - 29s - loss: 2.1930 - accuracy: 0.4160 - val_loss: 2.1332 - val_accuracy: 0.4473\n",
      "Epoch 45/200\n",
      "391/391 - 29s - loss: 2.1929 - accuracy: 0.4164 - val_loss: 2.1209 - val_accuracy: 0.4426\n",
      "Epoch 46/200\n",
      "391/391 - 29s - loss: 2.1763 - accuracy: 0.4199 - val_loss: 2.1169 - val_accuracy: 0.4475\n",
      "Epoch 47/200\n",
      "391/391 - 29s - loss: 2.1741 - accuracy: 0.4195 - val_loss: 2.1188 - val_accuracy: 0.4438\n",
      "Epoch 48/200\n",
      "391/391 - 29s - loss: 2.1541 - accuracy: 0.4248 - val_loss: 2.1033 - val_accuracy: 0.4445\n",
      "Epoch 49/200\n",
      "391/391 - 29s - loss: 2.1601 - accuracy: 0.4203 - val_loss: 2.1187 - val_accuracy: 0.4484\n",
      "Epoch 50/200\n",
      "391/391 - 29s - loss: 2.1513 - accuracy: 0.4233 - val_loss: 2.1210 - val_accuracy: 0.4493\n",
      "Epoch 51/200\n",
      "391/391 - 29s - loss: 2.1510 - accuracy: 0.4265 - val_loss: 2.0792 - val_accuracy: 0.4544\n",
      "Epoch 52/200\n",
      "391/391 - 29s - loss: 2.1446 - accuracy: 0.4262 - val_loss: 2.1159 - val_accuracy: 0.4500\n",
      "Epoch 53/200\n",
      "391/391 - 29s - loss: 2.1441 - accuracy: 0.4269 - val_loss: 2.1285 - val_accuracy: 0.4430\n",
      "Epoch 54/200\n",
      "391/391 - 29s - loss: 2.1375 - accuracy: 0.4266 - val_loss: 2.1059 - val_accuracy: 0.4486\n",
      "Epoch 55/200\n",
      "391/391 - 29s - loss: 2.1245 - accuracy: 0.4305 - val_loss: 2.0882 - val_accuracy: 0.4562\n",
      "Epoch 56/200\n",
      "391/391 - 29s - loss: 2.1330 - accuracy: 0.4271 - val_loss: 2.0774 - val_accuracy: 0.4558\n",
      "Epoch 57/200\n",
      "391/391 - 29s - loss: 2.1122 - accuracy: 0.4331 - val_loss: 2.0973 - val_accuracy: 0.4528\n",
      "Epoch 58/200\n",
      "391/391 - 29s - loss: 2.1143 - accuracy: 0.4312 - val_loss: 2.1396 - val_accuracy: 0.4412\n",
      "Epoch 59/200\n",
      "391/391 - 29s - loss: 2.1138 - accuracy: 0.4292 - val_loss: 2.0920 - val_accuracy: 0.4526\n",
      "Epoch 60/200\n",
      "391/391 - 29s - loss: 2.1052 - accuracy: 0.4323 - val_loss: 2.0782 - val_accuracy: 0.4540\n",
      "Epoch 61/200\n",
      "391/391 - 29s - loss: 2.0746 - accuracy: 0.4431 - val_loss: 2.0703 - val_accuracy: 0.4585\n",
      "Epoch 62/200\n",
      "391/391 - 29s - loss: 2.0639 - accuracy: 0.4444 - val_loss: 2.0695 - val_accuracy: 0.4570\n",
      "Epoch 63/200\n",
      "391/391 - 29s - loss: 2.0550 - accuracy: 0.4458 - val_loss: 2.0750 - val_accuracy: 0.4599\n",
      "Epoch 64/200\n",
      "391/391 - 29s - loss: 2.0381 - accuracy: 0.4496 - val_loss: 2.0468 - val_accuracy: 0.4648\n",
      "Epoch 65/200\n",
      "391/391 - 29s - loss: 2.0490 - accuracy: 0.4455 - val_loss: 2.0498 - val_accuracy: 0.4623\n",
      "Epoch 66/200\n",
      "391/391 - 28s - loss: 2.0486 - accuracy: 0.4466 - val_loss: 2.0583 - val_accuracy: 0.4627\n",
      "Epoch 67/200\n",
      "391/391 - 28s - loss: 2.0412 - accuracy: 0.4460 - val_loss: 2.0512 - val_accuracy: 0.4602\n",
      "Epoch 68/200\n",
      "391/391 - 29s - loss: 2.0429 - accuracy: 0.4448 - val_loss: 2.0517 - val_accuracy: 0.4641\n",
      "Epoch 69/200\n",
      "391/391 - 28s - loss: 2.0427 - accuracy: 0.4458 - val_loss: 2.0440 - val_accuracy: 0.4642\n"
     ]
    }
   ],
   "source": [
    "batch_size = 128\n",
    "maxepoches = 200\n",
    "learning_rate = 0.01\n",
    "lr_decay = 1e-6\n",
    "lr_drop = 20\n",
    "\n",
    "def lr_scheduler(epoch):\n",
    "    return learning_rate * (0.5 ** (epoch // lr_drop))\n",
    "reduce_lr = keras.callbacks.LearningRateScheduler(lr_scheduler)\n",
    "\n",
    "callback = tf.keras.callbacks.EarlyStopping(monitor='loss', patience=5)\n",
    "\n",
    "#data augmentation\n",
    "datagen = ImageDataGenerator(\n",
    "    rotation_range=15,  # randomly rotate images in the range (degrees, 0 to 180)\n",
    "    width_shift_range=0.1,  # randomly shift images horizontally (fraction of total width)\n",
    "    height_shift_range=0.1,  # randomly shift images vertically (fraction of total height)\n",
    "    horizontal_flip=True,  # randomly flip images\n",
    "    vertical_flip=False)  # randomly flip images\n",
    "\n",
    "sgd = optimizers.SGD(lr=learning_rate,decay=lr_decay, momentum=0.9, nesterov=True)\n",
    "model.compile(loss='categorical_crossentropy', optimizer=sgd,metrics=['accuracy'])\n",
    "\n",
    "\n",
    "# training process in a for loop with learning rate drop every 25 epoches.\n",
    "\n",
    "history = model.fit(datagen.flow(x_train, y_train,\n",
    "                                 batch_size=batch_size),\n",
    "                    epochs=maxepoches,\n",
    "                    validation_data=(x_test, y_test),callbacks=[callback,reduce_lr],verbose=2)\n",
    "\n",
    "model.save_weights(\"/content/gdrive/My Drive/checkpoint/InceptionV2_SGD_Dropout.ckpt\")"
   ]
  },
  {
   "cell_type": "code",
   "execution_count": null,
   "metadata": {
    "colab": {
     "base_uri": "https://localhost:8080/"
    },
    "id": "hwmqO8yjo-fh",
    "outputId": "164195f8-5255-49d6-bd56-da6471985dbf"
   },
   "outputs": [
    {
     "data": {
      "image/png": "[encoded data removed]",
      "text/plain": [
       "<Figure size 432x288 with 1 Axes>"
      ]
     },
     "metadata": {
      "needs_background": "light",
      "tags": []
     },
     "output_type": "display_data"
    }
   ],
   "source": [
    "# summarize history for accuracy\n",
    "plt.plot(history.history['accuracy'])\n",
    "plt.plot(history.history['val_accuracy'])\n",
    "plt.title('model accuracy')\n",
    "plt.ylabel('accuracy')\n",
    "plt.xlabel('epoch')\n",
    "plt.legend(['train', 'test'], loc='upper left')\n",
    "plt.show()"
   ]
  },
  {
   "cell_type": "code",
   "execution_count": null,
   "metadata": {
    "colab": {
     "base_uri": "https://localhost:8080/",
     "height": 295
    },
    "id": "_LSMaQxdpFDN",
    "outputId": "95b215bc-74f9-473e-e80d-07418a9a437b"
   },
   "outputs": [
    {
     "data": {
      "image/png": "[encoded data removed]",
      "text/plain": [
       "<Figure size 432x288 with 1 Axes>"
      ]
     },
     "metadata": {
      "needs_background": "light",
      "tags": []
     },
     "output_type": "display_data"
    }
   ],
   "source": [
    "# summarize history for loss\n",
    "plt.plot(history.history['loss'])\n",
    "plt.plot(history.history['val_loss'])\n",
    "plt.title('model loss')\n",
    "plt.ylabel('loss')\n",
    "plt.xlabel('epoch')\n",
    "plt.legend(['train', 'test'], loc='upper left')\n",
    "plt.show()"
   ]
  },
  {
   "cell_type": "code",
   "execution_count": null,
   "metadata": {
    "colab": {
     "base_uri": "https://localhost:8080/",
     "height": 50
    },
    "id": "3sT0qOEQrKXX",
    "outputId": "319a6940-aa71-4244-cc54-bbffb951c42f"
   },
   "outputs": [
    {
     "name": "stdout",
     "output_type": "stream",
     "text": [
      "Precision Is: 0.46703224578506086\n",
      "Recall Is: 0.4642\n"
     ]
    }
   ],
   "source": [
    "import pandas as pd\n",
    "from keras.datasets import cifar100\n",
    "from sklearn.metrics import precision_score\n",
    "from sklearn.metrics import recall_score\n",
    "(x_train, y_train), (x_test, y_test) = cifar100.load_data()\n",
    "x_test = x_test.astype('float32')\n",
    "x_test = x_test / 255.0\n",
    "y_pred = model.predict(x_test)\n",
    "y_pred=np.argmax(y_pred,axis=1)\n",
    "y_pred=pd.DataFrame(y_pred)\n",
    "y_test=pd.DataFrame(y_test)\n",
    "\n",
    "p=precision_score(y_test, y_pred,average='weighted',labels=np.unique(y_pred))\n",
    "r=recall_score(y_test,y_pred,average='micro',labels=np.unique(y_pred))\n",
    "print('Precision Is:',p)\n",
    "print('Recall Is:',r)"
   ]
  }
 ],
 "metadata": {
  "accelerator": "GPU",
  "colab": {
   "collapsed_sections": [],
   "name": "InceptionV2_SGD_Dropout",
   "provenance": []
  },
  "kernelspec": {
   "display_name": "Python 3",
   "language": "python",
   "name": "python3"
  },
  "language_info": {
   "codemirror_mode": {
    "name": "ipython",
    "version": 3
   },
   "file_extension": ".py",
   "mimetype": "text/x-python",
   "name": "python",
   "nbconvert_exporter": "python",
   "pygments_lexer": "ipython3",
   "version": "3.8.3"
  }
 },
 "nbformat": 4,
 "nbformat_minor": 1
}
