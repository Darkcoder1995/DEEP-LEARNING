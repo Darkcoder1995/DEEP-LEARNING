{
 "cells": [
  {
   "cell_type": "code",
   "execution_count": null,
   "metadata": {
    "id": "8LqF_u_IuWLe"
   },
   "outputs": [],
   "source": [
    "import keras\n",
    "from keras.models import Sequential\n",
    "from keras.preprocessing.image import ImageDataGenerator\n",
    "from keras.layers.core import Flatten, Dense, Dropout\n",
    "from keras.layers.convolutional import Convolution2D, MaxPooling2D, ZeroPadding2D\n",
    "from keras.optimizers import SGD\n",
    "from keras.layers import Dense, Dropout, Activation, Flatten\n",
    "from keras.layers import Conv2D, BatchNormalization\n",
    "import numpy as np\n",
    "import tensorflow as tf\n",
    "from tensorflow.python.keras.metrics import Metric\n",
    "from keras import optimizers\n",
    "import numpy as np\n",
    "from keras.layers.core import Lambda\n",
    "from keras import backend as K\n",
    "from keras import regularizers\n",
    "import matplotlib.pyplot as plt "
   ]
  },
  {
   "cell_type": "code",
   "execution_count": null,
   "metadata": {
    "id": "EDF-SMBqWwn7"
   },
   "outputs": [],
   "source": [
    "# REFERENCED FROM https://github.com/fchollet/deep-learning-models/blob/master/vgg16.py"
   ]
  },
  {
   "cell_type": "code",
   "execution_count": null,
   "metadata": {
    "id": "PSSdw1rYm93Y"
   },
   "outputs": [],
   "source": [
    "num_classes=100"
   ]
  },
  {
   "cell_type": "code",
   "execution_count": null,
   "metadata": {
    "id": "F0-GRoxokntc"
   },
   "outputs": [],
   "source": [
    "from keras.datasets import cifar100\n",
    "(x_train, y_train), (x_test, y_test) = cifar100.load_data()\n",
    "x_train = x_train.astype('float32')\n",
    "x_test = x_test.astype('float32')\n",
    "x_train = x_train / 255.0\n",
    "x_test = x_test / 255.0\n",
    "\n",
    "y_train = keras.utils.to_categorical(y_train, num_classes)\n",
    "y_test = keras.utils.to_categorical(y_test, num_classes)"
   ]
  },
  {
   "cell_type": "code",
   "execution_count": null,
   "metadata": {
    "id": "x4dA34fd4I14"
   },
   "outputs": [],
   "source": [
    "x_shape = x_train[0].shape"
   ]
  },
  {
   "cell_type": "code",
   "execution_count": null,
   "metadata": {
    "id": "7oFpN8TfF-PH"
   },
   "outputs": [],
   "source": [
    "model = Sequential()\n",
    "model.add(Conv2D(64, (3, 3), padding='same'))\n",
    "model.add(Activation('elu'))\n",
    "model.add(BatchNormalization())\n",
    "model.add(Conv2D(64, (3, 3), padding='same'))\n",
    "model.add(Activation('elu'))\n",
    "model.add(BatchNormalization())\n",
    "\n",
    "\n",
    "model.add(MaxPooling2D(pool_size=(2, 2)))\n",
    "\n",
    "model.add(Conv2D(128, (3, 3), padding='same'))\n",
    "model.add(Activation('elu'))\n",
    "model.add(BatchNormalization())\n",
    "model.add(Conv2D(128, (3, 3), padding='same'))\n",
    "model.add(Activation('elu'))\n",
    "model.add(BatchNormalization())\n",
    "\n",
    "model.add(MaxPooling2D(pool_size=(2, 2)))\n",
    "\n",
    "model.add(Conv2D(256, (3, 3), padding='same'))\n",
    "model.add(Activation('elu'))\n",
    "model.add(BatchNormalization())\n",
    "model.add(Conv2D(256, (3, 3), padding='same'))\n",
    "model.add(Activation('elu'))\n",
    "model.add(BatchNormalization())\n",
    "model.add(Conv2D(256, (3, 3), padding='same'))\n",
    "model.add(Activation('elu'))\n",
    "model.add(BatchNormalization())\n",
    "\n",
    "model.add(MaxPooling2D(pool_size=(2, 2)))\n",
    "\n",
    "\n",
    "model.add(Conv2D(512, (3, 3), padding='same'))\n",
    "model.add(Activation('elu'))\n",
    "model.add(BatchNormalization())\n",
    "model.add(Conv2D(512, (3, 3), padding='same'))\n",
    "model.add(Activation('elu'))\n",
    "model.add(BatchNormalization())\n",
    "model.add(Conv2D(512, (3, 3), padding='same'))\n",
    "model.add(Activation('elu'))\n",
    "model.add(BatchNormalization())\n",
    "\n",
    "model.add(MaxPooling2D(pool_size=(2, 2)))\n",
    "\n",
    "\n",
    "model.add(Conv2D(512, (3, 3), padding='same'))\n",
    "model.add(Activation('elu'))\n",
    "model.add(BatchNormalization())\n",
    "model.add(Conv2D(512, (3, 3), padding='same'))\n",
    "model.add(Activation('elu'))\n",
    "model.add(BatchNormalization())\n",
    "model.add(Conv2D(512, (3, 3), padding='same'))\n",
    "model.add(Activation('elu'))\n",
    "model.add(BatchNormalization())\n",
    "\n",
    "model.add(MaxPooling2D(pool_size=(2, 2)))\n",
    "\n",
    "model.add(Flatten())\n",
    "model.add(Dense(512))\n",
    "model.add(Activation('elu'))\n",
    "model.add(BatchNormalization())\n",
    "\n",
    "model.add(Dense(num_classes))\n",
    "model.add(Activation('softmax'))"
   ]
  },
  {
   "cell_type": "code",
   "execution_count": null,
   "metadata": {
    "colab": {
     "base_uri": "https://localhost:8080/",
     "height": 34
    },
    "id": "No187CrGY28K",
    "outputId": "30923043-2693-47fa-fbd7-790aeca205fa"
   },
   "outputs": [
    {
     "name": "stdout",
     "output_type": "stream",
     "text": [
      "Drive already mounted at /content/gdrive/; to attempt to forcibly remount, call drive.mount(\"/content/gdrive/\", force_remount=True).\n"
     ]
    }
   ],
   "source": [
    "from google.colab import drive\n",
    "drive.mount('/content/gdrive/')"
   ]
  },
  {
   "cell_type": "code",
   "execution_count": null,
   "metadata": {
    "colab": {
     "base_uri": "https://localhost:8080/",
     "height": 722
    },
    "id": "u2l3k9xv2B32",
    "outputId": "632e5c13-d83d-4863-f50b-d469a0a77727"
   },
   "outputs": [
    {
     "name": "stdout",
     "output_type": "stream",
     "text": [
      "Epoch 1/100\n",
      "390/390 - 34s - loss: 3.3836 - accuracy: 0.2024 - val_loss: 4.1583 - val_accuracy: 0.1028\n",
      "Epoch 2/100\n",
      "390/390 - 32s - loss: 2.6867 - accuracy: 0.3201 - val_loss: 2.6764 - val_accuracy: 0.3307\n",
      "Epoch 3/100\n",
      "390/390 - 32s - loss: 2.3419 - accuracy: 0.3915 - val_loss: 2.5299 - val_accuracy: 0.3740\n",
      "Epoch 4/100\n",
      "390/390 - 33s - loss: 2.1107 - accuracy: 0.4396 - val_loss: 2.2851 - val_accuracy: 0.4142\n",
      "Epoch 5/100\n",
      "390/390 - 33s - loss: 1.9157 - accuracy: 0.4849 - val_loss: 2.1584 - val_accuracy: 0.4513\n",
      "Epoch 6/100\n",
      "390/390 - 33s - loss: 1.7528 - accuracy: 0.5227 - val_loss: 2.0747 - val_accuracy: 0.4708\n",
      "Epoch 7/100\n",
      "390/390 - 33s - loss: 1.6181 - accuracy: 0.5536 - val_loss: 2.0335 - val_accuracy: 0.4799\n",
      "Epoch 8/100\n",
      "390/390 - 33s - loss: 1.4895 - accuracy: 0.5852 - val_loss: 1.8551 - val_accuracy: 0.5132\n",
      "Epoch 9/100\n",
      "390/390 - 32s - loss: 1.3711 - accuracy: 0.6138 - val_loss: 1.9815 - val_accuracy: 0.4954\n",
      "Epoch 10/100\n",
      "390/390 - 32s - loss: 1.2643 - accuracy: 0.6398 - val_loss: 1.9013 - val_accuracy: 0.5159\n",
      "Epoch 11/100\n",
      "390/390 - 33s - loss: 1.1625 - accuracy: 0.6667 - val_loss: 1.7590 - val_accuracy: 0.5412\n",
      "Epoch 12/100\n",
      "390/390 - 32s - loss: 1.0671 - accuracy: 0.6906 - val_loss: 1.7930 - val_accuracy: 0.5427\n",
      "Epoch 13/100\n",
      "390/390 - 33s - loss: 0.9736 - accuracy: 0.7140 - val_loss: 1.7874 - val_accuracy: 0.5486\n",
      "Epoch 14/100\n",
      "390/390 - 32s - loss: 0.8942 - accuracy: 0.7369 - val_loss: 1.8219 - val_accuracy: 0.5463\n",
      "Epoch 15/100\n",
      "390/390 - 33s - loss: 0.8105 - accuracy: 0.7608 - val_loss: 1.9563 - val_accuracy: 0.5253\n",
      "Epoch 16/100\n",
      "390/390 - 32s - loss: 0.7293 - accuracy: 0.7823 - val_loss: 1.8019 - val_accuracy: 0.5500\n",
      "Epoch 17/100\n",
      "390/390 - 32s - loss: 0.6654 - accuracy: 0.8001 - val_loss: 1.8711 - val_accuracy: 0.5512\n",
      "Epoch 18/100\n",
      "390/390 - 33s - loss: 0.5955 - accuracy: 0.8209 - val_loss: 1.8081 - val_accuracy: 0.5555\n",
      "Epoch 19/100\n",
      "390/390 - 33s - loss: 0.5394 - accuracy: 0.8389 - val_loss: 1.7810 - val_accuracy: 0.5710\n",
      "Epoch 20/100\n",
      "390/390 - 33s - loss: 0.4820 - accuracy: 0.8541 - val_loss: 1.8432 - val_accuracy: 0.5673\n",
      "Epoch 21/100\n",
      "390/390 - 33s - loss: 0.4380 - accuracy: 0.8690 - val_loss: 2.0237 - val_accuracy: 0.5441\n"
     ]
    }
   ],
   "source": [
    "batch_size = 128\n",
    "maxepoches = 100\n",
    "learning_rate = 0.0001\n",
    "\n",
    "\n",
    "#checkpoint_path = \"/content/gdrive/My Drive/checkpoint/VGG16_SGD_NoRegularization.ckpt\"\n",
    "#cp_callbacks = tf.keras.callbacks.ModelCheckpoint(filepath=checkpoint_path,save_weights_only=True,verbose=1)\n",
    "callback = tf.keras.callbacks.EarlyStopping(monitor='val_loss', patience=10)\n",
    "\n",
    "#data augmentation\n",
    "datagen = ImageDataGenerator(\n",
    "    rotation_range=15,  # randomly rotate images in the range (degrees, 0 to 180)\n",
    "    width_shift_range=0.1,  # randomly shift images horizontally (fraction of total width)\n",
    "    height_shift_range=0.1,  # randomly shift images vertically (fraction of total height)\n",
    "    horizontal_flip=True,  # randomly flip images\n",
    "    vertical_flip=False)  # randomly flip images\n",
    "\n",
    "\n",
    "#optimization details\n",
    "sgd = optimizers.Adam(lr=learning_rate)\n",
    "model.compile(loss='categorical_crossentropy', optimizer=sgd,metrics=['accuracy'])\n",
    "\n",
    "\n",
    "# training process in a for loop with learning rate drop every 25 epoches.\n",
    "\n",
    "history = model.fit(datagen.flow(x_train, y_train,\n",
    "                                 batch_size=batch_size),\n",
    "                    steps_per_epoch=x_train.shape[0] // batch_size,\n",
    "                    epochs=maxepoches,\n",
    "                    validation_data=(x_test, y_test),callbacks=[callback],verbose=2)\n",
    "model.save_weights(\"/content/gdrive/My Drive/checkpoint/VGG16_ADAM_BatchNormalization.ckpt\")"
   ]
  },
  {
   "cell_type": "code",
   "execution_count": null,
   "metadata": {
    "colab": {
     "base_uri": "https://localhost:8080/"
    },
    "id": "hwmqO8yjo-fh",
    "outputId": "281dbce3-3bc2-4d48-e8b1-ace74e4faf1a"
   },
   "outputs": [
    {
     "data": {
      "image/png": "[encoded data removed]",
      "text/plain": [
       "<Figure size 432x288 with 1 Axes>"
      ]
     },
     "metadata": {
      "needs_background": "light",
      "tags": []
     },
     "output_type": "display_data"
    }
   ],
   "source": [
    "# summarize history for accuracy\n",
    "plt.plot(history.history['accuracy'])\n",
    "plt.plot(history.history['val_accuracy'])\n",
    "plt.title('model accuracy')\n",
    "plt.ylabel('accuracy')\n",
    "plt.xlabel('epoch')\n",
    "plt.legend(['train', 'test'], loc='upper left')\n",
    "plt.show()"
   ]
  },
  {
   "cell_type": "code",
   "execution_count": null,
   "metadata": {
    "colab": {
     "base_uri": "https://localhost:8080/"
    },
    "id": "_LSMaQxdpFDN",
    "outputId": "702fd655-d1f8-4e94-ef95-a7e2a04978ca"
   },
   "outputs": [
    {
     "data": {
      "image/png": "[encoded data removed]",
      "text/plain": [
       "<Figure size 432x288 with 1 Axes>"
      ]
     },
     "metadata": {
      "needs_background": "light",
      "tags": []
     },
     "output_type": "display_data"
    }
   ],
   "source": [
    "# summarize history for loss\n",
    "plt.plot(history.history['loss'])\n",
    "plt.plot(history.history['val_loss'])\n",
    "plt.title('model loss')\n",
    "plt.ylabel('loss')\n",
    "plt.xlabel('epoch')\n",
    "plt.legend(['train', 'test'], loc='upper left')\n",
    "plt.show()"
   ]
  },
  {
   "cell_type": "code",
   "execution_count": null,
   "metadata": {
    "colab": {
     "base_uri": "https://localhost:8080/",
     "height": 50
    },
    "id": "3sT0qOEQrKXX",
    "outputId": "6f845390-ec09-44f3-e967-a08344a342af"
   },
   "outputs": [
    {
     "name": "stdout",
     "output_type": "stream",
     "text": [
      "Precision Is: 0.5767575771272176\n",
      "Recall Is: 0.5441\n"
     ]
    }
   ],
   "source": [
    "import pandas as pd\n",
    "from keras.datasets import cifar100\n",
    "from sklearn.metrics import precision_score\n",
    "from sklearn.metrics import recall_score\n",
    "(x_train, y_train), (x_test, y_test) = cifar100.load_data()\n",
    "x_test = x_test.astype('float32')\n",
    "x_test = x_test / 255.0\n",
    "y_pred = model.predict(x_test)\n",
    "y_pred=np.argmax(y_pred,axis=1)\n",
    "y_pred=pd.DataFrame(y_pred)\n",
    "y_test=pd.DataFrame(y_test)\n",
    "\n",
    "p=precision_score(y_test, y_pred,average='weighted',labels=np.unique(y_pred))\n",
    "r=recall_score(y_test,y_pred,average='micro',labels=np.unique(y_pred))\n",
    "print('Precision Is:',p)\n",
    "print('Recall Is:',r)"
   ]
  }
 ],
 "metadata": {
  "accelerator": "GPU",
  "colab": {
   "collapsed_sections": [],
   "name": "VGG16_ADAM_BatchNormalization.ipynb",
   "provenance": []
  },
  "kernelspec": {
   "display_name": "Python 3",
   "language": "python",
   "name": "python3"
  },
  "language_info": {
   "codemirror_mode": {
    "name": "ipython",
    "version": 3
   },
   "file_extension": ".py",
   "mimetype": "text/x-python",
   "name": "python",
   "nbconvert_exporter": "python",
   "pygments_lexer": "ipython3",
   "version": "3.8.3"
  }
 },
 "nbformat": 4,
 "nbformat_minor": 1
}
