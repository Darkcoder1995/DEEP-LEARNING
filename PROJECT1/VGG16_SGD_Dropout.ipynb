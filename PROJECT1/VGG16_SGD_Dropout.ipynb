{
 "cells": [
  {
   "cell_type": "code",
   "execution_count": null,
   "metadata": {
    "id": "8LqF_u_IuWLe"
   },
   "outputs": [],
   "source": [
    "import keras\n",
    "from keras.models import Sequential\n",
    "from keras.preprocessing.image import ImageDataGenerator\n",
    "from keras.layers.core import Flatten, Dense, Dropout\n",
    "from keras.layers.convolutional import Convolution2D, MaxPooling2D, ZeroPadding2D\n",
    "from keras.optimizers import SGD\n",
    "from keras.layers import Dense, Dropout, Activation, Flatten\n",
    "from keras.layers import Conv2D, BatchNormalization\n",
    "import numpy as np\n",
    "import tensorflow as tf\n",
    "from tensorflow.python.keras.metrics import Metric\n",
    "from keras import optimizers\n",
    "import numpy as np\n",
    "from keras.layers.core import Lambda\n",
    "from keras import backend as K\n",
    "from keras import regularizers\n",
    "import matplotlib.pyplot as plt "
   ]
  },
  {
   "cell_type": "code",
   "execution_count": null,
   "metadata": {
    "id": "52q4TJmoW1iZ"
   },
   "outputs": [],
   "source": [
    "# REFERENCED FROM https://github.com/fchollet/deep-learning-models/blob/master/vgg16.py"
   ]
  },
  {
   "cell_type": "code",
   "execution_count": null,
   "metadata": {
    "id": "PSSdw1rYm93Y"
   },
   "outputs": [],
   "source": [
    "num_classes=100"
   ]
  },
  {
   "cell_type": "code",
   "execution_count": null,
   "metadata": {
    "id": "F0-GRoxokntc"
   },
   "outputs": [],
   "source": [
    "from keras.datasets import cifar100\n",
    "(x_train, y_train), (x_test, y_test) = cifar100.load_data()\n",
    "x_train = x_train.astype('float32')\n",
    "x_test = x_test.astype('float32')\n",
    "x_train = x_train / 255.0\n",
    "x_test = x_test / 255.0\n",
    "\n",
    "y_train = keras.utils.to_categorical(y_train, num_classes)\n",
    "y_test = keras.utils.to_categorical(y_test, num_classes)"
   ]
  },
  {
   "cell_type": "code",
   "execution_count": null,
   "metadata": {
    "id": "x4dA34fd4I14"
   },
   "outputs": [],
   "source": [
    "x_shape = x_train[0].shape"
   ]
  },
  {
   "cell_type": "code",
   "execution_count": null,
   "metadata": {
    "id": "7oFpN8TfF-PH"
   },
   "outputs": [],
   "source": [
    "model = Sequential()\n",
    "model.add(Conv2D(64, (3, 3), padding='same'))\n",
    "model.add(Activation('relu'))\n",
    "model.add(Conv2D(64, (3, 3), padding='same'))\n",
    "model.add(Activation('relu'))\n",
    "model.add(Dropout(0.2))\n",
    "\n",
    "\n",
    "model.add(MaxPooling2D(pool_size=(2, 2)))\n",
    "\n",
    "model.add(Conv2D(128, (3, 3), padding='same'))\n",
    "model.add(Activation('relu'))\n",
    "model.add(Conv2D(128, (3, 3), padding='same'))\n",
    "model.add(Activation('relu'))\n",
    "\n",
    "model.add(MaxPooling2D(pool_size=(2, 2)))\n",
    "\n",
    "model.add(Conv2D(256, (3, 3), padding='same'))\n",
    "model.add(Activation('relu'))\n",
    "model.add(Conv2D(256, (3, 3), padding='same'))\n",
    "model.add(Activation('relu'))\n",
    "model.add(Conv2D(256, (3, 3), padding='same'))\n",
    "model.add(Activation('relu'))\n",
    "model.add(Dropout(0.2))\n",
    "model.add(MaxPooling2D(pool_size=(2, 2)))\n",
    "\n",
    "\n",
    "model.add(Conv2D(512, (3, 3), padding='same'))\n",
    "model.add(Activation('relu'))\n",
    "model.add(Conv2D(512, (3, 3), padding='same'))\n",
    "model.add(Activation('relu'))\n",
    "model.add(Conv2D(512, (3, 3), padding='same'))\n",
    "model.add(Activation('relu'))\n",
    "\n",
    "model.add(MaxPooling2D(pool_size=(2, 2)))\n",
    "\n",
    "\n",
    "model.add(Conv2D(512, (3, 3), padding='same'))\n",
    "model.add(Activation('relu'))\n",
    "model.add(Conv2D(512, (3, 3), padding='same'))\n",
    "model.add(Activation('relu'))\n",
    "model.add(Conv2D(512, (3, 3), padding='same'))\n",
    "model.add(Activation('relu'))\n",
    "model.add(Dropout(0.2))\n",
    "model.add(MaxPooling2D(pool_size=(2, 2)))\n",
    "\n",
    "model.add(Flatten())\n",
    "model.add(Dense(512))\n",
    "model.add(Activation('relu'))\n",
    "\n",
    "model.add(Dense(num_classes))\n",
    "model.add(Activation('softmax'))"
   ]
  },
  {
   "cell_type": "code",
   "execution_count": null,
   "metadata": {
    "colab": {
     "base_uri": "https://localhost:8080/",
     "height": 34
    },
    "id": "No187CrGY28K",
    "outputId": "6f30b92f-3f44-49bb-f8ca-7392337bbf91"
   },
   "outputs": [
    {
     "name": "stdout",
     "output_type": "stream",
     "text": [
      "Drive already mounted at /content/gdrive/; to attempt to forcibly remount, call drive.mount(\"/content/gdrive/\", force_remount=True).\n"
     ]
    }
   ],
   "source": [
    "from google.colab import drive\n",
    "drive.mount('/content/gdrive/')"
   ]
  },
  {
   "cell_type": "code",
   "execution_count": null,
   "metadata": {
    "colab": {
     "base_uri": "https://localhost:8080/",
     "height": 1000
    },
    "id": "u2l3k9xv2B32",
    "outputId": "a93438cf-aec2-49cc-c2ab-3b8cf01d64b6"
   },
   "outputs": [
    {
     "name": "stdout",
     "output_type": "stream",
     "text": [
      "Epoch 1/100\n",
      "390/390 - 54s - loss: 4.6056 - accuracy: 0.0093 - val_loss: 4.6051 - val_accuracy: 0.0167\n",
      "Epoch 2/100\n",
      "390/390 - 51s - loss: 4.6055 - accuracy: 0.0091 - val_loss: 4.6050 - val_accuracy: 0.0100\n",
      "Epoch 3/100\n",
      "390/390 - 51s - loss: 4.6049 - accuracy: 0.0110 - val_loss: 4.6035 - val_accuracy: 0.0123\n",
      "Epoch 4/100\n",
      "390/390 - 51s - loss: 4.5673 - accuracy: 0.0151 - val_loss: 4.5128 - val_accuracy: 0.0195\n",
      "Epoch 5/100\n",
      "390/390 - 51s - loss: 4.4470 - accuracy: 0.0226 - val_loss: 4.4136 - val_accuracy: 0.0297\n",
      "Epoch 6/100\n",
      "390/390 - 51s - loss: 4.2999 - accuracy: 0.0335 - val_loss: 4.3243 - val_accuracy: 0.0301\n",
      "Epoch 7/100\n",
      "390/390 - 51s - loss: 4.0390 - accuracy: 0.0620 - val_loss: 3.9462 - val_accuracy: 0.0709\n",
      "Epoch 8/100\n",
      "390/390 - 51s - loss: 3.8541 - accuracy: 0.0913 - val_loss: 3.9144 - val_accuracy: 0.0861\n",
      "Epoch 9/100\n",
      "390/390 - 51s - loss: 3.6961 - accuracy: 0.1184 - val_loss: 3.7131 - val_accuracy: 0.1295\n",
      "Epoch 10/100\n",
      "390/390 - 51s - loss: 3.5484 - accuracy: 0.1424 - val_loss: 3.6323 - val_accuracy: 0.1412\n",
      "Epoch 11/100\n",
      "390/390 - 51s - loss: 3.3898 - accuracy: 0.1711 - val_loss: 3.4185 - val_accuracy: 0.1821\n",
      "Epoch 12/100\n",
      "390/390 - 51s - loss: 3.2200 - accuracy: 0.2033 - val_loss: 3.1946 - val_accuracy: 0.2254\n",
      "Epoch 13/100\n",
      "390/390 - 51s - loss: 3.0487 - accuracy: 0.2341 - val_loss: 3.0455 - val_accuracy: 0.2453\n",
      "Epoch 14/100\n",
      "390/390 - 51s - loss: 2.9047 - accuracy: 0.2632 - val_loss: 2.9664 - val_accuracy: 0.2633\n",
      "Epoch 15/100\n",
      "390/390 - 51s - loss: 2.7605 - accuracy: 0.2919 - val_loss: 2.7346 - val_accuracy: 0.3121\n",
      "Epoch 16/100\n",
      "390/390 - 51s - loss: 2.6157 - accuracy: 0.3207 - val_loss: 2.6535 - val_accuracy: 0.3235\n",
      "Epoch 17/100\n",
      "390/390 - 51s - loss: 2.4904 - accuracy: 0.3460 - val_loss: 2.4869 - val_accuracy: 0.3675\n",
      "Epoch 18/100\n",
      "390/390 - 51s - loss: 2.3726 - accuracy: 0.3735 - val_loss: 2.4670 - val_accuracy: 0.3673\n",
      "Epoch 19/100\n",
      "390/390 - 51s - loss: 2.2566 - accuracy: 0.3980 - val_loss: 2.3521 - val_accuracy: 0.3883\n",
      "Epoch 20/100\n",
      "390/390 - 51s - loss: 2.1504 - accuracy: 0.4218 - val_loss: 2.2419 - val_accuracy: 0.4218\n",
      "Epoch 21/100\n",
      "390/390 - 51s - loss: 1.9201 - accuracy: 0.4756 - val_loss: 2.0449 - val_accuracy: 0.4571\n",
      "Epoch 22/100\n",
      "390/390 - 51s - loss: 1.8416 - accuracy: 0.4936 - val_loss: 2.0472 - val_accuracy: 0.4585\n",
      "Epoch 23/100\n",
      "390/390 - 51s - loss: 1.7827 - accuracy: 0.5059 - val_loss: 2.1055 - val_accuracy: 0.4470\n",
      "Epoch 24/100\n",
      "390/390 - 51s - loss: 1.7272 - accuracy: 0.5188 - val_loss: 2.0621 - val_accuracy: 0.4563\n",
      "Epoch 25/100\n",
      "390/390 - 51s - loss: 1.6777 - accuracy: 0.5325 - val_loss: 1.9089 - val_accuracy: 0.4931\n",
      "Epoch 26/100\n",
      "390/390 - 51s - loss: 1.6199 - accuracy: 0.5419 - val_loss: 1.9976 - val_accuracy: 0.4737\n",
      "Epoch 27/100\n",
      "390/390 - 51s - loss: 1.5770 - accuracy: 0.5545 - val_loss: 1.8807 - val_accuracy: 0.4940\n",
      "Epoch 28/100\n",
      "390/390 - 51s - loss: 1.5229 - accuracy: 0.5694 - val_loss: 1.9197 - val_accuracy: 0.4935\n",
      "Epoch 29/100\n",
      "390/390 - 51s - loss: 1.4768 - accuracy: 0.5788 - val_loss: 1.8442 - val_accuracy: 0.5076\n",
      "Epoch 30/100\n",
      "390/390 - 51s - loss: 1.4305 - accuracy: 0.5918 - val_loss: 1.8019 - val_accuracy: 0.5151\n",
      "Epoch 31/100\n",
      "390/390 - 51s - loss: 1.3869 - accuracy: 0.6012 - val_loss: 1.9530 - val_accuracy: 0.4830\n",
      "Epoch 32/100\n",
      "390/390 - 51s - loss: 1.3465 - accuracy: 0.6089 - val_loss: 1.7778 - val_accuracy: 0.5256\n",
      "Epoch 33/100\n",
      "390/390 - 51s - loss: 1.2907 - accuracy: 0.6260 - val_loss: 1.7917 - val_accuracy: 0.5188\n",
      "Epoch 34/100\n",
      "390/390 - 51s - loss: 1.2511 - accuracy: 0.6339 - val_loss: 1.8366 - val_accuracy: 0.5088\n",
      "Epoch 35/100\n",
      "390/390 - 51s - loss: 1.2205 - accuracy: 0.6425 - val_loss: 1.8112 - val_accuracy: 0.5116\n",
      "Epoch 36/100\n",
      "390/390 - 51s - loss: 1.1738 - accuracy: 0.6537 - val_loss: 1.7130 - val_accuracy: 0.5357\n",
      "Epoch 37/100\n",
      "390/390 - 51s - loss: 1.1317 - accuracy: 0.6651 - val_loss: 1.8855 - val_accuracy: 0.5023\n",
      "Epoch 38/100\n",
      "390/390 - 51s - loss: 1.1013 - accuracy: 0.6739 - val_loss: 1.8084 - val_accuracy: 0.5199\n",
      "Epoch 39/100\n",
      "390/390 - 51s - loss: 1.0606 - accuracy: 0.6834 - val_loss: 1.7777 - val_accuracy: 0.5299\n",
      "Epoch 40/100\n",
      "390/390 - 51s - loss: 1.0220 - accuracy: 0.6956 - val_loss: 1.7940 - val_accuracy: 0.5273\n",
      "Epoch 41/100\n",
      "390/390 - 51s - loss: 0.8337 - accuracy: 0.7474 - val_loss: 1.7030 - val_accuracy: 0.5512\n",
      "Epoch 42/100\n",
      "390/390 - 51s - loss: 0.7766 - accuracy: 0.7635 - val_loss: 1.7963 - val_accuracy: 0.5345\n",
      "Epoch 43/100\n",
      "390/390 - 51s - loss: 0.7200 - accuracy: 0.7775 - val_loss: 1.7789 - val_accuracy: 0.5416\n",
      "Epoch 44/100\n",
      "390/390 - 51s - loss: 0.7026 - accuracy: 0.7834 - val_loss: 1.8046 - val_accuracy: 0.5358\n",
      "Epoch 45/100\n",
      "390/390 - 51s - loss: 0.6798 - accuracy: 0.7898 - val_loss: 1.7730 - val_accuracy: 0.5507\n",
      "Epoch 46/100\n",
      "390/390 - 51s - loss: 0.6541 - accuracy: 0.7972 - val_loss: 1.8305 - val_accuracy: 0.5419\n",
      "Epoch 47/100\n",
      "390/390 - 51s - loss: 0.6354 - accuracy: 0.8007 - val_loss: 1.8478 - val_accuracy: 0.5439\n",
      "Epoch 48/100\n",
      "390/390 - 51s - loss: 0.6073 - accuracy: 0.8093 - val_loss: 1.9044 - val_accuracy: 0.5286\n",
      "Epoch 49/100\n",
      "390/390 - 51s - loss: 0.5905 - accuracy: 0.8150 - val_loss: 1.8631 - val_accuracy: 0.5392\n",
      "Epoch 50/100\n",
      "390/390 - 51s - loss: 0.5787 - accuracy: 0.8193 - val_loss: 1.8811 - val_accuracy: 0.5372\n",
      "Epoch 51/100\n",
      "390/390 - 51s - loss: 0.5462 - accuracy: 0.8296 - val_loss: 1.8692 - val_accuracy: 0.5373\n"
     ]
    }
   ],
   "source": [
    "batch_size = 128\n",
    "maxepoches = 100\n",
    "learning_rate = 0.01\n",
    "lr_decay = 1e-6\n",
    "lr_drop = 20\n",
    "\n",
    "def lr_scheduler(epoch):\n",
    "    return learning_rate * (0.5 ** (epoch // lr_drop))\n",
    "reduce_lr = keras.callbacks.LearningRateScheduler(lr_scheduler)\n",
    "\n",
    "\n",
    "#checkpoint_path = \"/content/gdrive/My Drive/checkpoint/VGG16_SGD_NoRegularization.ckpt\"\n",
    "#cp_callbacks = tf.keras.callbacks.ModelCheckpoint(filepath=checkpoint_path,save_weights_only=True,verbose=1)\n",
    "callback = tf.keras.callbacks.EarlyStopping(monitor='val_loss', patience=10)\n",
    "\n",
    "#data augmentation\n",
    "datagen = ImageDataGenerator(\n",
    "    rotation_range=15,  # randomly rotate images in the range (degrees, 0 to 180)\n",
    "    width_shift_range=0.1,  # randomly shift images horizontally (fraction of total width)\n",
    "    height_shift_range=0.1,  # randomly shift images vertically (fraction of total height)\n",
    "    horizontal_flip=True,  # randomly flip images\n",
    "    vertical_flip=False)  # randomly flip images\n",
    "\n",
    "\n",
    "#optimization details\n",
    "sgd = optimizers.SGD(lr=learning_rate, decay=lr_decay, momentum=0.9, nesterov=True)\n",
    "model.compile(loss='categorical_crossentropy', optimizer=sgd,metrics=['accuracy'])\n",
    "\n",
    "\n",
    "# training process in a for loop with learning rate drop every 25 epoches.\n",
    "\n",
    "history = model.fit(datagen.flow(x_train, y_train,\n",
    "                                 batch_size=batch_size),\n",
    "                    steps_per_epoch=x_train.shape[0] // batch_size,\n",
    "                    epochs=maxepoches,\n",
    "                    validation_data=(x_test, y_test),callbacks=[reduce_lr,callback],verbose=2)\n",
    "model.save_weights(\"/content/gdrive/My Drive/checkpoint/VGG16_SGD_Dropout.ckpt\")"
   ]
  },
  {
   "cell_type": "code",
   "execution_count": null,
   "metadata": {
    "colab": {
     "base_uri": "https://localhost:8080/",
     "height": 295
    },
    "id": "hwmqO8yjo-fh",
    "outputId": "f607793a-bc2e-4124-96c7-b36ca10a5226"
   },
   "outputs": [
    {
     "data": {
      "image/png": "[encoded data removed]",
      "text/plain": [
       "<Figure size 432x288 with 1 Axes>"
      ]
     },
     "metadata": {
      "needs_background": "light",
      "tags": []
     },
     "output_type": "display_data"
    }
   ],
   "source": [
    "# summarize history for accuracy\n",
    "plt.plot(history.history['accuracy'])\n",
    "plt.plot(history.history['val_accuracy'])\n",
    "plt.title('model accuracy')\n",
    "plt.ylabel('accuracy')\n",
    "plt.xlabel('epoch')\n",
    "plt.legend(['train', 'test'], loc='upper left')\n",
    "plt.show()"
   ]
  },
  {
   "cell_type": "code",
   "execution_count": null,
   "metadata": {
    "colab": {
     "base_uri": "https://localhost:8080/",
     "height": 295
    },
    "id": "_LSMaQxdpFDN",
    "outputId": "906a80b4-81bf-4ca9-f874-d336a0f689f5"
   },
   "outputs": [
    {
     "data": {
      "image/png": "[encoded data removed]",
      "text/plain": [
       "<Figure size 432x288 with 1 Axes>"
      ]
     },
     "metadata": {
      "needs_background": "light",
      "tags": []
     },
     "output_type": "display_data"
    }
   ],
   "source": [
    "# summarize history for loss\n",
    "plt.plot(history.history['loss'])\n",
    "plt.plot(history.history['val_loss'])\n",
    "plt.title('model loss')\n",
    "plt.ylabel('loss')\n",
    "plt.xlabel('epoch')\n",
    "plt.legend(['train', 'test'], loc='upper left')\n",
    "plt.show()"
   ]
  },
  {
   "cell_type": "code",
   "execution_count": null,
   "metadata": {
    "colab": {
     "base_uri": "https://localhost:8080/",
     "height": 50
    },
    "id": "3sT0qOEQrKXX",
    "outputId": "30df346f-4970-4940-a5f0-f67a3fb8fa7f"
   },
   "outputs": [
    {
     "name": "stdout",
     "output_type": "stream",
     "text": [
      "Precision Is: 0.5706496195705872\n",
      "Recall Is: 0.5373\n"
     ]
    }
   ],
   "source": [
    "import pandas as pd\n",
    "from keras.datasets import cifar100\n",
    "from sklearn.metrics import precision_score\n",
    "from sklearn.metrics import recall_score\n",
    "(x_train, y_train), (x_test, y_test) = cifar100.load_data()\n",
    "x_test = x_test.astype('float32')\n",
    "x_test = x_test / 255.0\n",
    "y_pred = model.predict(x_test)\n",
    "y_pred=np.argmax(y_pred,axis=1)\n",
    "y_pred=pd.DataFrame(y_pred)\n",
    "y_test=pd.DataFrame(y_test)\n",
    "\n",
    "p=precision_score(y_test, y_pred,average='weighted',labels=np.unique(y_pred))\n",
    "r=recall_score(y_test,y_pred,average='micro',labels=np.unique(y_pred))\n",
    "print('Precision Is:',p)\n",
    "print('Recall Is:',r)"
   ]
  },
  {
   "cell_type": "code",
   "execution_count": null,
   "metadata": {
    "id": "PPLP9A0eK0Mb"
   },
   "outputs": [],
   "source": []
  },
  {
   "cell_type": "code",
   "execution_count": null,
   "metadata": {
    "id": "pjYPuQGwK3uU"
   },
   "outputs": [],
   "source": []
  }
 ],
 "metadata": {
  "accelerator": "GPU",
  "colab": {
   "collapsed_sections": [],
   "name": " VGG16_SGD_Dropout.ipynb",
   "provenance": []
  },
  "kernelspec": {
   "display_name": "Python 3",
   "language": "python",
   "name": "python3"
  },
  "language_info": {
   "codemirror_mode": {
    "name": "ipython",
    "version": 3
   },
   "file_extension": ".py",
   "mimetype": "text/x-python",
   "name": "python",
   "nbconvert_exporter": "python",
   "pygments_lexer": "ipython3",
   "version": "3.8.3"
  }
 },
 "nbformat": 4,
 "nbformat_minor": 1
}
