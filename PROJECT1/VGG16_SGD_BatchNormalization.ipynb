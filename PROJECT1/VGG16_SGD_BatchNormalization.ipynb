{
 "cells": [
  {
   "cell_type": "code",
   "execution_count": null,
   "metadata": {
    "id": "8LqF_u_IuWLe"
   },
   "outputs": [],
   "source": [
    "import keras\n",
    "from keras.models import Sequential\n",
    "from keras.preprocessing.image import ImageDataGenerator\n",
    "from keras.layers.core import Flatten, Dense, Dropout\n",
    "from keras.layers.convolutional import Convolution2D, MaxPooling2D, ZeroPadding2D\n",
    "from keras.optimizers import SGD\n",
    "from keras.layers import Dense, Dropout, Activation, Flatten\n",
    "from keras.layers import Conv2D, BatchNormalization\n",
    "import numpy as np\n",
    "import tensorflow as tf\n",
    "from tensorflow.python.keras.metrics import Metric\n",
    "from keras import optimizers\n",
    "import numpy as np\n",
    "from keras.layers.core import Lambda\n",
    "from keras import backend as K\n",
    "from keras import regularizers\n",
    "import matplotlib.pyplot as plt "
   ]
  },
  {
   "cell_type": "code",
   "execution_count": null,
   "metadata": {
    "id": "8FyPq8ewVxyo"
   },
   "outputs": [],
   "source": [
    "# REFERENCED FROM https://github.com/fchollet/deep-learning-models/blob/master/vgg16.py"
   ]
  },
  {
   "cell_type": "code",
   "execution_count": null,
   "metadata": {
    "id": "PSSdw1rYm93Y"
   },
   "outputs": [],
   "source": [
    "num_classes=100"
   ]
  },
  {
   "cell_type": "code",
   "execution_count": null,
   "metadata": {
    "colab": {
     "base_uri": "https://localhost:8080/",
     "height": 50
    },
    "id": "F0-GRoxokntc",
    "outputId": "d1ec4b60-a9d4-4d24-ff70-349d710ac3b7"
   },
   "outputs": [
    {
     "name": "stdout",
     "output_type": "stream",
     "text": [
      "Downloading data from https://www.cs.toronto.edu/~kriz/cifar-100-python.tar.gz\n",
      "169009152/169001437 [==============================] - 6s 0us/step\n"
     ]
    }
   ],
   "source": [
    "from keras.datasets import cifar100\n",
    "(x_train, y_train), (x_test, y_test) = cifar100.load_data()\n",
    "x_train = x_train.astype('float32')\n",
    "x_test = x_test.astype('float32')\n",
    "x_train = x_train / 255.0\n",
    "x_test = x_test / 255.0\n",
    "\n",
    "y_train = keras.utils.to_categorical(y_train, num_classes)\n",
    "y_test = keras.utils.to_categorical(y_test, num_classes)"
   ]
  },
  {
   "cell_type": "code",
   "execution_count": null,
   "metadata": {
    "id": "x4dA34fd4I14"
   },
   "outputs": [],
   "source": [
    "x_shape = x_train[0].shape"
   ]
  },
  {
   "cell_type": "code",
   "execution_count": null,
   "metadata": {
    "id": "7oFpN8TfF-PH"
   },
   "outputs": [],
   "source": [
    "model = Sequential()\n",
    "model.add(Conv2D(64, (3, 3), padding='same'))\n",
    "model.add(Activation('elu'))\n",
    "model.add(BatchNormalization())\n",
    "model.add(Conv2D(64, (3, 3), padding='same'))\n",
    "model.add(Activation('elu'))\n",
    "model.add(BatchNormalization())\n",
    "\n",
    "\n",
    "model.add(MaxPooling2D(pool_size=(2, 2)))\n",
    "\n",
    "model.add(Conv2D(128, (3, 3), padding='same'))\n",
    "model.add(Activation('elu'))\n",
    "model.add(BatchNormalization())\n",
    "model.add(Conv2D(128, (3, 3), padding='same'))\n",
    "model.add(Activation('elu'))\n",
    "model.add(BatchNormalization())\n",
    "\n",
    "model.add(MaxPooling2D(pool_size=(2, 2)))\n",
    "\n",
    "model.add(Conv2D(256, (3, 3), padding='same'))\n",
    "model.add(Activation('elu'))\n",
    "model.add(BatchNormalization())\n",
    "model.add(Conv2D(256, (3, 3), padding='same'))\n",
    "model.add(Activation('elu'))\n",
    "model.add(BatchNormalization())\n",
    "model.add(Conv2D(256, (3, 3), padding='same'))\n",
    "model.add(Activation('elu'))\n",
    "model.add(BatchNormalization())\n",
    "\n",
    "model.add(MaxPooling2D(pool_size=(2, 2)))\n",
    "\n",
    "\n",
    "model.add(Conv2D(512, (3, 3), padding='same'))\n",
    "model.add(Activation('elu'))\n",
    "model.add(BatchNormalization())\n",
    "model.add(Conv2D(512, (3, 3), padding='same'))\n",
    "model.add(Activation('elu'))\n",
    "model.add(BatchNormalization())\n",
    "model.add(Conv2D(512, (3, 3), padding='same'))\n",
    "model.add(Activation('elu'))\n",
    "model.add(BatchNormalization())\n",
    "\n",
    "model.add(MaxPooling2D(pool_size=(2, 2)))\n",
    "\n",
    "\n",
    "model.add(Conv2D(512, (3, 3), padding='same'))\n",
    "model.add(Activation('elu'))\n",
    "model.add(BatchNormalization())\n",
    "model.add(Conv2D(512, (3, 3), padding='same'))\n",
    "model.add(Activation('elu'))\n",
    "model.add(BatchNormalization())\n",
    "model.add(Conv2D(512, (3, 3), padding='same'))\n",
    "model.add(Activation('elu'))\n",
    "model.add(BatchNormalization())\n",
    "\n",
    "model.add(MaxPooling2D(pool_size=(2, 2)))\n",
    "\n",
    "model.add(Flatten())\n",
    "model.add(Dense(512))\n",
    "model.add(Activation('elu'))\n",
    "model.add(BatchNormalization())\n",
    "\n",
    "model.add(Dense(num_classes))\n",
    "model.add(Activation('softmax'))"
   ]
  },
  {
   "cell_type": "code",
   "execution_count": null,
   "metadata": {
    "colab": {
     "base_uri": "https://localhost:8080/",
     "height": 34
    },
    "id": "No187CrGY28K",
    "outputId": "facb77f9-4723-4128-9c37-5d5edcb69471"
   },
   "outputs": [
    {
     "name": "stdout",
     "output_type": "stream",
     "text": [
      "Mounted at /content/gdrive/\n"
     ]
    }
   ],
   "source": [
    "from google.colab import drive\n",
    "drive.mount('/content/gdrive/')"
   ]
  },
  {
   "cell_type": "code",
   "execution_count": null,
   "metadata": {
    "colab": {
     "base_uri": "https://localhost:8080/",
     "height": 1000
    },
    "id": "u2l3k9xv2B32",
    "outputId": "34735329-19b1-46f0-b881-66f2c5b10523"
   },
   "outputs": [
    {
     "name": "stdout",
     "output_type": "stream",
     "text": [
      "Epoch 1/100\n",
      "390/390 - 32s - loss: 3.4881 - accuracy: 0.1751 - val_loss: 3.7590 - val_accuracy: 0.1334\n",
      "Epoch 2/100\n",
      "390/390 - 31s - loss: 2.7068 - accuracy: 0.3094 - val_loss: 2.9164 - val_accuracy: 0.2745\n",
      "Epoch 3/100\n",
      "390/390 - 32s - loss: 2.3021 - accuracy: 0.3909 - val_loss: 2.2721 - val_accuracy: 0.4040\n",
      "Epoch 4/100\n",
      "390/390 - 31s - loss: 2.0340 - accuracy: 0.4482 - val_loss: 2.1850 - val_accuracy: 0.4202\n",
      "Epoch 5/100\n",
      "390/390 - 31s - loss: 1.8308 - accuracy: 0.4976 - val_loss: 2.0261 - val_accuracy: 0.4607\n",
      "Epoch 6/100\n",
      "390/390 - 31s - loss: 1.6862 - accuracy: 0.5326 - val_loss: 2.0192 - val_accuracy: 0.4717\n",
      "Epoch 7/100\n",
      "390/390 - 32s - loss: 1.5470 - accuracy: 0.5625 - val_loss: 1.8949 - val_accuracy: 0.5029\n",
      "Epoch 8/100\n",
      "390/390 - 32s - loss: 1.4185 - accuracy: 0.5937 - val_loss: 1.9659 - val_accuracy: 0.4880\n",
      "Epoch 9/100\n",
      "390/390 - 32s - loss: 1.3209 - accuracy: 0.6197 - val_loss: 1.8604 - val_accuracy: 0.5193\n",
      "Epoch 10/100\n",
      "390/390 - 32s - loss: 1.2254 - accuracy: 0.6405 - val_loss: 1.8588 - val_accuracy: 0.5271\n",
      "Epoch 11/100\n",
      "390/390 - 32s - loss: 1.1309 - accuracy: 0.6646 - val_loss: 1.7460 - val_accuracy: 0.5494\n",
      "Epoch 12/100\n",
      "390/390 - 32s - loss: 1.0444 - accuracy: 0.6899 - val_loss: 1.7922 - val_accuracy: 0.5459\n",
      "Epoch 13/100\n",
      "390/390 - 32s - loss: 0.9693 - accuracy: 0.7091 - val_loss: 1.7080 - val_accuracy: 0.5702\n",
      "Epoch 14/100\n",
      "390/390 - 32s - loss: 0.8940 - accuracy: 0.7288 - val_loss: 1.8037 - val_accuracy: 0.5549\n",
      "Epoch 15/100\n",
      "390/390 - 32s - loss: 0.8136 - accuracy: 0.7515 - val_loss: 1.8331 - val_accuracy: 0.5536\n",
      "Epoch 16/100\n",
      "390/390 - 32s - loss: 0.7486 - accuracy: 0.7674 - val_loss: 1.7666 - val_accuracy: 0.5701\n",
      "Epoch 17/100\n",
      "390/390 - 32s - loss: 0.6979 - accuracy: 0.7837 - val_loss: 1.9723 - val_accuracy: 0.5482\n",
      "Epoch 18/100\n",
      "390/390 - 32s - loss: 0.6372 - accuracy: 0.8007 - val_loss: 1.8250 - val_accuracy: 0.5761\n",
      "Epoch 19/100\n",
      "390/390 - 31s - loss: 0.5795 - accuracy: 0.8178 - val_loss: 1.9178 - val_accuracy: 0.5584\n",
      "Epoch 20/100\n",
      "390/390 - 32s - loss: 0.5230 - accuracy: 0.8344 - val_loss: 1.9011 - val_accuracy: 0.5697\n",
      "Epoch 21/100\n",
      "390/390 - 32s - loss: 0.3235 - accuracy: 0.8993 - val_loss: 1.7649 - val_accuracy: 0.6012\n",
      "Epoch 22/100\n",
      "390/390 - 32s - loss: 0.2375 - accuracy: 0.9287 - val_loss: 1.6894 - val_accuracy: 0.6184\n",
      "Epoch 23/100\n",
      "390/390 - 31s - loss: 0.2006 - accuracy: 0.9416 - val_loss: 1.7342 - val_accuracy: 0.6124\n",
      "Epoch 24/100\n",
      "390/390 - 31s - loss: 0.1778 - accuracy: 0.9488 - val_loss: 1.7478 - val_accuracy: 0.6156\n",
      "Epoch 25/100\n",
      "390/390 - 31s - loss: 0.1587 - accuracy: 0.9546 - val_loss: 1.7225 - val_accuracy: 0.6207\n",
      "Epoch 26/100\n",
      "390/390 - 32s - loss: 0.1411 - accuracy: 0.9595 - val_loss: 1.7829 - val_accuracy: 0.6157\n",
      "Epoch 27/100\n",
      "390/390 - 32s - loss: 0.1316 - accuracy: 0.9631 - val_loss: 1.7855 - val_accuracy: 0.6225\n",
      "Epoch 28/100\n",
      "390/390 - 32s - loss: 0.1208 - accuracy: 0.9657 - val_loss: 1.8226 - val_accuracy: 0.6147\n",
      "Epoch 29/100\n",
      "390/390 - 32s - loss: 0.1098 - accuracy: 0.9690 - val_loss: 1.8935 - val_accuracy: 0.6092\n",
      "Epoch 30/100\n",
      "390/390 - 32s - loss: 0.1011 - accuracy: 0.9724 - val_loss: 1.8562 - val_accuracy: 0.6162\n",
      "Epoch 31/100\n",
      "390/390 - 32s - loss: 0.0944 - accuracy: 0.9740 - val_loss: 1.8336 - val_accuracy: 0.6172\n",
      "Epoch 32/100\n",
      "390/390 - 32s - loss: 0.0864 - accuracy: 0.9763 - val_loss: 1.8813 - val_accuracy: 0.6197\n"
     ]
    }
   ],
   "source": [
    "batch_size = 128\n",
    "maxepoches = 100\n",
    "learning_rate = 0.01\n",
    "lr_decay = 1e-6\n",
    "lr_drop = 20\n",
    "\n",
    "def lr_scheduler(epoch):\n",
    "    return learning_rate * (0.5 ** (epoch // lr_drop))\n",
    "reduce_lr = keras.callbacks.LearningRateScheduler(lr_scheduler)\n",
    "\n",
    "#checkpoint_path = \"/content/gdrive/My Drive/checkpoint/VGG16_SGD_NoRegularization.ckpt\"\n",
    "#cp_callbacks = tf.keras.callbacks.ModelCheckpoint(filepath=checkpoint_path,save_weights_only=True,verbose=1)\n",
    "callback = tf.keras.callbacks.EarlyStopping(monitor='val_loss', patience=10)\n",
    "\n",
    "#data augmentation\n",
    "datagen = ImageDataGenerator(\n",
    "    rotation_range=15,  # randomly rotate images in the range (degrees, 0 to 180)\n",
    "    width_shift_range=0.1,  # randomly shift images horizontally (fraction of total width)\n",
    "    height_shift_range=0.1,  # randomly shift images vertically (fraction of total height)\n",
    "    horizontal_flip=True,  # randomly flip images\n",
    "    vertical_flip=False)  # randomly flip images\n",
    "\n",
    "\n",
    "#optimization details\n",
    "sgd = optimizers.SGD(lr=learning_rate, decay=lr_decay, momentum=0.9, nesterov=True)\n",
    "model.compile(loss='categorical_crossentropy', optimizer=sgd,metrics=['accuracy'])\n",
    "\n",
    "\n",
    "# training process in a for loop with learning rate drop every 25 epoches.\n",
    "\n",
    "history = model.fit(datagen.flow(x_train, y_train,\n",
    "                                 batch_size=batch_size),\n",
    "                    steps_per_epoch=x_train.shape[0] // batch_size,\n",
    "                    epochs=maxepoches,\n",
    "                    validation_data=(x_test, y_test),callbacks=[reduce_lr,callback],verbose=2)\n",
    "model.save_weights(\"/content/gdrive/My Drive/checkpoint/VGG16_SGD_BatchNormalization.ckpt\")"
   ]
  },
  {
   "cell_type": "code",
   "execution_count": null,
   "metadata": {
    "colab": {
     "base_uri": "https://localhost:8080/",
     "height": 295
    },
    "id": "hwmqO8yjo-fh",
    "outputId": "6feeb48c-23e8-4aac-92db-c8a4651d20a7"
   },
   "outputs": [
    {
     "data": {
      "image/png": "[encoded data removed]",
      "text/plain": [
       "<Figure size 432x288 with 1 Axes>"
      ]
     },
     "metadata": {
      "needs_background": "light",
      "tags": []
     },
     "output_type": "display_data"
    }
   ],
   "source": [
    "# summarize history for accuracy\n",
    "plt.plot(history.history['accuracy'])\n",
    "plt.plot(history.history['val_accuracy'])\n",
    "plt.title('model accuracy')\n",
    "plt.ylabel('accuracy')\n",
    "plt.xlabel('epoch')\n",
    "plt.legend(['train', 'test'], loc='upper left')\n",
    "plt.show()"
   ]
  },
  {
   "cell_type": "code",
   "execution_count": null,
   "metadata": {
    "colab": {
     "base_uri": "https://localhost:8080/",
     "height": 295
    },
    "id": "_LSMaQxdpFDN",
    "outputId": "98a5d603-e27e-4f94-e827-77cea15061b2"
   },
   "outputs": [
    {
     "data": {
      "image/png": "[encoded data removed]",
      "text/plain": [
       "<Figure size 432x288 with 1 Axes>"
      ]
     },
     "metadata": {
      "needs_background": "light",
      "tags": []
     },
     "output_type": "display_data"
    }
   ],
   "source": [
    "# summarize history for loss\n",
    "plt.plot(history.history['loss'])\n",
    "plt.plot(history.history['val_loss'])\n",
    "plt.title('model loss')\n",
    "plt.ylabel('loss')\n",
    "plt.xlabel('epoch')\n",
    "plt.legend(['train', 'test'], loc='upper left')\n",
    "plt.show()"
   ]
  },
  {
   "cell_type": "code",
   "execution_count": null,
   "metadata": {
    "colab": {
     "base_uri": "https://localhost:8080/",
     "height": 50
    },
    "id": "3sT0qOEQrKXX",
    "outputId": "39031af2-aca5-4f5d-87b1-342494a21d8c"
   },
   "outputs": [
    {
     "name": "stdout",
     "output_type": "stream",
     "text": [
      "Precision Is: 0.6365162586993016\n",
      "Recall Is: 0.6197\n"
     ]
    }
   ],
   "source": [
    "import pandas as pd\n",
    "from keras.datasets import cifar100\n",
    "from sklearn.metrics import precision_score\n",
    "from sklearn.metrics import recall_score\n",
    "(x_train, y_train), (x_test, y_test) = cifar100.load_data()\n",
    "x_test = x_test.astype('float32')\n",
    "x_test = x_test / 255.0\n",
    "y_pred = model.predict(x_test)\n",
    "y_pred=np.argmax(y_pred,axis=1)\n",
    "y_pred=pd.DataFrame(y_pred)\n",
    "y_test=pd.DataFrame(y_test)\n",
    "\n",
    "p=precision_score(y_test, y_pred,average='weighted',labels=np.unique(y_pred))\n",
    "r=recall_score(y_test,y_pred,average='micro',labels=np.unique(y_pred))\n",
    "print('Precision Is:',p)\n",
    "print('Recall Is:',r)"
   ]
  }
 ],
 "metadata": {
  "accelerator": "GPU",
  "colab": {
   "collapsed_sections": [],
   "name": "VGG16_SGD_BatchNormalization.ipynb",
   "provenance": []
  },
  "kernelspec": {
   "display_name": "Python 3",
   "language": "python",
   "name": "python3"
  },
  "language_info": {
   "codemirror_mode": {
    "name": "ipython",
    "version": 3
   },
   "file_extension": ".py",
   "mimetype": "text/x-python",
   "name": "python",
   "nbconvert_exporter": "python",
   "pygments_lexer": "ipython3",
   "version": "3.8.3"
  }
 },
 "nbformat": 4,
 "nbformat_minor": 1
}
