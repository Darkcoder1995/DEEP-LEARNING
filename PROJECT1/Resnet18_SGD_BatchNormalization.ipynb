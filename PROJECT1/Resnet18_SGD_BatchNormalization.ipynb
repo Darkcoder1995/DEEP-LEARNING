{
 "cells": [
  {
   "cell_type": "code",
   "execution_count": null,
   "metadata": {
    "id": "zPVDwFuwn0hH"
   },
   "outputs": [],
   "source": [
    "import numpy as np\n",
    "from keras import layers\n",
    "import keras\n",
    "from keras.models import Sequential\n",
    "from keras.preprocessing.image import ImageDataGenerator\n",
    "from keras.layers import Input, Add, Flatten, Dense, Dropout, Conv2D, MaxPooling2D, ZeroPadding2D, Dense, Dropout, Activation, Flatten, BatchNormalization, AveragePooling2D, MaxPooling2D, GlobalMaxPooling2D\n",
    "from keras.optimizers import SGD\n",
    "import tensorflow as tf\n",
    "from tensorflow.python.keras.metrics import Metric\n",
    "from keras import optimizers\n",
    "from keras.models import Model, load_model\n",
    "from keras.preprocessing import image\n",
    "from keras.utils import layer_utils\n",
    "from keras.utils.data_utils import get_file\n",
    "from keras.applications.imagenet_utils import preprocess_input\n",
    "from keras.layers.core import Lambda\n",
    "from keras import backend as K\n",
    "from keras import regularizers\n",
    "import matplotlib.pyplot as plt \n",
    "from keras.initializers import glorot_uniform\n",
    "from keras.layers import Input\n"
   ]
  },
  {
   "cell_type": "code",
   "execution_count": null,
   "metadata": {
    "id": "KWGEHQIZTxKd"
   },
   "outputs": [],
   "source": [
    "# REFERENCED FROM https://github.com/fchollet/deep-learning-models"
   ]
  },
  {
   "cell_type": "code",
   "execution_count": null,
   "metadata": {
    "id": "3TjxXzA04tMX"
   },
   "outputs": [],
   "source": [
    "num_classes=100"
   ]
  },
  {
   "cell_type": "code",
   "execution_count": null,
   "metadata": {
    "colab": {
     "base_uri": "https://localhost:8080/",
     "height": 50
    },
    "id": "IAlAnrKz4uyf",
    "outputId": "7d09ae8d-1145-4797-92c7-45ee67f36a27"
   },
   "outputs": [
    {
     "name": "stdout",
     "output_type": "stream",
     "text": [
      "Downloading data from https://www.cs.toronto.edu/~kriz/cifar-100-python.tar.gz\n",
      "169009152/169001437 [==============================] - 6s 0us/step\n"
     ]
    }
   ],
   "source": [
    "from keras.datasets import cifar100\n",
    "(x_train, y_train), (x_test, y_test) = cifar100.load_data()\n",
    "x_train = x_train.astype('float32')\n",
    "x_test = x_test.astype('float32')\n",
    "x_train = x_train / 255.0\n",
    "x_test = x_test / 255.0\n",
    "\n",
    "y_train = keras.utils.to_categorical(y_train, num_classes)\n",
    "y_test = keras.utils.to_categorical(y_test, num_classes)"
   ]
  },
  {
   "cell_type": "code",
   "execution_count": null,
   "metadata": {
    "colab": {
     "base_uri": "https://localhost:8080/",
     "height": 34
    },
    "id": "_TAqqYoj4y_N",
    "outputId": "ee3e7455-612f-4986-aafa-8498a97c6073"
   },
   "outputs": [
    {
     "data": {
      "text/plain": [
       "(32, 32, 3)"
      ]
     },
     "execution_count": 4,
     "metadata": {
      "tags": []
     },
     "output_type": "execute_result"
    }
   ],
   "source": [
    "x_shape = x_train[0].shape\n",
    "x_shape"
   ]
  },
  {
   "cell_type": "code",
   "execution_count": null,
   "metadata": {
    "id": "eRZ4QDwD5fEv"
   },
   "outputs": [],
   "source": [
    "def identity_block(X, f, filters):\n",
    "      \n",
    "    # Retrieve Filters\n",
    "    F1, F2 = filters\n",
    "    \n",
    "    # Save the input value\n",
    "    X_shortcut = X\n",
    "    X = BatchNormalization(axis = 1)(X_shortcut)\n",
    "    \n",
    "    # First component of main path\n",
    "    X = Conv2D(filters = F1, kernel_size = (1, 1), strides = (1,1), padding = 'valid')(X)\n",
    "    X = Activation('elu')(X)\n",
    "    X = BatchNormalization(axis = 1)(X)\n",
    "    \n",
    "    # Second component of main path\n",
    "    X = Conv2D(filters = F2, kernel_size = (f, f), strides = (1, 1), padding = 'same')(X)\n",
    "    X = Activation('elu')(X)\n",
    "    X = BatchNormalization(axis = 1)(X)\n",
    "\n",
    "    # Final step: Add shortcut value to main path, and pass it through a RELU activation\n",
    "    X = Add()([X, X_shortcut])\n",
    "    X = Activation('elu')(X)\n",
    "    return X\n",
    "\n",
    "\n",
    "def convolutional_block(X,f,filters,s=2):\n",
    "\n",
    "\n",
    "    # Retrieve Filters\n",
    "    F1, F2 = filters\n",
    "\n",
    "    # Save the input value\n",
    "    X_shortcut = X\n",
    "\n",
    "    ##### MAIN PATH #####\n",
    "    # First component of main path \n",
    "    X = Conv2D(filters=F1, kernel_size=(1, 1), strides=(s, s), padding='valid')(X)\n",
    "    X = Activation('elu')(X)\n",
    "    X = BatchNormalization(axis = 1)(X)\n",
    "\n",
    "    # Second component of main path\n",
    "    X = Conv2D(filters=F2, kernel_size=(f, f), strides=(1, 1), padding='same')(X)\n",
    "    X = Activation('elu')(X)\n",
    "    X = BatchNormalization(axis = 1)(X)\n",
    "\n",
    "    ##### SHORTCUT PATH #### \n",
    "    X_shortcut = Conv2D(filters=F2, kernel_size=(1, 1), strides=(s, s), padding='valid')(X_shortcut)\n",
    "    X_shortcut = BatchNormalization(axis = 1)(X_shortcut)\n",
    "\n",
    "    # Final step: Add shortcut value to main path, and pass it through a RELU activation\n",
    "    X = Add()([X, X_shortcut])\n",
    "    X = Activation('elu')(X)\n",
    "\n",
    "    return X\n",
    "\n",
    "def ResNet18(input_shape = x_shape, classes = 100):\n",
    "    \n",
    "    # Define the input as a tensor with shape input_shape\n",
    "    X_input = Input(input_shape)\n",
    "\n",
    "    \n",
    "    # Zero-Padding\n",
    "    X = ZeroPadding2D((3, 3))(X_input)\n",
    "    \n",
    "    # Stage 1\n",
    "    X = Conv2D(64, (7, 7), strides = (2, 2))(X)\n",
    "    X = Activation('relu')(X)\n",
    "    X = MaxPooling2D((3, 3), strides=(2, 2))(X)\n",
    "\n",
    "    # Stage 2\n",
    "    X = convolutional_block(X,f=3,filters = [64, 64],s=1)\n",
    "    X = identity_block(X, 3, [64, 64])\n",
    "    \n",
    "\n",
    "    # Stage 3\n",
    "    X = convolutional_block(X,f=3,filters=[128, 128],s=2)\n",
    "    X = identity_block(X, 3, [128, 128])\n",
    "    \n",
    "\n",
    "    # Stage 4\n",
    "    X = convolutional_block(X, f=3, filters=[256, 256],s=2)\n",
    "    X = identity_block(X, 3, [256, 256])\n",
    " \n",
    "\n",
    "    # Stage 5\n",
    "    X = convolutional_block(X, f=3, filters=[512, 512],s=2)\n",
    "    X = identity_block(X, 3, [512, 512])\n",
    "\n",
    "\n",
    "    # AVGPOOL\n",
    "    X = AveragePooling2D(pool_size=(2,2), padding='same')(X)\n",
    "\n",
    "    # Output layer\n",
    "    X = Flatten()(X)\n",
    "    X = Dense(classes, activation='softmax')(X)\n",
    "    \n",
    "    \n",
    "    # Create model\n",
    "    model = Model(inputs = X_input, outputs = X, name='ResNet18')\n",
    "\n",
    "    return model\n"
   ]
  },
  {
   "cell_type": "code",
   "execution_count": null,
   "metadata": {
    "id": "N6O5YSICb9kR"
   },
   "outputs": [],
   "source": [
    "model = ResNet18(input_shape = (32, 32, 3), classes = 100)"
   ]
  },
  {
   "cell_type": "code",
   "execution_count": null,
   "metadata": {
    "colab": {
     "base_uri": "https://localhost:8080/",
     "height": 34
    },
    "id": "PSSdw1rYm93Y",
    "outputId": "02c91fa7-ff88-4353-efda-0c9fc780ed90"
   },
   "outputs": [
    {
     "name": "stdout",
     "output_type": "stream",
     "text": [
      "Mounted at /content/gdrive/\n"
     ]
    }
   ],
   "source": [
    "from google.colab import drive\n",
    "drive.mount('/content/gdrive/')"
   ]
  },
  {
   "cell_type": "code",
   "execution_count": null,
   "metadata": {
    "colab": {
     "base_uri": "https://localhost:8080/",
     "height": 1000
    },
    "id": "F0-GRoxokntc",
    "outputId": "60b52070-6cb0-49d4-c49a-da964c8b988f"
   },
   "outputs": [
    {
     "name": "stdout",
     "output_type": "stream",
     "text": [
      "Epoch 1/200\n",
      "391/391 - 26s - loss: 4.6120 - accuracy: 0.0174 - val_loss: 4.5303 - val_accuracy: 0.0197\n",
      "Epoch 2/200\n",
      "391/391 - 25s - loss: 4.1467 - accuracy: 0.0660 - val_loss: 3.9123 - val_accuracy: 0.0946\n",
      "Epoch 3/200\n",
      "391/391 - 24s - loss: 3.6704 - accuracy: 0.1352 - val_loss: 3.5977 - val_accuracy: 0.1516\n",
      "Epoch 4/200\n",
      "391/391 - 25s - loss: 3.3543 - accuracy: 0.1904 - val_loss: 3.2037 - val_accuracy: 0.2188\n",
      "Epoch 5/200\n",
      "391/391 - 25s - loss: 3.0970 - accuracy: 0.2377 - val_loss: 3.0300 - val_accuracy: 0.2533\n",
      "Epoch 6/200\n",
      "391/391 - 25s - loss: 2.8943 - accuracy: 0.2772 - val_loss: 2.8466 - val_accuracy: 0.2942\n",
      "Epoch 7/200\n",
      "391/391 - 25s - loss: 2.7332 - accuracy: 0.3080 - val_loss: 2.7607 - val_accuracy: 0.3143\n",
      "Epoch 8/200\n",
      "391/391 - 25s - loss: 2.6014 - accuracy: 0.3334 - val_loss: 2.7243 - val_accuracy: 0.3251\n",
      "Epoch 9/200\n",
      "391/391 - 24s - loss: 2.4880 - accuracy: 0.3580 - val_loss: 2.6990 - val_accuracy: 0.3303\n",
      "Epoch 10/200\n",
      "391/391 - 25s - loss: 2.3860 - accuracy: 0.3786 - val_loss: 2.5213 - val_accuracy: 0.3672\n",
      "Epoch 11/200\n",
      "391/391 - 24s - loss: 2.2959 - accuracy: 0.3967 - val_loss: 2.5127 - val_accuracy: 0.3727\n",
      "Epoch 12/200\n",
      "391/391 - 24s - loss: 2.2138 - accuracy: 0.4165 - val_loss: 2.4472 - val_accuracy: 0.3860\n",
      "Epoch 13/200\n",
      "391/391 - 24s - loss: 2.1222 - accuracy: 0.4342 - val_loss: 2.4326 - val_accuracy: 0.3890\n",
      "Epoch 14/200\n",
      "391/391 - 24s - loss: 2.0542 - accuracy: 0.4503 - val_loss: 2.6054 - val_accuracy: 0.3674\n",
      "Epoch 15/200\n",
      "391/391 - 25s - loss: 1.9786 - accuracy: 0.4667 - val_loss: 2.3234 - val_accuracy: 0.4151\n",
      "Epoch 16/200\n",
      "391/391 - 25s - loss: 1.9132 - accuracy: 0.4822 - val_loss: 2.3437 - val_accuracy: 0.4195\n",
      "Epoch 17/200\n",
      "391/391 - 25s - loss: 1.8368 - accuracy: 0.4985 - val_loss: 2.5572 - val_accuracy: 0.3865\n",
      "Epoch 18/200\n",
      "391/391 - 24s - loss: 1.7650 - accuracy: 0.5148 - val_loss: 2.4225 - val_accuracy: 0.4186\n",
      "Epoch 19/200\n",
      "391/391 - 24s - loss: 1.7155 - accuracy: 0.5259 - val_loss: 2.3593 - val_accuracy: 0.4181\n",
      "Epoch 20/200\n",
      "391/391 - 25s - loss: 1.6522 - accuracy: 0.5414 - val_loss: 2.4890 - val_accuracy: 0.4139\n",
      "Epoch 21/200\n",
      "391/391 - 24s - loss: 1.4126 - accuracy: 0.6020 - val_loss: 2.3196 - val_accuracy: 0.4441\n",
      "Epoch 22/200\n",
      "391/391 - 25s - loss: 1.3392 - accuracy: 0.6207 - val_loss: 2.5297 - val_accuracy: 0.4141\n",
      "Epoch 23/200\n",
      "391/391 - 25s - loss: 1.2866 - accuracy: 0.6324 - val_loss: 2.4545 - val_accuracy: 0.4378\n",
      "Epoch 24/200\n",
      "391/391 - 24s - loss: 1.2427 - accuracy: 0.6444 - val_loss: 2.4141 - val_accuracy: 0.4453\n",
      "Epoch 25/200\n",
      "391/391 - 24s - loss: 1.1965 - accuracy: 0.6552 - val_loss: 2.5127 - val_accuracy: 0.4404\n",
      "Epoch 26/200\n",
      "391/391 - 24s - loss: 1.1635 - accuracy: 0.6653 - val_loss: 2.4762 - val_accuracy: 0.4458\n",
      "Epoch 27/200\n",
      "391/391 - 24s - loss: 1.1310 - accuracy: 0.6695 - val_loss: 2.5668 - val_accuracy: 0.4391\n",
      "Epoch 28/200\n",
      "391/391 - 24s - loss: 1.0938 - accuracy: 0.6819 - val_loss: 2.6022 - val_accuracy: 0.4367\n",
      "Epoch 29/200\n",
      "391/391 - 24s - loss: 1.0651 - accuracy: 0.6871 - val_loss: 2.6560 - val_accuracy: 0.4343\n",
      "Epoch 30/200\n",
      "391/391 - 24s - loss: 1.0291 - accuracy: 0.6980 - val_loss: 2.6223 - val_accuracy: 0.4388\n",
      "Epoch 31/200\n",
      "391/391 - 24s - loss: 0.9899 - accuracy: 0.7077 - val_loss: 2.6941 - val_accuracy: 0.4280\n",
      "Epoch 32/200\n",
      "391/391 - 24s - loss: 0.9594 - accuracy: 0.7176 - val_loss: 2.7014 - val_accuracy: 0.4398\n",
      "Epoch 33/200\n",
      "391/391 - 24s - loss: 0.9331 - accuracy: 0.7209 - val_loss: 2.9294 - val_accuracy: 0.4107\n",
      "Epoch 34/200\n",
      "391/391 - 24s - loss: 0.9060 - accuracy: 0.7308 - val_loss: 2.8340 - val_accuracy: 0.4288\n",
      "Epoch 35/200\n",
      "391/391 - 24s - loss: 0.8697 - accuracy: 0.7413 - val_loss: 2.8638 - val_accuracy: 0.4328\n",
      "Epoch 36/200\n",
      "391/391 - 24s - loss: 0.8524 - accuracy: 0.7423 - val_loss: 2.9390 - val_accuracy: 0.4175\n",
      "Epoch 37/200\n",
      "391/391 - 24s - loss: 0.8178 - accuracy: 0.7549 - val_loss: 2.9280 - val_accuracy: 0.4255\n",
      "Epoch 38/200\n",
      "391/391 - 24s - loss: 0.7954 - accuracy: 0.7602 - val_loss: 2.8393 - val_accuracy: 0.4417\n",
      "Epoch 39/200\n",
      "391/391 - 24s - loss: 0.7703 - accuracy: 0.7660 - val_loss: 2.9420 - val_accuracy: 0.4293\n",
      "Epoch 40/200\n",
      "391/391 - 24s - loss: 0.7439 - accuracy: 0.7733 - val_loss: 3.0855 - val_accuracy: 0.4219\n",
      "Epoch 41/200\n",
      "391/391 - 24s - loss: 0.5773 - accuracy: 0.8255 - val_loss: 2.9324 - val_accuracy: 0.4484\n",
      "Epoch 42/200\n",
      "391/391 - 24s - loss: 0.5099 - accuracy: 0.8465 - val_loss: 2.9792 - val_accuracy: 0.4518\n",
      "Epoch 43/200\n",
      "391/391 - 24s - loss: 0.4910 - accuracy: 0.8518 - val_loss: 3.1086 - val_accuracy: 0.4447\n",
      "Epoch 44/200\n",
      "391/391 - 24s - loss: 0.4638 - accuracy: 0.8576 - val_loss: 3.1655 - val_accuracy: 0.4427\n",
      "Epoch 45/200\n",
      "391/391 - 24s - loss: 0.4490 - accuracy: 0.8646 - val_loss: 3.4341 - val_accuracy: 0.4195\n",
      "Epoch 46/200\n",
      "391/391 - 24s - loss: 0.4408 - accuracy: 0.8661 - val_loss: 3.1937 - val_accuracy: 0.4438\n",
      "Epoch 47/200\n",
      "391/391 - 24s - loss: 0.4245 - accuracy: 0.8703 - val_loss: 3.2969 - val_accuracy: 0.4426\n",
      "Epoch 48/200\n",
      "391/391 - 24s - loss: 0.4095 - accuracy: 0.8743 - val_loss: 3.3048 - val_accuracy: 0.4445\n",
      "Epoch 49/200\n",
      "391/391 - 24s - loss: 0.4039 - accuracy: 0.8753 - val_loss: 3.3449 - val_accuracy: 0.4422\n",
      "Epoch 50/200\n",
      "391/391 - 24s - loss: 0.3925 - accuracy: 0.8782 - val_loss: 3.4441 - val_accuracy: 0.4350\n",
      "Epoch 51/200\n",
      "391/391 - 24s - loss: 0.3926 - accuracy: 0.8794 - val_loss: 3.4026 - val_accuracy: 0.4411\n",
      "Epoch 52/200\n",
      "391/391 - 24s - loss: 0.3825 - accuracy: 0.8815 - val_loss: 3.3973 - val_accuracy: 0.4456\n",
      "Epoch 53/200\n",
      "391/391 - 24s - loss: 0.3633 - accuracy: 0.8880 - val_loss: 3.4627 - val_accuracy: 0.4380\n",
      "Epoch 54/200\n",
      "391/391 - 24s - loss: 0.3639 - accuracy: 0.8878 - val_loss: 3.5531 - val_accuracy: 0.4362\n",
      "Epoch 55/200\n",
      "391/391 - 24s - loss: 0.3509 - accuracy: 0.8903 - val_loss: 3.6143 - val_accuracy: 0.4353\n",
      "Epoch 56/200\n",
      "391/391 - 24s - loss: 0.3412 - accuracy: 0.8942 - val_loss: 3.5826 - val_accuracy: 0.4390\n",
      "Epoch 57/200\n",
      "391/391 - 24s - loss: 0.3326 - accuracy: 0.8956 - val_loss: 3.7292 - val_accuracy: 0.4224\n",
      "Epoch 58/200\n",
      "391/391 - 24s - loss: 0.3225 - accuracy: 0.8995 - val_loss: 3.7632 - val_accuracy: 0.4267\n",
      "Epoch 59/200\n",
      "391/391 - 24s - loss: 0.3307 - accuracy: 0.8970 - val_loss: 3.7028 - val_accuracy: 0.4339\n",
      "Epoch 60/200\n",
      "391/391 - 24s - loss: 0.3108 - accuracy: 0.9025 - val_loss: 3.7515 - val_accuracy: 0.4306\n",
      "Epoch 61/200\n",
      "391/391 - 24s - loss: 0.2524 - accuracy: 0.9223 - val_loss: 3.6635 - val_accuracy: 0.4472\n",
      "Epoch 62/200\n",
      "391/391 - 24s - loss: 0.2234 - accuracy: 0.9324 - val_loss: 3.7214 - val_accuracy: 0.4388\n",
      "Epoch 63/200\n",
      "391/391 - 24s - loss: 0.2160 - accuracy: 0.9347 - val_loss: 3.6477 - val_accuracy: 0.4491\n",
      "Epoch 64/200\n",
      "391/391 - 24s - loss: 0.2068 - accuracy: 0.9373 - val_loss: 3.7527 - val_accuracy: 0.4480\n",
      "Epoch 65/200\n",
      "391/391 - 24s - loss: 0.2011 - accuracy: 0.9400 - val_loss: 3.7911 - val_accuracy: 0.4427\n",
      "Epoch 66/200\n",
      "391/391 - 24s - loss: 0.1896 - accuracy: 0.9428 - val_loss: 3.8225 - val_accuracy: 0.4432\n",
      "Epoch 67/200\n",
      "391/391 - 24s - loss: 0.1924 - accuracy: 0.9417 - val_loss: 3.9103 - val_accuracy: 0.4407\n",
      "Epoch 68/200\n",
      "391/391 - 24s - loss: 0.1903 - accuracy: 0.9435 - val_loss: 3.7432 - val_accuracy: 0.4454\n",
      "Epoch 69/200\n",
      "391/391 - 24s - loss: 0.1789 - accuracy: 0.9461 - val_loss: 3.9321 - val_accuracy: 0.4359\n",
      "Epoch 70/200\n",
      "391/391 - 24s - loss: 0.1797 - accuracy: 0.9463 - val_loss: 3.9315 - val_accuracy: 0.4414\n",
      "Epoch 71/200\n",
      "391/391 - 24s - loss: 0.1729 - accuracy: 0.9476 - val_loss: 3.8537 - val_accuracy: 0.4521\n",
      "Epoch 72/200\n",
      "391/391 - 24s - loss: 0.1698 - accuracy: 0.9482 - val_loss: 3.8459 - val_accuracy: 0.4522\n",
      "Epoch 73/200\n",
      "391/391 - 24s - loss: 0.1649 - accuracy: 0.9490 - val_loss: 3.9214 - val_accuracy: 0.4424\n",
      "Epoch 74/200\n",
      "391/391 - 24s - loss: 0.1618 - accuracy: 0.9516 - val_loss: 3.9797 - val_accuracy: 0.4377\n",
      "Epoch 75/200\n",
      "391/391 - 24s - loss: 0.1663 - accuracy: 0.9488 - val_loss: 3.9342 - val_accuracy: 0.4506\n",
      "Epoch 76/200\n",
      "391/391 - 24s - loss: 0.1624 - accuracy: 0.9505 - val_loss: 3.9556 - val_accuracy: 0.4433\n",
      "Epoch 77/200\n",
      "391/391 - 23s - loss: 0.1612 - accuracy: 0.9512 - val_loss: 4.0869 - val_accuracy: 0.4436\n",
      "Epoch 78/200\n",
      "391/391 - 23s - loss: 0.1560 - accuracy: 0.9513 - val_loss: 4.0356 - val_accuracy: 0.4457\n",
      "Epoch 79/200\n",
      "391/391 - 24s - loss: 0.1512 - accuracy: 0.9533 - val_loss: 4.0917 - val_accuracy: 0.4385\n",
      "Epoch 80/200\n",
      "391/391 - 24s - loss: 0.1502 - accuracy: 0.9541 - val_loss: 4.1057 - val_accuracy: 0.4398\n",
      "Epoch 81/200\n",
      "391/391 - 24s - loss: 0.1367 - accuracy: 0.9593 - val_loss: 4.0344 - val_accuracy: 0.4480\n",
      "Epoch 82/200\n",
      "391/391 - 24s - loss: 0.1277 - accuracy: 0.9613 - val_loss: 4.0177 - val_accuracy: 0.4445\n",
      "Epoch 83/200\n",
      "391/391 - 23s - loss: 0.1220 - accuracy: 0.9647 - val_loss: 4.0755 - val_accuracy: 0.4461\n",
      "Epoch 84/200\n",
      "391/391 - 23s - loss: 0.1175 - accuracy: 0.9648 - val_loss: 4.0557 - val_accuracy: 0.4465\n",
      "Epoch 85/200\n",
      "391/391 - 23s - loss: 0.1140 - accuracy: 0.9668 - val_loss: 4.0528 - val_accuracy: 0.4506\n",
      "Epoch 86/200\n",
      "391/391 - 24s - loss: 0.1105 - accuracy: 0.9684 - val_loss: 4.1305 - val_accuracy: 0.4457\n",
      "Epoch 87/200\n",
      "391/391 - 24s - loss: 0.1109 - accuracy: 0.9668 - val_loss: 4.1159 - val_accuracy: 0.4452\n",
      "Epoch 88/200\n",
      "391/391 - 24s - loss: 0.1105 - accuracy: 0.9670 - val_loss: 4.0850 - val_accuracy: 0.4518\n",
      "Epoch 89/200\n",
      "391/391 - 24s - loss: 0.1087 - accuracy: 0.9669 - val_loss: 4.1762 - val_accuracy: 0.4457\n",
      "Epoch 90/200\n",
      "391/391 - 23s - loss: 0.1081 - accuracy: 0.9677 - val_loss: 4.2319 - val_accuracy: 0.4406\n",
      "Epoch 91/200\n",
      "391/391 - 23s - loss: 0.1033 - accuracy: 0.9702 - val_loss: 4.1727 - val_accuracy: 0.4448\n",
      "Epoch 92/200\n",
      "391/391 - 23s - loss: 0.1068 - accuracy: 0.9685 - val_loss: 4.1705 - val_accuracy: 0.4462\n",
      "Epoch 93/200\n",
      "391/391 - 23s - loss: 0.1038 - accuracy: 0.9688 - val_loss: 4.2003 - val_accuracy: 0.4431\n",
      "Epoch 94/200\n",
      "391/391 - 23s - loss: 0.1020 - accuracy: 0.9702 - val_loss: 4.2100 - val_accuracy: 0.4449\n",
      "Epoch 95/200\n",
      "391/391 - 23s - loss: 0.1041 - accuracy: 0.9691 - val_loss: 4.1937 - val_accuracy: 0.4463\n",
      "Epoch 96/200\n",
      "391/391 - 23s - loss: 0.1011 - accuracy: 0.9699 - val_loss: 4.2392 - val_accuracy: 0.4427\n",
      "Epoch 97/200\n",
      "391/391 - 23s - loss: 0.1027 - accuracy: 0.9696 - val_loss: 4.2409 - val_accuracy: 0.4423\n",
      "Epoch 98/200\n",
      "391/391 - 23s - loss: 0.0974 - accuracy: 0.9702 - val_loss: 4.2343 - val_accuracy: 0.4463\n",
      "Epoch 99/200\n",
      "391/391 - 23s - loss: 0.0957 - accuracy: 0.9716 - val_loss: 4.2489 - val_accuracy: 0.4455\n",
      "Epoch 100/200\n",
      "391/391 - 23s - loss: 0.0959 - accuracy: 0.9714 - val_loss: 4.2886 - val_accuracy: 0.4431\n",
      "Epoch 101/200\n",
      "391/391 - 24s - loss: 0.0894 - accuracy: 0.9740 - val_loss: 4.3100 - val_accuracy: 0.4441\n",
      "Epoch 102/200\n",
      "391/391 - 23s - loss: 0.0899 - accuracy: 0.9728 - val_loss: 4.2970 - val_accuracy: 0.4471\n",
      "Epoch 103/200\n",
      "391/391 - 23s - loss: 0.0875 - accuracy: 0.9744 - val_loss: 4.2842 - val_accuracy: 0.4435\n",
      "Epoch 104/200\n",
      "391/391 - 23s - loss: 0.0862 - accuracy: 0.9746 - val_loss: 4.2692 - val_accuracy: 0.4484\n",
      "Epoch 105/200\n",
      "391/391 - 23s - loss: 0.0812 - accuracy: 0.9760 - val_loss: 4.2825 - val_accuracy: 0.4449\n",
      "Epoch 106/200\n",
      "391/391 - 23s - loss: 0.0843 - accuracy: 0.9757 - val_loss: 4.3037 - val_accuracy: 0.4475\n",
      "Epoch 107/200\n",
      "391/391 - 23s - loss: 0.0827 - accuracy: 0.9764 - val_loss: 4.2807 - val_accuracy: 0.4490\n",
      "Epoch 108/200\n",
      "391/391 - 23s - loss: 0.0806 - accuracy: 0.9766 - val_loss: 4.2944 - val_accuracy: 0.4459\n",
      "Epoch 109/200\n",
      "391/391 - 23s - loss: 0.0826 - accuracy: 0.9754 - val_loss: 4.3353 - val_accuracy: 0.4436\n",
      "Epoch 110/200\n",
      "391/391 - 23s - loss: 0.0809 - accuracy: 0.9758 - val_loss: 4.3113 - val_accuracy: 0.4472\n",
      "Epoch 111/200\n",
      "391/391 - 23s - loss: 0.0817 - accuracy: 0.9757 - val_loss: 4.3356 - val_accuracy: 0.4448\n",
      "Epoch 112/200\n",
      "391/391 - 23s - loss: 0.0834 - accuracy: 0.9749 - val_loss: 4.3112 - val_accuracy: 0.4471\n",
      "Epoch 113/200\n",
      "391/391 - 23s - loss: 0.0796 - accuracy: 0.9762 - val_loss: 4.2959 - val_accuracy: 0.4507\n",
      "Epoch 114/200\n",
      "391/391 - 24s - loss: 0.0784 - accuracy: 0.9768 - val_loss: 4.3098 - val_accuracy: 0.4481\n",
      "Epoch 115/200\n",
      "391/391 - 23s - loss: 0.0797 - accuracy: 0.9760 - val_loss: 4.3318 - val_accuracy: 0.4441\n",
      "Epoch 116/200\n",
      "391/391 - 23s - loss: 0.0744 - accuracy: 0.9791 - val_loss: 4.3373 - val_accuracy: 0.4434\n",
      "Epoch 117/200\n",
      "391/391 - 23s - loss: 0.0783 - accuracy: 0.9771 - val_loss: 4.3279 - val_accuracy: 0.4454\n",
      "Epoch 118/200\n",
      "391/391 - 23s - loss: 0.0742 - accuracy: 0.9791 - val_loss: 4.3203 - val_accuracy: 0.4450\n",
      "Epoch 119/200\n",
      "391/391 - 23s - loss: 0.0737 - accuracy: 0.9781 - val_loss: 4.3383 - val_accuracy: 0.4469\n",
      "Epoch 120/200\n",
      "391/391 - 23s - loss: 0.0800 - accuracy: 0.9770 - val_loss: 4.4079 - val_accuracy: 0.4390\n",
      "Epoch 121/200\n",
      "391/391 - 23s - loss: 0.0756 - accuracy: 0.9781 - val_loss: 4.3306 - val_accuracy: 0.4478\n",
      "Epoch 122/200\n",
      "391/391 - 23s - loss: 0.0747 - accuracy: 0.9784 - val_loss: 4.3449 - val_accuracy: 0.4486\n",
      "Epoch 123/200\n",
      "391/391 - 23s - loss: 0.0698 - accuracy: 0.9800 - val_loss: 4.3960 - val_accuracy: 0.4450\n",
      "Epoch 124/200\n",
      "391/391 - 23s - loss: 0.0708 - accuracy: 0.9794 - val_loss: 4.3522 - val_accuracy: 0.4476\n",
      "Epoch 125/200\n",
      "391/391 - 23s - loss: 0.0734 - accuracy: 0.9788 - val_loss: 4.3403 - val_accuracy: 0.4465\n",
      "Epoch 126/200\n",
      "391/391 - 23s - loss: 0.0711 - accuracy: 0.9791 - val_loss: 4.3945 - val_accuracy: 0.4474\n",
      "Epoch 127/200\n",
      "391/391 - 24s - loss: 0.0700 - accuracy: 0.9797 - val_loss: 4.3464 - val_accuracy: 0.4472\n",
      "Epoch 128/200\n",
      "391/391 - 23s - loss: 0.0702 - accuracy: 0.9797 - val_loss: 4.3688 - val_accuracy: 0.4455\n"
     ]
    }
   ],
   "source": [
    "batch_size = 128\n",
    "maxepoches = 200\n",
    "learning_rate = 0.01\n",
    "lr_decay = 1e-6\n",
    "lr_drop = 20\n",
    "\n",
    "def lr_scheduler(epoch):\n",
    "    return learning_rate * (0.5 ** (epoch // lr_drop))\n",
    "reduce_lr = keras.callbacks.LearningRateScheduler(lr_scheduler)\n",
    "\n",
    "callback = tf.keras.callbacks.EarlyStopping(monitor='loss', patience=5)\n",
    "\n",
    "#data augmentation\n",
    "datagen = ImageDataGenerator(\n",
    "    rotation_range=15,  # randomly rotate images in the range (degrees, 0 to 180)\n",
    "    width_shift_range=0.1,  # randomly shift images horizontally (fraction of total width)\n",
    "    height_shift_range=0.1,  # randomly shift images vertically (fraction of total height)\n",
    "    horizontal_flip=True,  # randomly flip images\n",
    "    vertical_flip=False)  # randomly flip images\n",
    "\n",
    "sgd = optimizers.SGD(lr=learning_rate,decay=lr_decay, momentum=0.9, nesterov=True)\n",
    "model.compile(loss='categorical_crossentropy', optimizer=sgd,metrics=['accuracy'])\n",
    "\n",
    "\n",
    "# training process in a for loop with learning rate drop every 25 epoches.\n",
    "\n",
    "history = model.fit(datagen.flow(x_train, y_train,\n",
    "                                 batch_size=batch_size),\n",
    "                    epochs=maxepoches,\n",
    "                    validation_data=(x_test, y_test),callbacks=[callback,reduce_lr],verbose=2)\n",
    "\n",
    "model.save_weights(\"/content/gdrive/My Drive/checkpoint/Resnet18_SGD_BatchNormalization.ckpt\")"
   ]
  },
  {
   "cell_type": "code",
   "execution_count": null,
   "metadata": {
    "colab": {
     "base_uri": "https://localhost:8080/",
     "height": 295
    },
    "id": "YgZQ6mFs8mZ0",
    "outputId": "f06104b1-e706-4506-bc2b-df323cf7dabe"
   },
   "outputs": [
    {
     "data": {
      "image/png": "[encoded data removed]",
      "text/plain": [
       "<Figure size 432x288 with 1 Axes>"
      ]
     },
     "metadata": {
      "needs_background": "light",
      "tags": []
     },
     "output_type": "display_data"
    }
   ],
   "source": [
    "# summarize history for accuracy\n",
    "plt.plot(history.history['accuracy'])\n",
    "plt.plot(history.history['val_accuracy'])\n",
    "plt.title('model accuracy')\n",
    "plt.ylabel('accuracy')\n",
    "plt.xlabel('epoch')\n",
    "plt.legend(['train', 'test'], loc='upper left')\n",
    "plt.show()"
   ]
  },
  {
   "cell_type": "code",
   "execution_count": null,
   "metadata": {
    "colab": {
     "base_uri": "https://localhost:8080/",
     "height": 295
    },
    "id": "yN4VcyyxLwtE",
    "outputId": "e103c288-6e8e-4060-a846-cf058469c25a"
   },
   "outputs": [
    {
     "data": {
      "image/png": "[encoded data removed]",
      "text/plain": [
       "<Figure size 432x288 with 1 Axes>"
      ]
     },
     "metadata": {
      "needs_background": "light",
      "tags": []
     },
     "output_type": "display_data"
    }
   ],
   "source": [
    "# summarize history for loss\n",
    "plt.plot(history.history['loss'])\n",
    "plt.plot(history.history['val_loss'])\n",
    "plt.title('model loss')\n",
    "plt.ylabel('loss')\n",
    "plt.xlabel('epoch')\n",
    "plt.legend(['train', 'test'], loc='upper left')\n",
    "plt.show()"
   ]
  },
  {
   "cell_type": "code",
   "execution_count": null,
   "metadata": {
    "colab": {
     "base_uri": "https://localhost:8080/",
     "height": 50
    },
    "id": "7l-CLtkgOKf0",
    "outputId": "2d84c872-b8cc-4e30-c2ba-96531e41ad94"
   },
   "outputs": [
    {
     "name": "stdout",
     "output_type": "stream",
     "text": [
      "Precision Is: 0.4467811794519966\n",
      "Recall Is: 0.4455\n"
     ]
    }
   ],
   "source": [
    "import pandas as pd\n",
    "from keras.datasets import cifar100\n",
    "from sklearn.metrics import precision_score\n",
    "from sklearn.metrics import recall_score\n",
    "(x_train, y_train), (x_test, y_test) = cifar100.load_data()\n",
    "x_test = x_test.astype('float32')\n",
    "x_test = x_test / 255.0\n",
    "y_pred = model.predict(x_test)\n",
    "y_pred=np.argmax(y_pred,axis=1)\n",
    "y_pred=pd.DataFrame(y_pred)\n",
    "y_test=pd.DataFrame(y_test)\n",
    "\n",
    "p=precision_score(y_test, y_pred,average='weighted',labels=np.unique(y_pred))\n",
    "r=recall_score(y_test,y_pred,average='micro',labels=np.unique(y_pred))\n",
    "print('Precision Is:',p)\n",
    "print('Recall Is:',r)"
   ]
  }
 ],
 "metadata": {
  "accelerator": "GPU",
  "colab": {
   "collapsed_sections": [],
   "name": "Resnet18_SGD_BatchNormalization.ipynb",
   "provenance": []
  },
  "kernelspec": {
   "display_name": "Python 3",
   "language": "python",
   "name": "python3"
  },
  "language_info": {
   "codemirror_mode": {
    "name": "ipython",
    "version": 3
   },
   "file_extension": ".py",
   "mimetype": "text/x-python",
   "name": "python",
   "nbconvert_exporter": "python",
   "pygments_lexer": "ipython3",
   "version": "3.8.3"
  }
 },
 "nbformat": 4,
 "nbformat_minor": 1
}
