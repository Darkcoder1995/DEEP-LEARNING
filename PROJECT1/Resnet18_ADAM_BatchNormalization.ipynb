{
 "cells": [
  {
   "cell_type": "code",
   "execution_count": null,
   "metadata": {
    "id": "zPVDwFuwn0hH"
   },
   "outputs": [],
   "source": [
    "import numpy as np\n",
    "from keras import layers\n",
    "import keras\n",
    "from keras.models import Sequential\n",
    "from keras.preprocessing.image import ImageDataGenerator\n",
    "from keras.layers import Input, Add, Flatten, Dense, Dropout, Conv2D, MaxPooling2D, ZeroPadding2D, Dense, Dropout, Activation, Flatten, BatchNormalization, AveragePooling2D, MaxPooling2D, GlobalMaxPooling2D\n",
    "from keras.optimizers import SGD\n",
    "import tensorflow as tf\n",
    "from tensorflow.python.keras.metrics import Metric\n",
    "from keras import optimizers\n",
    "from keras.models import Model, load_model\n",
    "from keras.preprocessing import image\n",
    "from keras.utils import layer_utils\n",
    "from keras.utils.data_utils import get_file\n",
    "from keras.applications.imagenet_utils import preprocess_input\n",
    "from keras.layers.core import Lambda\n",
    "from keras import backend as K\n",
    "from keras import regularizers\n",
    "import matplotlib.pyplot as plt \n",
    "from keras.initializers import glorot_uniform\n",
    "from keras.layers import Input\n"
   ]
  },
  {
   "cell_type": "code",
   "execution_count": null,
   "metadata": {
    "id": "75sagwbUTY3I"
   },
   "outputs": [],
   "source": [
    "#  REFERENCED FROM https://github.com/fchollet/deep-learning-models"
   ]
  },
  {
   "cell_type": "code",
   "execution_count": null,
   "metadata": {
    "id": "3TjxXzA04tMX"
   },
   "outputs": [],
   "source": [
    "num_classes=100"
   ]
  },
  {
   "cell_type": "code",
   "execution_count": null,
   "metadata": {
    "colab": {
     "base_uri": "https://localhost:8080/",
     "height": 50
    },
    "id": "IAlAnrKz4uyf",
    "outputId": "a25daaf0-cb6e-4c73-95fc-f44c1dd9eb48"
   },
   "outputs": [
    {
     "name": "stdout",
     "output_type": "stream",
     "text": [
      "Downloading data from https://www.cs.toronto.edu/~kriz/cifar-100-python.tar.gz\n",
      "169009152/169001437 [==============================] - 2s 0us/step\n"
     ]
    }
   ],
   "source": [
    "from keras.datasets import cifar100\n",
    "(x_train, y_train), (x_test, y_test) = cifar100.load_data()\n",
    "x_train = x_train.astype('float32')\n",
    "x_test = x_test.astype('float32')\n",
    "x_train = x_train / 255.0\n",
    "x_test = x_test / 255.0\n",
    "\n",
    "y_train = keras.utils.to_categorical(y_train, num_classes)\n",
    "y_test = keras.utils.to_categorical(y_test, num_classes)"
   ]
  },
  {
   "cell_type": "code",
   "execution_count": null,
   "metadata": {
    "colab": {
     "base_uri": "https://localhost:8080/",
     "height": 34
    },
    "id": "_TAqqYoj4y_N",
    "outputId": "094751eb-d568-4832-f99d-3fca053a6547"
   },
   "outputs": [
    {
     "data": {
      "text/plain": [
       "(32, 32, 3)"
      ]
     },
     "execution_count": 4,
     "metadata": {
      "tags": []
     },
     "output_type": "execute_result"
    }
   ],
   "source": [
    "x_shape = x_train[0].shape\n",
    "x_shape"
   ]
  },
  {
   "cell_type": "code",
   "execution_count": null,
   "metadata": {
    "id": "eRZ4QDwD5fEv"
   },
   "outputs": [],
   "source": [
    "def identity_block(X, f, filters):\n",
    "      \n",
    "    # Retrieve Filters\n",
    "    F1, F2 = filters\n",
    "    \n",
    "    # Save the input value\n",
    "    X_shortcut = X\n",
    "    X = BatchNormalization(axis = 1)(X_shortcut)\n",
    "    \n",
    "    # First component of main path\n",
    "    X = Conv2D(filters = F1, kernel_size = (1, 1), strides = (1,1), padding = 'valid')(X)\n",
    "    X = Activation('elu')(X)\n",
    "    X = BatchNormalization(axis = 1)(X)\n",
    "    \n",
    "    # Second component of main path\n",
    "    X = Conv2D(filters = F2, kernel_size = (f, f), strides = (1, 1), padding = 'same')(X)\n",
    "    X = Activation('elu')(X)\n",
    "    X = BatchNormalization(axis = 1)(X)\n",
    "\n",
    "    # Final step: Add shortcut value to main path, and pass it through a RELU activation\n",
    "    X = Add()([X, X_shortcut])\n",
    "    X = Activation('elu')(X)\n",
    "    return X\n",
    "\n",
    "\n",
    "def convolutional_block(X,f,filters,s=2):\n",
    "\n",
    "\n",
    "    # Retrieve Filters\n",
    "    F1, F2 = filters\n",
    "\n",
    "    # Save the input value\n",
    "    X_shortcut = X\n",
    "\n",
    "    ##### MAIN PATH #####\n",
    "    # First component of main path \n",
    "    X = Conv2D(filters=F1, kernel_size=(1, 1), strides=(s, s), padding='valid')(X)\n",
    "    X = Activation('elu')(X)\n",
    "    X = BatchNormalization(axis = 1)(X)\n",
    "\n",
    "    # Second component of main path\n",
    "    X = Conv2D(filters=F2, kernel_size=(f, f), strides=(1, 1), padding='same')(X)\n",
    "    X = Activation('elu')(X)\n",
    "    X = BatchNormalization(axis = 1)(X)\n",
    "\n",
    "    ##### SHORTCUT PATH #### \n",
    "    X_shortcut = Conv2D(filters=F2, kernel_size=(1, 1), strides=(s, s), padding='valid')(X_shortcut)\n",
    "    X_shortcut = BatchNormalization(axis = 1)(X_shortcut)\n",
    "\n",
    "    # Final step: Add shortcut value to main path, and pass it through a RELU activation\n",
    "    X = Add()([X, X_shortcut])\n",
    "    X = Activation('elu')(X)\n",
    "\n",
    "    return X\n",
    "\n",
    "def ResNet18(input_shape = x_shape, classes = 100):\n",
    "    \n",
    "    # Define the input as a tensor with shape input_shape\n",
    "    X_input = Input(input_shape)\n",
    "\n",
    "    \n",
    "    # Zero-Padding\n",
    "    X = ZeroPadding2D((3, 3))(X_input)\n",
    "    \n",
    "    # Stage 1\n",
    "    X = Conv2D(64, (7, 7), strides = (2, 2))(X)\n",
    "    X = Activation('relu')(X)\n",
    "    X = MaxPooling2D((3, 3), strides=(2, 2))(X)\n",
    "\n",
    "    # Stage 2\n",
    "    X = convolutional_block(X,f=3,filters = [64, 64],s=1)\n",
    "    X = identity_block(X, 3, [64, 64])\n",
    "    \n",
    "\n",
    "    # Stage 3\n",
    "    X = convolutional_block(X,f=3,filters=[128, 128],s=2)\n",
    "    X = identity_block(X, 3, [128, 128])\n",
    "    \n",
    "\n",
    "    # Stage 4\n",
    "    X = convolutional_block(X, f=3, filters=[256, 256],s=2)\n",
    "    X = identity_block(X, 3, [256, 256])\n",
    " \n",
    "\n",
    "    # Stage 5\n",
    "    X = convolutional_block(X, f=3, filters=[512, 512],s=2)\n",
    "    X = identity_block(X, 3, [512, 512])\n",
    "\n",
    "\n",
    "    # AVGPOOL\n",
    "    X = AveragePooling2D(pool_size=(2,2), padding='same')(X)\n",
    "\n",
    "    # Output layer\n",
    "    X = Flatten()(X)\n",
    "    X = Dense(classes, activation='softmax')(X)\n",
    "    \n",
    "    \n",
    "    # Create model\n",
    "    model = Model(inputs = X_input, outputs = X, name='ResNet18')\n",
    "\n",
    "    return model\n"
   ]
  },
  {
   "cell_type": "code",
   "execution_count": null,
   "metadata": {
    "id": "N6O5YSICb9kR"
   },
   "outputs": [],
   "source": [
    "model = ResNet18(input_shape = (32, 32, 3), classes = 100)"
   ]
  },
  {
   "cell_type": "code",
   "execution_count": null,
   "metadata": {
    "colab": {
     "base_uri": "https://localhost:8080/",
     "height": 34
    },
    "id": "PSSdw1rYm93Y",
    "outputId": "7bbfc1c5-0f40-4b64-b18d-821c38cb9571"
   },
   "outputs": [
    {
     "name": "stdout",
     "output_type": "stream",
     "text": [
      "Mounted at /content/gdrive/\n"
     ]
    }
   ],
   "source": [
    "from google.colab import drive\n",
    "drive.mount('/content/gdrive/')"
   ]
  },
  {
   "cell_type": "code",
   "execution_count": null,
   "metadata": {
    "colab": {
     "base_uri": "https://localhost:8080/",
     "height": 1000
    },
    "id": "F0-GRoxokntc",
    "outputId": "f22f4b52-5124-4898-c184-21abd61d23f3"
   },
   "outputs": [
    {
     "name": "stdout",
     "output_type": "stream",
     "text": [
      "Epoch 1/200\n",
      "391/391 - 27s - loss: 3.8592 - accuracy: 0.1182 - val_loss: 3.8579 - val_accuracy: 0.1209\n",
      "Epoch 2/200\n",
      "391/391 - 26s - loss: 3.2618 - accuracy: 0.2083 - val_loss: 3.1054 - val_accuracy: 0.2510\n",
      "Epoch 3/200\n",
      "391/391 - 26s - loss: 2.9995 - accuracy: 0.2602 - val_loss: 2.8479 - val_accuracy: 0.2921\n",
      "Epoch 4/200\n",
      "391/391 - 26s - loss: 2.8216 - accuracy: 0.2936 - val_loss: 2.7167 - val_accuracy: 0.3226\n",
      "Epoch 5/200\n",
      "391/391 - 26s - loss: 2.6886 - accuracy: 0.3188 - val_loss: 2.6200 - val_accuracy: 0.3383\n",
      "Epoch 6/200\n",
      "391/391 - 26s - loss: 2.5601 - accuracy: 0.3448 - val_loss: 2.5778 - val_accuracy: 0.3529\n",
      "Epoch 7/200\n",
      "391/391 - 26s - loss: 2.4654 - accuracy: 0.3645 - val_loss: 2.5694 - val_accuracy: 0.3557\n",
      "Epoch 8/200\n",
      "391/391 - 26s - loss: 2.3831 - accuracy: 0.3817 - val_loss: 2.5827 - val_accuracy: 0.3557\n",
      "Epoch 9/200\n",
      "391/391 - 26s - loss: 2.2911 - accuracy: 0.4017 - val_loss: 2.5120 - val_accuracy: 0.3730\n",
      "Epoch 10/200\n",
      "391/391 - 26s - loss: 2.2170 - accuracy: 0.4166 - val_loss: 2.3678 - val_accuracy: 0.3924\n",
      "Epoch 11/200\n",
      "391/391 - 26s - loss: 2.1435 - accuracy: 0.4307 - val_loss: 2.4368 - val_accuracy: 0.3903\n",
      "Epoch 12/200\n",
      "391/391 - 26s - loss: 2.0847 - accuracy: 0.4421 - val_loss: 2.3502 - val_accuracy: 0.4007\n",
      "Epoch 13/200\n",
      "391/391 - 26s - loss: 2.0213 - accuracy: 0.4590 - val_loss: 2.4378 - val_accuracy: 0.3918\n",
      "Epoch 14/200\n",
      "391/391 - 26s - loss: 1.9551 - accuracy: 0.4736 - val_loss: 2.4710 - val_accuracy: 0.3925\n",
      "Epoch 15/200\n",
      "391/391 - 26s - loss: 1.8990 - accuracy: 0.4847 - val_loss: 2.3689 - val_accuracy: 0.4103\n",
      "Epoch 16/200\n",
      "391/391 - 26s - loss: 1.8406 - accuracy: 0.5016 - val_loss: 2.4462 - val_accuracy: 0.3960\n",
      "Epoch 17/200\n",
      "391/391 - 26s - loss: 1.7900 - accuracy: 0.5112 - val_loss: 2.3541 - val_accuracy: 0.4191\n",
      "Epoch 18/200\n",
      "391/391 - 26s - loss: 1.7336 - accuracy: 0.5235 - val_loss: 2.2426 - val_accuracy: 0.4414\n",
      "Epoch 19/200\n",
      "391/391 - 26s - loss: 1.6800 - accuracy: 0.5383 - val_loss: 2.4376 - val_accuracy: 0.4101\n",
      "Epoch 20/200\n",
      "391/391 - 26s - loss: 1.6285 - accuracy: 0.5484 - val_loss: 2.4441 - val_accuracy: 0.4122\n",
      "Epoch 21/200\n",
      "391/391 - 26s - loss: 1.5823 - accuracy: 0.5608 - val_loss: 2.4430 - val_accuracy: 0.4096\n",
      "Epoch 22/200\n",
      "391/391 - 26s - loss: 1.5305 - accuracy: 0.5726 - val_loss: 2.4877 - val_accuracy: 0.4046\n",
      "Epoch 23/200\n",
      "391/391 - 26s - loss: 1.4783 - accuracy: 0.5847 - val_loss: 2.3889 - val_accuracy: 0.4285\n",
      "Epoch 24/200\n",
      "391/391 - 26s - loss: 1.4382 - accuracy: 0.5960 - val_loss: 2.3791 - val_accuracy: 0.4326\n",
      "Epoch 25/200\n",
      "391/391 - 26s - loss: 1.3887 - accuracy: 0.6047 - val_loss: 2.4967 - val_accuracy: 0.4153\n",
      "Epoch 26/200\n",
      "391/391 - 26s - loss: 1.3398 - accuracy: 0.6179 - val_loss: 2.3687 - val_accuracy: 0.4391\n",
      "Epoch 27/200\n",
      "391/391 - 26s - loss: 1.2932 - accuracy: 0.6309 - val_loss: 2.4345 - val_accuracy: 0.4276\n",
      "Epoch 28/200\n",
      "391/391 - 26s - loss: 1.2560 - accuracy: 0.6425 - val_loss: 2.5415 - val_accuracy: 0.4156\n",
      "Epoch 29/200\n",
      "391/391 - 26s - loss: 1.1986 - accuracy: 0.6536 - val_loss: 2.6620 - val_accuracy: 0.4065\n",
      "Epoch 30/200\n",
      "391/391 - 26s - loss: 1.1672 - accuracy: 0.6615 - val_loss: 2.4317 - val_accuracy: 0.4379\n",
      "Epoch 31/200\n",
      "391/391 - 26s - loss: 1.1225 - accuracy: 0.6730 - val_loss: 2.6146 - val_accuracy: 0.4198\n",
      "Epoch 32/200\n",
      "391/391 - 26s - loss: 1.0904 - accuracy: 0.6835 - val_loss: 2.5905 - val_accuracy: 0.4294\n",
      "Epoch 33/200\n",
      "391/391 - 26s - loss: 1.0505 - accuracy: 0.6930 - val_loss: 2.5706 - val_accuracy: 0.4335\n",
      "Epoch 34/200\n",
      "391/391 - 26s - loss: 1.0065 - accuracy: 0.7058 - val_loss: 2.6492 - val_accuracy: 0.4272\n",
      "Epoch 35/200\n",
      "391/391 - 26s - loss: 0.9682 - accuracy: 0.7127 - val_loss: 2.7881 - val_accuracy: 0.4111\n",
      "Epoch 36/200\n",
      "391/391 - 26s - loss: 0.9376 - accuracy: 0.7208 - val_loss: 2.8068 - val_accuracy: 0.4201\n",
      "Epoch 37/200\n",
      "391/391 - 26s - loss: 0.8985 - accuracy: 0.7338 - val_loss: 2.8047 - val_accuracy: 0.4181\n",
      "Epoch 38/200\n",
      "391/391 - 26s - loss: 0.8655 - accuracy: 0.7438 - val_loss: 2.8940 - val_accuracy: 0.4134\n",
      "Epoch 39/200\n",
      "391/391 - 26s - loss: 0.8332 - accuracy: 0.7516 - val_loss: 2.8113 - val_accuracy: 0.4253\n",
      "Epoch 40/200\n",
      "391/391 - 26s - loss: 0.8026 - accuracy: 0.7587 - val_loss: 2.8400 - val_accuracy: 0.4253\n",
      "Epoch 41/200\n",
      "391/391 - 26s - loss: 0.7807 - accuracy: 0.7662 - val_loss: 2.8111 - val_accuracy: 0.4338\n",
      "Epoch 42/200\n",
      "391/391 - 26s - loss: 0.7467 - accuracy: 0.7748 - val_loss: 2.7685 - val_accuracy: 0.4355\n",
      "Epoch 43/200\n",
      "391/391 - 26s - loss: 0.7332 - accuracy: 0.7786 - val_loss: 2.9639 - val_accuracy: 0.4196\n",
      "Epoch 44/200\n",
      "391/391 - 26s - loss: 0.6888 - accuracy: 0.7917 - val_loss: 2.7974 - val_accuracy: 0.4449\n",
      "Epoch 45/200\n",
      "391/391 - 26s - loss: 0.6714 - accuracy: 0.7946 - val_loss: 2.9286 - val_accuracy: 0.4217\n",
      "Epoch 46/200\n",
      "391/391 - 26s - loss: 0.6502 - accuracy: 0.8024 - val_loss: 2.9992 - val_accuracy: 0.4262\n",
      "Epoch 47/200\n",
      "391/391 - 26s - loss: 0.6276 - accuracy: 0.8076 - val_loss: 3.0596 - val_accuracy: 0.4179\n",
      "Epoch 48/200\n",
      "391/391 - 26s - loss: 0.6033 - accuracy: 0.8173 - val_loss: 3.0764 - val_accuracy: 0.4204\n",
      "Epoch 49/200\n",
      "391/391 - 26s - loss: 0.5823 - accuracy: 0.8220 - val_loss: 2.9929 - val_accuracy: 0.4293\n",
      "Epoch 50/200\n",
      "391/391 - 26s - loss: 0.5675 - accuracy: 0.8272 - val_loss: 3.0007 - val_accuracy: 0.4334\n",
      "Epoch 51/200\n",
      "391/391 - 26s - loss: 0.5525 - accuracy: 0.8293 - val_loss: 2.9628 - val_accuracy: 0.4400\n",
      "Epoch 52/200\n",
      "391/391 - 26s - loss: 0.5397 - accuracy: 0.8361 - val_loss: 3.1475 - val_accuracy: 0.4303\n",
      "Epoch 53/200\n",
      "391/391 - 26s - loss: 0.5088 - accuracy: 0.8445 - val_loss: 3.2347 - val_accuracy: 0.4216\n",
      "Epoch 54/200\n",
      "391/391 - 26s - loss: 0.4926 - accuracy: 0.8467 - val_loss: 3.3152 - val_accuracy: 0.4182\n",
      "Epoch 55/200\n",
      "391/391 - 26s - loss: 0.4880 - accuracy: 0.8492 - val_loss: 3.2271 - val_accuracy: 0.4331\n",
      "Epoch 56/200\n",
      "391/391 - 26s - loss: 0.4778 - accuracy: 0.8538 - val_loss: 3.3024 - val_accuracy: 0.4260\n",
      "Epoch 57/200\n",
      "391/391 - 26s - loss: 0.4662 - accuracy: 0.8558 - val_loss: 3.2927 - val_accuracy: 0.4324\n",
      "Epoch 58/200\n",
      "391/391 - 26s - loss: 0.4372 - accuracy: 0.8641 - val_loss: 3.2851 - val_accuracy: 0.4303\n",
      "Epoch 59/200\n",
      "391/391 - 26s - loss: 0.4290 - accuracy: 0.8670 - val_loss: 3.3157 - val_accuracy: 0.4248\n",
      "Epoch 60/200\n",
      "391/391 - 26s - loss: 0.4185 - accuracy: 0.8700 - val_loss: 3.2699 - val_accuracy: 0.4296\n",
      "Epoch 61/200\n",
      "391/391 - 26s - loss: 0.4096 - accuracy: 0.8720 - val_loss: 3.4259 - val_accuracy: 0.4221\n",
      "Epoch 62/200\n",
      "391/391 - 26s - loss: 0.4020 - accuracy: 0.8762 - val_loss: 3.3706 - val_accuracy: 0.4283\n",
      "Epoch 63/200\n",
      "391/391 - 26s - loss: 0.3930 - accuracy: 0.8761 - val_loss: 3.2752 - val_accuracy: 0.4378\n",
      "Epoch 64/200\n",
      "391/391 - 26s - loss: 0.3902 - accuracy: 0.8778 - val_loss: 3.4729 - val_accuracy: 0.4241\n",
      "Epoch 65/200\n",
      "391/391 - 26s - loss: 0.3745 - accuracy: 0.8826 - val_loss: 3.6699 - val_accuracy: 0.4069\n",
      "Epoch 66/200\n",
      "391/391 - 26s - loss: 0.3584 - accuracy: 0.8883 - val_loss: 3.3116 - val_accuracy: 0.4402\n",
      "Epoch 67/200\n",
      "391/391 - 26s - loss: 0.3606 - accuracy: 0.8862 - val_loss: 3.3870 - val_accuracy: 0.4322\n",
      "Epoch 68/200\n",
      "391/391 - 26s - loss: 0.3519 - accuracy: 0.8896 - val_loss: 3.5995 - val_accuracy: 0.4171\n",
      "Epoch 69/200\n",
      "391/391 - 26s - loss: 0.3428 - accuracy: 0.8936 - val_loss: 3.7372 - val_accuracy: 0.4068\n",
      "Epoch 70/200\n",
      "391/391 - 25s - loss: 0.3286 - accuracy: 0.8971 - val_loss: 3.7656 - val_accuracy: 0.4139\n",
      "Epoch 71/200\n",
      "391/391 - 26s - loss: 0.3270 - accuracy: 0.8971 - val_loss: 3.5299 - val_accuracy: 0.4298\n",
      "Epoch 72/200\n",
      "391/391 - 26s - loss: 0.3190 - accuracy: 0.9001 - val_loss: 3.6357 - val_accuracy: 0.4204\n",
      "Epoch 73/200\n",
      "391/391 - 25s - loss: 0.3128 - accuracy: 0.9002 - val_loss: 3.8668 - val_accuracy: 0.4084\n",
      "Epoch 74/200\n",
      "391/391 - 25s - loss: 0.3035 - accuracy: 0.9046 - val_loss: 3.6410 - val_accuracy: 0.4316\n",
      "Epoch 75/200\n",
      "391/391 - 26s - loss: 0.3030 - accuracy: 0.9052 - val_loss: 3.7207 - val_accuracy: 0.4204\n",
      "Epoch 76/200\n",
      "391/391 - 26s - loss: 0.2867 - accuracy: 0.9091 - val_loss: 3.6779 - val_accuracy: 0.4343\n",
      "Epoch 77/200\n",
      "391/391 - 25s - loss: 0.2954 - accuracy: 0.9074 - val_loss: 4.1826 - val_accuracy: 0.3882\n",
      "Epoch 78/200\n",
      "391/391 - 26s - loss: 0.2864 - accuracy: 0.9107 - val_loss: 3.7677 - val_accuracy: 0.4187\n",
      "Epoch 79/200\n",
      "391/391 - 26s - loss: 0.2820 - accuracy: 0.9122 - val_loss: 3.7265 - val_accuracy: 0.4253\n",
      "Epoch 80/200\n",
      "391/391 - 26s - loss: 0.2761 - accuracy: 0.9127 - val_loss: 3.6218 - val_accuracy: 0.4333\n",
      "Epoch 81/200\n",
      "391/391 - 25s - loss: 0.2541 - accuracy: 0.9189 - val_loss: 3.7454 - val_accuracy: 0.4269\n",
      "Epoch 82/200\n",
      "391/391 - 25s - loss: 0.2724 - accuracy: 0.9136 - val_loss: 3.8059 - val_accuracy: 0.4203\n",
      "Epoch 83/200\n",
      "391/391 - 26s - loss: 0.2568 - accuracy: 0.9188 - val_loss: 3.9283 - val_accuracy: 0.4197\n",
      "Epoch 84/200\n",
      "391/391 - 25s - loss: 0.2645 - accuracy: 0.9151 - val_loss: 3.7090 - val_accuracy: 0.4407\n",
      "Epoch 85/200\n",
      "391/391 - 25s - loss: 0.2456 - accuracy: 0.9237 - val_loss: 3.8200 - val_accuracy: 0.4233\n",
      "Epoch 86/200\n",
      "391/391 - 25s - loss: 0.2500 - accuracy: 0.9206 - val_loss: 3.7393 - val_accuracy: 0.4273\n",
      "Epoch 87/200\n",
      "391/391 - 25s - loss: 0.2432 - accuracy: 0.9222 - val_loss: 4.1283 - val_accuracy: 0.3993\n",
      "Epoch 88/200\n",
      "391/391 - 26s - loss: 0.2423 - accuracy: 0.9222 - val_loss: 3.9773 - val_accuracy: 0.4184\n",
      "Epoch 89/200\n",
      "391/391 - 25s - loss: 0.2355 - accuracy: 0.9257 - val_loss: 3.8569 - val_accuracy: 0.4329\n",
      "Epoch 90/200\n",
      "391/391 - 26s - loss: 0.2311 - accuracy: 0.9273 - val_loss: 3.7436 - val_accuracy: 0.4352\n",
      "Epoch 91/200\n",
      "391/391 - 25s - loss: 0.2253 - accuracy: 0.9290 - val_loss: 3.8887 - val_accuracy: 0.4273\n",
      "Epoch 92/200\n",
      "391/391 - 26s - loss: 0.2303 - accuracy: 0.9263 - val_loss: 4.0356 - val_accuracy: 0.4146\n",
      "Epoch 93/200\n",
      "391/391 - 25s - loss: 0.2270 - accuracy: 0.9288 - val_loss: 3.9970 - val_accuracy: 0.4240\n",
      "Epoch 94/200\n",
      "391/391 - 25s - loss: 0.2253 - accuracy: 0.9302 - val_loss: 4.0611 - val_accuracy: 0.4145\n",
      "Epoch 95/200\n",
      "391/391 - 25s - loss: 0.2177 - accuracy: 0.9324 - val_loss: 4.2641 - val_accuracy: 0.4046\n",
      "Epoch 96/200\n",
      "391/391 - 25s - loss: 0.2209 - accuracy: 0.9310 - val_loss: 4.1672 - val_accuracy: 0.4056\n",
      "Epoch 97/200\n",
      "391/391 - 25s - loss: 0.2079 - accuracy: 0.9343 - val_loss: 3.9327 - val_accuracy: 0.4311\n",
      "Epoch 98/200\n",
      "391/391 - 25s - loss: 0.2054 - accuracy: 0.9356 - val_loss: 4.2495 - val_accuracy: 0.4064\n",
      "Epoch 99/200\n",
      "391/391 - 25s - loss: 0.2033 - accuracy: 0.9353 - val_loss: 4.0549 - val_accuracy: 0.4218\n",
      "Epoch 100/200\n",
      "391/391 - 26s - loss: 0.1988 - accuracy: 0.9380 - val_loss: 4.0570 - val_accuracy: 0.4228\n",
      "Epoch 101/200\n",
      "391/391 - 25s - loss: 0.2041 - accuracy: 0.9355 - val_loss: 4.0156 - val_accuracy: 0.4227\n",
      "Epoch 102/200\n",
      "391/391 - 25s - loss: 0.2037 - accuracy: 0.9348 - val_loss: 4.2627 - val_accuracy: 0.4069\n",
      "Epoch 103/200\n",
      "391/391 - 25s - loss: 0.1914 - accuracy: 0.9396 - val_loss: 4.0487 - val_accuracy: 0.4185\n",
      "Epoch 104/200\n",
      "391/391 - 25s - loss: 0.1834 - accuracy: 0.9421 - val_loss: 4.0639 - val_accuracy: 0.4226\n",
      "Epoch 105/200\n",
      "391/391 - 25s - loss: 0.1928 - accuracy: 0.9404 - val_loss: 4.2026 - val_accuracy: 0.4145\n",
      "Epoch 106/200\n",
      "391/391 - 25s - loss: 0.2003 - accuracy: 0.9363 - val_loss: 4.1895 - val_accuracy: 0.4225\n",
      "Epoch 107/200\n",
      "391/391 - 25s - loss: 0.1957 - accuracy: 0.9381 - val_loss: 4.3998 - val_accuracy: 0.4025\n",
      "Epoch 108/200\n",
      "391/391 - 25s - loss: 0.1832 - accuracy: 0.9418 - val_loss: 4.3400 - val_accuracy: 0.4041\n",
      "Epoch 109/200\n",
      "391/391 - 26s - loss: 0.1765 - accuracy: 0.9448 - val_loss: 4.2479 - val_accuracy: 0.4140\n",
      "Epoch 110/200\n",
      "391/391 - 25s - loss: 0.1876 - accuracy: 0.9395 - val_loss: 4.0328 - val_accuracy: 0.4271\n",
      "Epoch 111/200\n",
      "391/391 - 25s - loss: 0.1816 - accuracy: 0.9418 - val_loss: 4.2429 - val_accuracy: 0.4118\n",
      "Epoch 112/200\n",
      "391/391 - 25s - loss: 0.1770 - accuracy: 0.9439 - val_loss: 4.2292 - val_accuracy: 0.4203\n",
      "Epoch 113/200\n",
      "391/391 - 25s - loss: 0.1757 - accuracy: 0.9445 - val_loss: 4.5027 - val_accuracy: 0.3991\n",
      "Epoch 114/200\n",
      "391/391 - 25s - loss: 0.1710 - accuracy: 0.9449 - val_loss: 4.1001 - val_accuracy: 0.4273\n",
      "Epoch 115/200\n",
      "391/391 - 25s - loss: 0.1781 - accuracy: 0.9432 - val_loss: 4.2726 - val_accuracy: 0.4199\n",
      "Epoch 116/200\n",
      "391/391 - 26s - loss: 0.1675 - accuracy: 0.9458 - val_loss: 4.2005 - val_accuracy: 0.4284\n",
      "Epoch 117/200\n",
      "391/391 - 25s - loss: 0.1752 - accuracy: 0.9447 - val_loss: 3.9688 - val_accuracy: 0.4395\n",
      "Epoch 118/200\n",
      "391/391 - 25s - loss: 0.1623 - accuracy: 0.9484 - val_loss: 4.2890 - val_accuracy: 0.4252\n",
      "Epoch 119/200\n",
      "391/391 - 25s - loss: 0.1670 - accuracy: 0.9472 - val_loss: 4.5842 - val_accuracy: 0.4022\n",
      "Epoch 120/200\n",
      "391/391 - 25s - loss: 0.1609 - accuracy: 0.9495 - val_loss: 4.1543 - val_accuracy: 0.4313\n",
      "Epoch 121/200\n",
      "391/391 - 25s - loss: 0.1600 - accuracy: 0.9493 - val_loss: 4.1895 - val_accuracy: 0.4297\n",
      "Epoch 122/200\n",
      "391/391 - 25s - loss: 0.1601 - accuracy: 0.9492 - val_loss: 4.4341 - val_accuracy: 0.4126\n",
      "Epoch 123/200\n",
      "391/391 - 25s - loss: 0.1623 - accuracy: 0.9482 - val_loss: 4.1740 - val_accuracy: 0.4286\n",
      "Epoch 124/200\n",
      "391/391 - 25s - loss: 0.1562 - accuracy: 0.9497 - val_loss: 4.3951 - val_accuracy: 0.4147\n",
      "Epoch 125/200\n",
      "391/391 - 25s - loss: 0.1521 - accuracy: 0.9512 - val_loss: 4.2148 - val_accuracy: 0.4262\n",
      "Epoch 126/200\n",
      "391/391 - 25s - loss: 0.1561 - accuracy: 0.9517 - val_loss: 4.3042 - val_accuracy: 0.4230\n",
      "Epoch 127/200\n",
      "391/391 - 25s - loss: 0.1523 - accuracy: 0.9510 - val_loss: 4.1884 - val_accuracy: 0.4332\n",
      "Epoch 128/200\n",
      "391/391 - 25s - loss: 0.1614 - accuracy: 0.9474 - val_loss: 4.3073 - val_accuracy: 0.4253\n",
      "Epoch 129/200\n",
      "391/391 - 25s - loss: 0.1492 - accuracy: 0.9523 - val_loss: 4.4587 - val_accuracy: 0.4096\n",
      "Epoch 130/200\n",
      "391/391 - 25s - loss: 0.1451 - accuracy: 0.9530 - val_loss: 4.1372 - val_accuracy: 0.4303\n",
      "Epoch 131/200\n",
      "391/391 - 25s - loss: 0.1471 - accuracy: 0.9526 - val_loss: 4.3893 - val_accuracy: 0.4213\n",
      "Epoch 132/200\n",
      "391/391 - 25s - loss: 0.1451 - accuracy: 0.9539 - val_loss: 4.6402 - val_accuracy: 0.4075\n",
      "Epoch 133/200\n",
      "391/391 - 25s - loss: 0.1485 - accuracy: 0.9517 - val_loss: 4.4635 - val_accuracy: 0.4096\n",
      "Epoch 134/200\n",
      "391/391 - 25s - loss: 0.1450 - accuracy: 0.9534 - val_loss: 4.2895 - val_accuracy: 0.4314\n",
      "Epoch 135/200\n",
      "391/391 - 25s - loss: 0.1368 - accuracy: 0.9555 - val_loss: 4.3180 - val_accuracy: 0.4271\n",
      "Epoch 136/200\n",
      "391/391 - 25s - loss: 0.1371 - accuracy: 0.9558 - val_loss: 4.4115 - val_accuracy: 0.4186\n",
      "Epoch 137/200\n",
      "391/391 - 26s - loss: 0.1382 - accuracy: 0.9562 - val_loss: 4.4009 - val_accuracy: 0.4235\n",
      "Epoch 138/200\n",
      "391/391 - 25s - loss: 0.1456 - accuracy: 0.9537 - val_loss: 4.4579 - val_accuracy: 0.4183\n",
      "Epoch 139/200\n",
      "391/391 - 25s - loss: 0.1402 - accuracy: 0.9545 - val_loss: 4.7354 - val_accuracy: 0.3945\n",
      "Epoch 140/200\n",
      "391/391 - 25s - loss: 0.1368 - accuracy: 0.9565 - val_loss: 4.5405 - val_accuracy: 0.4238\n"
     ]
    }
   ],
   "source": [
    "batch_size = 128\n",
    "maxepoches = 200\n",
    "learning_rate = 0.0001\n",
    "\n",
    "\n",
    "callback = tf.keras.callbacks.EarlyStopping(monitor='loss', patience=5)\n",
    "\n",
    "#data augmentation\n",
    "datagen = ImageDataGenerator(\n",
    "    rotation_range=15,  # randomly rotate images in the range (degrees, 0 to 180)\n",
    "    width_shift_range=0.1,  # randomly shift images horizontally (fraction of total width)\n",
    "    height_shift_range=0.1,  # randomly shift images vertically (fraction of total height)\n",
    "    horizontal_flip=True,  # randomly flip images\n",
    "    vertical_flip=False)  # randomly flip images\n",
    "\n",
    "sgd = optimizers.Adam(lr=learning_rate)\n",
    "model.compile(loss='categorical_crossentropy', optimizer=sgd,metrics=['accuracy'])\n",
    "\n",
    "\n",
    "# training process in a for loop with learning rate drop every 25 epoches.\n",
    "\n",
    "history = model.fit(datagen.flow(x_train, y_train,\n",
    "                                 batch_size=batch_size),\n",
    "                    epochs=maxepoches,\n",
    "                    validation_data=(x_test, y_test),callbacks=[callback],verbose=2)\n",
    "\n",
    "model.save_weights(\"/content/gdrive/My Drive/checkpoint/Resnet18_ADAM_BatchNormalization.ckpt\")"
   ]
  },
  {
   "cell_type": "code",
   "execution_count": null,
   "metadata": {
    "colab": {
     "base_uri": "https://localhost:8080/",
     "height": 295
    },
    "id": "YgZQ6mFs8mZ0",
    "outputId": "76afd32f-95cf-4608-de28-7fdd0899f8a1"
   },
   "outputs": [
    {
     "data": {
      "image/png": "[encoded data removed]",
      "text/plain": [
       "<Figure size 432x288 with 1 Axes>"
      ]
     },
     "metadata": {
      "needs_background": "light",
      "tags": []
     },
     "output_type": "display_data"
    }
   ],
   "source": [
    "# summarize history for accuracy\n",
    "plt.plot(history.history['accuracy'])\n",
    "plt.plot(history.history['val_accuracy'])\n",
    "plt.title('model accuracy')\n",
    "plt.ylabel('accuracy')\n",
    "plt.xlabel('epoch')\n",
    "plt.legend(['train', 'test'], loc='upper left')\n",
    "plt.show()"
   ]
  },
  {
   "cell_type": "code",
   "execution_count": null,
   "metadata": {
    "colab": {
     "base_uri": "https://localhost:8080/",
     "height": 295
    },
    "id": "yN4VcyyxLwtE",
    "outputId": "63736d83-7e3c-43c9-ccaa-e4ee157bb68b"
   },
   "outputs": [
    {
     "data": {
      "image/png": "[encoded data removed]",
      "text/plain": [
       "<Figure size 432x288 with 1 Axes>"
      ]
     },
     "metadata": {
      "needs_background": "light",
      "tags": []
     },
     "output_type": "display_data"
    }
   ],
   "source": [
    "# summarize history for loss\n",
    "plt.plot(history.history['loss'])\n",
    "plt.plot(history.history['val_loss'])\n",
    "plt.title('model loss')\n",
    "plt.ylabel('loss')\n",
    "plt.xlabel('epoch')\n",
    "plt.legend(['train', 'test'], loc='upper left')\n",
    "plt.show()"
   ]
  },
  {
   "cell_type": "code",
   "execution_count": null,
   "metadata": {
    "colab": {
     "base_uri": "https://localhost:8080/",
     "height": 50
    },
    "id": "7l-CLtkgOKf0",
    "outputId": "f0a26fbd-991f-4dcf-d69c-6d0b5f23d776"
   },
   "outputs": [
    {
     "name": "stdout",
     "output_type": "stream",
     "text": [
      "Precision Is: 0.4334752879898302\n",
      "Recall Is: 0.4238\n"
     ]
    }
   ],
   "source": [
    "import pandas as pd\n",
    "from keras.datasets import cifar100\n",
    "from sklearn.metrics import precision_score\n",
    "from sklearn.metrics import recall_score\n",
    "(x_train, y_train), (x_test, y_test) = cifar100.load_data()\n",
    "x_test = x_test.astype('float32')\n",
    "x_test = x_test / 255.0\n",
    "y_pred = model.predict(x_test)\n",
    "y_pred=np.argmax(y_pred,axis=1)\n",
    "y_pred=pd.DataFrame(y_pred)\n",
    "y_test=pd.DataFrame(y_test)\n",
    "\n",
    "p=precision_score(y_test, y_pred,average='weighted',labels=np.unique(y_pred))\n",
    "r=recall_score(y_test,y_pred,average='micro',labels=np.unique(y_pred))\n",
    "print('Precision Is:',p)\n",
    "print('Recall Is:',r)"
   ]
  }
 ],
 "metadata": {
  "accelerator": "GPU",
  "colab": {
   "collapsed_sections": [],
   "name": "Resnet18_ADAM_BatchNormalization.ipynb",
   "provenance": []
  },
  "kernelspec": {
   "display_name": "Python 3",
   "language": "python",
   "name": "python3"
  },
  "language_info": {
   "codemirror_mode": {
    "name": "ipython",
    "version": 3
   },
   "file_extension": ".py",
   "mimetype": "text/x-python",
   "name": "python",
   "nbconvert_exporter": "python",
   "pygments_lexer": "ipython3",
   "version": "3.8.3"
  }
 },
 "nbformat": 4,
 "nbformat_minor": 1
}
