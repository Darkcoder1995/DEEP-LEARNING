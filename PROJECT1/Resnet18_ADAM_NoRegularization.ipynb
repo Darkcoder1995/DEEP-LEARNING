{
 "cells": [
  {
   "cell_type": "code",
   "execution_count": null,
   "metadata": {
    "id": "zPVDwFuwn0hH"
   },
   "outputs": [],
   "source": [
    "import numpy as np\n",
    "from keras import layers\n",
    "import keras\n",
    "from keras.models import Sequential\n",
    "from keras.preprocessing.image import ImageDataGenerator\n",
    "from keras.layers import Input, Add, Flatten, Dense, Dropout, Conv2D, MaxPooling2D, ZeroPadding2D, Dense, Dropout, Activation, Flatten, BatchNormalization, AveragePooling2D, MaxPooling2D, GlobalMaxPooling2D\n",
    "from keras.optimizers import SGD\n",
    "import tensorflow as tf\n",
    "from tensorflow.python.keras.metrics import Metric\n",
    "from keras import optimizers\n",
    "from keras.models import Model, load_model\n",
    "from keras.preprocessing import image\n",
    "from keras.utils import layer_utils\n",
    "from keras.utils.data_utils import get_file\n",
    "from keras.applications.imagenet_utils import preprocess_input\n",
    "from keras.layers.core import Lambda\n",
    "from keras import backend as K\n",
    "from keras import regularizers\n",
    "import matplotlib.pyplot as plt \n",
    "from keras.initializers import glorot_uniform\n",
    "from keras.layers import Input\n"
   ]
  },
  {
   "cell_type": "code",
   "execution_count": null,
   "metadata": {
    "id": "3D4kYqoIUQ1c"
   },
   "outputs": [],
   "source": [
    "#  REFERENCED FROM https://github.com/fchollet/deep-learning-models"
   ]
  },
  {
   "cell_type": "code",
   "execution_count": null,
   "metadata": {
    "id": "3TjxXzA04tMX"
   },
   "outputs": [],
   "source": [
    "num_classes=100"
   ]
  },
  {
   "cell_type": "code",
   "execution_count": null,
   "metadata": {
    "colab": {
     "base_uri": "https://localhost:8080/",
     "height": 50
    },
    "id": "IAlAnrKz4uyf",
    "outputId": "9e4418d8-02c8-4d4a-bfac-56b97fbee23d"
   },
   "outputs": [
    {
     "name": "stdout",
     "output_type": "stream",
     "text": [
      "Downloading data from https://www.cs.toronto.edu/~kriz/cifar-100-python.tar.gz\n",
      "169009152/169001437 [==============================] - 4s 0us/step\n"
     ]
    }
   ],
   "source": [
    "from keras.datasets import cifar100\n",
    "(x_train, y_train), (x_test, y_test) = cifar100.load_data()\n",
    "x_train = x_train.astype('float32')\n",
    "x_test = x_test.astype('float32')\n",
    "x_train = x_train / 255.0\n",
    "x_test = x_test / 255.0\n",
    "\n",
    "y_train = keras.utils.to_categorical(y_train, num_classes)\n",
    "y_test = keras.utils.to_categorical(y_test, num_classes)"
   ]
  },
  {
   "cell_type": "code",
   "execution_count": null,
   "metadata": {
    "colab": {
     "base_uri": "https://localhost:8080/",
     "height": 34
    },
    "id": "_TAqqYoj4y_N",
    "outputId": "a6418d1a-c88f-404b-9360-078c86c1a5a1"
   },
   "outputs": [
    {
     "data": {
      "text/plain": [
       "(32, 32, 3)"
      ]
     },
     "execution_count": 4,
     "metadata": {
      "tags": []
     },
     "output_type": "execute_result"
    }
   ],
   "source": [
    "x_shape = x_train[0].shape\n",
    "x_shape"
   ]
  },
  {
   "cell_type": "code",
   "execution_count": null,
   "metadata": {
    "id": "eRZ4QDwD5fEv"
   },
   "outputs": [],
   "source": [
    "def identity_block(X, f, filters):\n",
    "      \n",
    "    # Retrieve Filters\n",
    "    F1, F2 = filters\n",
    "    \n",
    "    # Save the input value\n",
    "    X_shortcut = X\n",
    "    \n",
    "    # First component of main path\n",
    "    X = Conv2D(filters = F1, kernel_size = (1, 1), strides = (1,1), padding = 'valid')(X)\n",
    "    X = Activation('elu')(X)\n",
    "    \n",
    "    # Second component of main path\n",
    "    X = Conv2D(filters = F2, kernel_size = (f, f), strides = (1, 1), padding = 'same')(X)\n",
    "    X = Activation('elu')(X)\n",
    "\n",
    "    # Final step: Add shortcut value to main path, and pass it through a RELU activation\n",
    "    X = Add()([X, X_shortcut])\n",
    "    X = Activation('elu')(X)\n",
    "    return X\n",
    "\n",
    "\n",
    "def convolutional_block(X,f,filters,s=2):\n",
    "\n",
    "\n",
    "    # Retrieve Filters\n",
    "    F1, F2 = filters\n",
    "\n",
    "    # Save the input value\n",
    "    X_shortcut = X\n",
    "\n",
    "    ##### MAIN PATH #####\n",
    "    # First component of main path \n",
    "    X = Conv2D(filters=F1, kernel_size=(1, 1), strides=(s, s), padding='valid')(X)\n",
    "    X = Activation('elu')(X)\n",
    "\n",
    "    # Second component of main path\n",
    "    X = Conv2D(filters=F2, kernel_size=(f, f), strides=(1, 1), padding='same')(X)\n",
    "    X = Activation('elu')(X)\n",
    "\n",
    "    ##### SHORTCUT PATH #### \n",
    "    X_shortcut = Conv2D(filters=F2, kernel_size=(1, 1), strides=(s, s), padding='valid')(X_shortcut)\n",
    "\n",
    "    # Final step: Add shortcut value to main path, and pass it through a RELU activation\n",
    "    X = Add()([X, X_shortcut])\n",
    "    X = Activation('elu')(X)\n",
    "\n",
    "    return X\n",
    "\n",
    "def ResNet18(input_shape = x_shape, classes = 100):\n",
    "    \n",
    "    # Define the input as a tensor with shape input_shape\n",
    "    X_input = Input(input_shape)\n",
    "\n",
    "    \n",
    "    # Zero-Padding\n",
    "    X = ZeroPadding2D((3, 3))(X_input)\n",
    "    \n",
    "    # Stage 1\n",
    "    X = Conv2D(64, (7, 7), strides = (2, 2))(X)\n",
    "    X = Activation('elu')(X)\n",
    "    X = MaxPooling2D((3, 3), strides=(2, 2))(X)\n",
    "\n",
    "    # Stage 2\n",
    "    X = convolutional_block(X,f=3,filters = [64, 64],s=1)\n",
    "    X = identity_block(X, 3, [64, 64])\n",
    "    \n",
    "\n",
    "    # Stage 3\n",
    "    X = convolutional_block(X,f=3,filters=[128, 128],s=2)\n",
    "    X = identity_block(X, 3, [128, 128])\n",
    "    \n",
    "\n",
    "    # Stage 4\n",
    "    X = convolutional_block(X, f=3, filters=[256, 256],s=2)\n",
    "    X = identity_block(X, 3, [256, 256])\n",
    " \n",
    "\n",
    "    # Stage 5\n",
    "    X = convolutional_block(X, f=3, filters=[512, 512],s=2)\n",
    "    X = identity_block(X, 3, [512, 512])\n",
    "\n",
    "\n",
    "    # AVGPOOL\n",
    "    X = AveragePooling2D(pool_size=(2,2), padding='same')(X)\n",
    "\n",
    "    # Output layer\n",
    "    X = Flatten()(X)\n",
    "    X = Dense(classes, activation='softmax')(X)\n",
    "    \n",
    "    \n",
    "    # Create model\n",
    "    model = Model(inputs = X_input, outputs = X, name='ResNet18')\n",
    "\n",
    "    return model\n"
   ]
  },
  {
   "cell_type": "code",
   "execution_count": null,
   "metadata": {
    "id": "N6O5YSICb9kR"
   },
   "outputs": [],
   "source": [
    "model = ResNet18(input_shape = (32, 32, 3), classes = 100)"
   ]
  },
  {
   "cell_type": "code",
   "execution_count": null,
   "metadata": {
    "colab": {
     "base_uri": "https://localhost:8080/",
     "height": 34
    },
    "id": "PSSdw1rYm93Y",
    "outputId": "4b928377-6741-4e23-86ef-bf70b5c527cf"
   },
   "outputs": [
    {
     "name": "stdout",
     "output_type": "stream",
     "text": [
      "Mounted at /content/gdrive/\n"
     ]
    }
   ],
   "source": [
    "from google.colab import drive\n",
    "drive.mount('/content/gdrive/')"
   ]
  },
  {
   "cell_type": "code",
   "execution_count": null,
   "metadata": {
    "colab": {
     "base_uri": "https://localhost:8080/",
     "height": 1000
    },
    "id": "F0-GRoxokntc",
    "outputId": "54cb0075-95c0-43d3-cfd1-8c92f5a3cb51"
   },
   "outputs": [
    {
     "name": "stdout",
     "output_type": "stream",
     "text": [
      "Epoch 1/200\n",
      "391/391 - 23s - loss: 3.8313 - accuracy: 0.1177 - val_loss: 3.4701 - val_accuracy: 0.1702\n",
      "Epoch 2/200\n",
      "391/391 - 22s - loss: 3.3500 - accuracy: 0.1937 - val_loss: 3.2277 - val_accuracy: 0.2158\n",
      "Epoch 3/200\n",
      "391/391 - 22s - loss: 3.1259 - accuracy: 0.2344 - val_loss: 2.9837 - val_accuracy: 0.2614\n",
      "Epoch 4/200\n",
      "391/391 - 22s - loss: 2.9522 - accuracy: 0.2701 - val_loss: 2.8584 - val_accuracy: 0.2891\n",
      "Epoch 5/200\n",
      "391/391 - 22s - loss: 2.8299 - accuracy: 0.2935 - val_loss: 2.8244 - val_accuracy: 0.2963\n",
      "Epoch 6/200\n",
      "391/391 - 23s - loss: 2.7274 - accuracy: 0.3118 - val_loss: 2.6958 - val_accuracy: 0.3234\n",
      "Epoch 7/200\n",
      "391/391 - 22s - loss: 2.6287 - accuracy: 0.3314 - val_loss: 2.6600 - val_accuracy: 0.3350\n",
      "Epoch 8/200\n",
      "391/391 - 22s - loss: 2.5626 - accuracy: 0.3480 - val_loss: 2.5419 - val_accuracy: 0.3518\n",
      "Epoch 9/200\n",
      "391/391 - 22s - loss: 2.4814 - accuracy: 0.3622 - val_loss: 2.5184 - val_accuracy: 0.3656\n",
      "Epoch 10/200\n",
      "391/391 - 22s - loss: 2.4167 - accuracy: 0.3767 - val_loss: 2.4553 - val_accuracy: 0.3742\n",
      "Epoch 11/200\n",
      "391/391 - 22s - loss: 2.3519 - accuracy: 0.3878 - val_loss: 2.4326 - val_accuracy: 0.3849\n",
      "Epoch 12/200\n",
      "391/391 - 22s - loss: 2.3039 - accuracy: 0.3994 - val_loss: 2.5049 - val_accuracy: 0.3725\n",
      "Epoch 13/200\n",
      "391/391 - 22s - loss: 2.2453 - accuracy: 0.4115 - val_loss: 2.3939 - val_accuracy: 0.3935\n",
      "Epoch 14/200\n",
      "391/391 - 22s - loss: 2.1926 - accuracy: 0.4233 - val_loss: 2.3714 - val_accuracy: 0.3928\n",
      "Epoch 15/200\n",
      "391/391 - 22s - loss: 2.1364 - accuracy: 0.4356 - val_loss: 2.3739 - val_accuracy: 0.4015\n",
      "Epoch 16/200\n",
      "391/391 - 22s - loss: 2.0952 - accuracy: 0.4471 - val_loss: 2.3136 - val_accuracy: 0.4098\n",
      "Epoch 17/200\n",
      "391/391 - 22s - loss: 2.0483 - accuracy: 0.4556 - val_loss: 2.3154 - val_accuracy: 0.4174\n",
      "Epoch 18/200\n",
      "391/391 - 22s - loss: 1.9973 - accuracy: 0.4664 - val_loss: 2.2715 - val_accuracy: 0.4239\n",
      "Epoch 19/200\n",
      "391/391 - 22s - loss: 1.9451 - accuracy: 0.4782 - val_loss: 2.2898 - val_accuracy: 0.4243\n",
      "Epoch 20/200\n",
      "391/391 - 22s - loss: 1.9060 - accuracy: 0.4868 - val_loss: 2.2833 - val_accuracy: 0.4287\n",
      "Epoch 21/200\n",
      "391/391 - 22s - loss: 1.8666 - accuracy: 0.4946 - val_loss: 2.3191 - val_accuracy: 0.4238\n",
      "Epoch 22/200\n",
      "391/391 - 22s - loss: 1.8203 - accuracy: 0.5053 - val_loss: 2.3230 - val_accuracy: 0.4228\n",
      "Epoch 23/200\n",
      "391/391 - 22s - loss: 1.7839 - accuracy: 0.5130 - val_loss: 2.3124 - val_accuracy: 0.4253\n",
      "Epoch 24/200\n",
      "391/391 - 22s - loss: 1.7361 - accuracy: 0.5243 - val_loss: 2.3240 - val_accuracy: 0.4294\n",
      "Epoch 25/200\n",
      "391/391 - 22s - loss: 1.6964 - accuracy: 0.5341 - val_loss: 2.3381 - val_accuracy: 0.4220\n",
      "Epoch 26/200\n",
      "391/391 - 22s - loss: 1.6557 - accuracy: 0.5452 - val_loss: 2.3810 - val_accuracy: 0.4270\n",
      "Epoch 27/200\n",
      "391/391 - 22s - loss: 1.6165 - accuracy: 0.5526 - val_loss: 2.2734 - val_accuracy: 0.4408\n",
      "Epoch 28/200\n",
      "391/391 - 22s - loss: 1.5708 - accuracy: 0.5638 - val_loss: 2.3063 - val_accuracy: 0.4407\n",
      "Epoch 29/200\n",
      "391/391 - 22s - loss: 1.5494 - accuracy: 0.5716 - val_loss: 2.4279 - val_accuracy: 0.4227\n",
      "Epoch 30/200\n",
      "391/391 - 22s - loss: 1.4997 - accuracy: 0.5800 - val_loss: 2.3120 - val_accuracy: 0.4437\n",
      "Epoch 31/200\n",
      "391/391 - 22s - loss: 1.4688 - accuracy: 0.5863 - val_loss: 2.3627 - val_accuracy: 0.4345\n",
      "Epoch 32/200\n",
      "391/391 - 22s - loss: 1.4304 - accuracy: 0.5972 - val_loss: 2.4542 - val_accuracy: 0.4217\n",
      "Epoch 33/200\n",
      "391/391 - 22s - loss: 1.3843 - accuracy: 0.6069 - val_loss: 2.4598 - val_accuracy: 0.4317\n",
      "Epoch 34/200\n",
      "391/391 - 22s - loss: 1.3426 - accuracy: 0.6181 - val_loss: 2.4415 - val_accuracy: 0.4358\n",
      "Epoch 35/200\n",
      "391/391 - 22s - loss: 1.3075 - accuracy: 0.6270 - val_loss: 2.4467 - val_accuracy: 0.4374\n",
      "Epoch 36/200\n",
      "391/391 - 22s - loss: 1.2717 - accuracy: 0.6378 - val_loss: 2.4167 - val_accuracy: 0.4415\n",
      "Epoch 37/200\n",
      "391/391 - 22s - loss: 1.2417 - accuracy: 0.6450 - val_loss: 2.4630 - val_accuracy: 0.4424\n",
      "Epoch 38/200\n",
      "391/391 - 22s - loss: 1.2077 - accuracy: 0.6526 - val_loss: 2.5999 - val_accuracy: 0.4240\n",
      "Epoch 39/200\n",
      "391/391 - 22s - loss: 1.1811 - accuracy: 0.6562 - val_loss: 2.5624 - val_accuracy: 0.4353\n",
      "Epoch 40/200\n",
      "391/391 - 22s - loss: 1.1329 - accuracy: 0.6689 - val_loss: 2.5314 - val_accuracy: 0.4353\n",
      "Epoch 41/200\n",
      "391/391 - 22s - loss: 1.1076 - accuracy: 0.6788 - val_loss: 2.5935 - val_accuracy: 0.4385\n",
      "Epoch 42/200\n",
      "391/391 - 22s - loss: 1.0771 - accuracy: 0.6865 - val_loss: 2.5908 - val_accuracy: 0.4383\n",
      "Epoch 43/200\n",
      "391/391 - 22s - loss: 1.0456 - accuracy: 0.6899 - val_loss: 2.6721 - val_accuracy: 0.4264\n",
      "Epoch 44/200\n",
      "391/391 - 22s - loss: 1.0087 - accuracy: 0.7029 - val_loss: 2.5838 - val_accuracy: 0.4456\n",
      "Epoch 45/200\n",
      "391/391 - 22s - loss: 0.9806 - accuracy: 0.7096 - val_loss: 2.6911 - val_accuracy: 0.4302\n",
      "Epoch 46/200\n",
      "391/391 - 23s - loss: 0.9457 - accuracy: 0.7210 - val_loss: 2.7029 - val_accuracy: 0.4364\n",
      "Epoch 47/200\n",
      "391/391 - 23s - loss: 0.9225 - accuracy: 0.7249 - val_loss: 2.7048 - val_accuracy: 0.4371\n",
      "Epoch 48/200\n",
      "391/391 - 23s - loss: 0.9005 - accuracy: 0.7322 - val_loss: 2.8401 - val_accuracy: 0.4334\n",
      "Epoch 49/200\n",
      "391/391 - 22s - loss: 0.8699 - accuracy: 0.7394 - val_loss: 2.8519 - val_accuracy: 0.4306\n",
      "Epoch 50/200\n",
      "391/391 - 22s - loss: 0.8353 - accuracy: 0.7512 - val_loss: 2.8760 - val_accuracy: 0.4263\n",
      "Epoch 51/200\n",
      "391/391 - 22s - loss: 0.8134 - accuracy: 0.7549 - val_loss: 2.7853 - val_accuracy: 0.4458\n",
      "Epoch 52/200\n",
      "391/391 - 22s - loss: 0.7914 - accuracy: 0.7609 - val_loss: 2.8545 - val_accuracy: 0.4357\n",
      "Epoch 53/200\n",
      "391/391 - 23s - loss: 0.7603 - accuracy: 0.7720 - val_loss: 2.9053 - val_accuracy: 0.4382\n",
      "Epoch 54/200\n",
      "391/391 - 22s - loss: 0.7380 - accuracy: 0.7777 - val_loss: 2.9328 - val_accuracy: 0.4353\n",
      "Epoch 55/200\n",
      "391/391 - 22s - loss: 0.7133 - accuracy: 0.7841 - val_loss: 3.0270 - val_accuracy: 0.4308\n",
      "Epoch 56/200\n",
      "391/391 - 22s - loss: 0.7018 - accuracy: 0.7845 - val_loss: 2.9457 - val_accuracy: 0.4370\n",
      "Epoch 57/200\n",
      "391/391 - 22s - loss: 0.6666 - accuracy: 0.7953 - val_loss: 3.0728 - val_accuracy: 0.4295\n",
      "Epoch 58/200\n",
      "391/391 - 22s - loss: 0.6531 - accuracy: 0.8000 - val_loss: 3.0720 - val_accuracy: 0.4339\n",
      "Epoch 59/200\n",
      "391/391 - 22s - loss: 0.6354 - accuracy: 0.8066 - val_loss: 3.2097 - val_accuracy: 0.4263\n",
      "Epoch 60/200\n",
      "391/391 - 22s - loss: 0.6243 - accuracy: 0.8082 - val_loss: 3.2277 - val_accuracy: 0.4187\n",
      "Epoch 61/200\n",
      "391/391 - 23s - loss: 0.6056 - accuracy: 0.8135 - val_loss: 3.1847 - val_accuracy: 0.4280\n",
      "Epoch 62/200\n",
      "391/391 - 22s - loss: 0.5909 - accuracy: 0.8190 - val_loss: 3.1641 - val_accuracy: 0.4312\n",
      "Epoch 63/200\n",
      "391/391 - 22s - loss: 0.5729 - accuracy: 0.8238 - val_loss: 3.1683 - val_accuracy: 0.4362\n",
      "Epoch 64/200\n",
      "391/391 - 22s - loss: 0.5594 - accuracy: 0.8283 - val_loss: 3.2258 - val_accuracy: 0.4344\n",
      "Epoch 65/200\n",
      "391/391 - 22s - loss: 0.5384 - accuracy: 0.8350 - val_loss: 3.2881 - val_accuracy: 0.4265\n",
      "Epoch 66/200\n",
      "391/391 - 22s - loss: 0.5250 - accuracy: 0.8371 - val_loss: 3.2777 - val_accuracy: 0.4319\n",
      "Epoch 67/200\n",
      "391/391 - 22s - loss: 0.5086 - accuracy: 0.8411 - val_loss: 3.4068 - val_accuracy: 0.4242\n",
      "Epoch 68/200\n",
      "391/391 - 22s - loss: 0.4991 - accuracy: 0.8468 - val_loss: 3.3795 - val_accuracy: 0.4223\n",
      "Epoch 69/200\n",
      "391/391 - 22s - loss: 0.4840 - accuracy: 0.8493 - val_loss: 3.5124 - val_accuracy: 0.4151\n",
      "Epoch 70/200\n",
      "391/391 - 22s - loss: 0.4715 - accuracy: 0.8520 - val_loss: 3.4217 - val_accuracy: 0.4300\n",
      "Epoch 71/200\n",
      "391/391 - 22s - loss: 0.4782 - accuracy: 0.8496 - val_loss: 3.5081 - val_accuracy: 0.4247\n",
      "Epoch 72/200\n",
      "391/391 - 22s - loss: 0.4508 - accuracy: 0.8605 - val_loss: 3.5026 - val_accuracy: 0.4275\n",
      "Epoch 73/200\n",
      "391/391 - 22s - loss: 0.4460 - accuracy: 0.8603 - val_loss: 3.4332 - val_accuracy: 0.4336\n",
      "Epoch 74/200\n",
      "391/391 - 22s - loss: 0.4327 - accuracy: 0.8635 - val_loss: 3.4977 - val_accuracy: 0.4317\n",
      "Epoch 75/200\n",
      "391/391 - 23s - loss: 0.4135 - accuracy: 0.8701 - val_loss: 3.5411 - val_accuracy: 0.4239\n",
      "Epoch 76/200\n",
      "391/391 - 22s - loss: 0.4033 - accuracy: 0.8731 - val_loss: 3.5949 - val_accuracy: 0.4301\n",
      "Epoch 77/200\n",
      "391/391 - 22s - loss: 0.4000 - accuracy: 0.8752 - val_loss: 3.6398 - val_accuracy: 0.4214\n",
      "Epoch 78/200\n",
      "391/391 - 22s - loss: 0.3971 - accuracy: 0.8740 - val_loss: 3.6596 - val_accuracy: 0.4339\n",
      "Epoch 79/200\n",
      "391/391 - 22s - loss: 0.3826 - accuracy: 0.8810 - val_loss: 3.6576 - val_accuracy: 0.4274\n",
      "Epoch 80/200\n",
      "391/391 - 22s - loss: 0.3744 - accuracy: 0.8829 - val_loss: 3.5723 - val_accuracy: 0.4383\n",
      "Epoch 81/200\n",
      "391/391 - 22s - loss: 0.3686 - accuracy: 0.8825 - val_loss: 3.7372 - val_accuracy: 0.4243\n",
      "Epoch 82/200\n",
      "391/391 - 22s - loss: 0.3478 - accuracy: 0.8900 - val_loss: 3.6741 - val_accuracy: 0.4306\n",
      "Epoch 83/200\n",
      "391/391 - 22s - loss: 0.3563 - accuracy: 0.8881 - val_loss: 3.7092 - val_accuracy: 0.4350\n",
      "Epoch 84/200\n",
      "391/391 - 22s - loss: 0.3488 - accuracy: 0.8913 - val_loss: 3.7499 - val_accuracy: 0.4297\n",
      "Epoch 85/200\n",
      "391/391 - 22s - loss: 0.3385 - accuracy: 0.8937 - val_loss: 3.7673 - val_accuracy: 0.4287\n",
      "Epoch 86/200\n",
      "391/391 - 22s - loss: 0.3238 - accuracy: 0.8985 - val_loss: 3.6524 - val_accuracy: 0.4304\n",
      "Epoch 87/200\n",
      "391/391 - 22s - loss: 0.3193 - accuracy: 0.9007 - val_loss: 3.7719 - val_accuracy: 0.4256\n",
      "Epoch 88/200\n",
      "391/391 - 22s - loss: 0.3102 - accuracy: 0.9022 - val_loss: 3.7778 - val_accuracy: 0.4312\n",
      "Epoch 89/200\n",
      "391/391 - 22s - loss: 0.3170 - accuracy: 0.8976 - val_loss: 4.0140 - val_accuracy: 0.4173\n",
      "Epoch 90/200\n",
      "391/391 - 22s - loss: 0.3125 - accuracy: 0.9013 - val_loss: 3.8162 - val_accuracy: 0.4310\n",
      "Epoch 91/200\n",
      "391/391 - 22s - loss: 0.2965 - accuracy: 0.9062 - val_loss: 3.8121 - val_accuracy: 0.4284\n",
      "Epoch 92/200\n",
      "391/391 - 22s - loss: 0.2960 - accuracy: 0.9050 - val_loss: 3.8781 - val_accuracy: 0.4297\n",
      "Epoch 93/200\n",
      "391/391 - 22s - loss: 0.2888 - accuracy: 0.9080 - val_loss: 3.9071 - val_accuracy: 0.4228\n",
      "Epoch 94/200\n",
      "391/391 - 22s - loss: 0.2789 - accuracy: 0.9116 - val_loss: 4.0515 - val_accuracy: 0.4150\n",
      "Epoch 95/200\n",
      "391/391 - 22s - loss: 0.2782 - accuracy: 0.9119 - val_loss: 3.9296 - val_accuracy: 0.4246\n",
      "Epoch 96/200\n",
      "391/391 - 22s - loss: 0.2825 - accuracy: 0.9097 - val_loss: 3.8897 - val_accuracy: 0.4300\n",
      "Epoch 97/200\n",
      "391/391 - 22s - loss: 0.2634 - accuracy: 0.9177 - val_loss: 3.9932 - val_accuracy: 0.4289\n",
      "Epoch 98/200\n",
      "391/391 - 22s - loss: 0.2663 - accuracy: 0.9162 - val_loss: 3.7963 - val_accuracy: 0.4369\n",
      "Epoch 99/200\n",
      "391/391 - 22s - loss: 0.2586 - accuracy: 0.9188 - val_loss: 4.0765 - val_accuracy: 0.4210\n",
      "Epoch 100/200\n",
      "391/391 - 22s - loss: 0.2628 - accuracy: 0.9162 - val_loss: 3.9789 - val_accuracy: 0.4293\n",
      "Epoch 101/200\n",
      "391/391 - 22s - loss: 0.2547 - accuracy: 0.9194 - val_loss: 3.9328 - val_accuracy: 0.4346\n",
      "Epoch 102/200\n",
      "391/391 - 22s - loss: 0.2493 - accuracy: 0.9206 - val_loss: 4.0221 - val_accuracy: 0.4321\n",
      "Epoch 103/200\n",
      "391/391 - 22s - loss: 0.2472 - accuracy: 0.9218 - val_loss: 4.1189 - val_accuracy: 0.4249\n",
      "Epoch 104/200\n",
      "391/391 - 22s - loss: 0.2375 - accuracy: 0.9237 - val_loss: 4.1185 - val_accuracy: 0.4233\n",
      "Epoch 105/200\n",
      "391/391 - 22s - loss: 0.2359 - accuracy: 0.9255 - val_loss: 4.1946 - val_accuracy: 0.4233\n",
      "Epoch 106/200\n",
      "391/391 - 22s - loss: 0.2326 - accuracy: 0.9260 - val_loss: 4.0930 - val_accuracy: 0.4317\n",
      "Epoch 107/200\n",
      "391/391 - 22s - loss: 0.2342 - accuracy: 0.9247 - val_loss: 4.0718 - val_accuracy: 0.4276\n",
      "Epoch 108/200\n",
      "391/391 - 22s - loss: 0.2244 - accuracy: 0.9281 - val_loss: 4.2381 - val_accuracy: 0.4166\n",
      "Epoch 109/200\n",
      "391/391 - 22s - loss: 0.2249 - accuracy: 0.9285 - val_loss: 4.1663 - val_accuracy: 0.4293\n",
      "Epoch 110/200\n",
      "391/391 - 22s - loss: 0.2256 - accuracy: 0.9281 - val_loss: 4.0780 - val_accuracy: 0.4272\n",
      "Epoch 111/200\n",
      "391/391 - 22s - loss: 0.2161 - accuracy: 0.9317 - val_loss: 4.2582 - val_accuracy: 0.4220\n",
      "Epoch 112/200\n",
      "391/391 - 22s - loss: 0.2180 - accuracy: 0.9304 - val_loss: 4.1373 - val_accuracy: 0.4307\n",
      "Epoch 113/200\n",
      "391/391 - 22s - loss: 0.2171 - accuracy: 0.9316 - val_loss: 4.0918 - val_accuracy: 0.4330\n",
      "Epoch 114/200\n",
      "391/391 - 22s - loss: 0.2150 - accuracy: 0.9306 - val_loss: 4.1084 - val_accuracy: 0.4363\n",
      "Epoch 115/200\n",
      "391/391 - 22s - loss: 0.2113 - accuracy: 0.9323 - val_loss: 4.1508 - val_accuracy: 0.4263\n",
      "Epoch 116/200\n",
      "391/391 - 22s - loss: 0.2049 - accuracy: 0.9342 - val_loss: 4.3440 - val_accuracy: 0.4163\n",
      "Epoch 117/200\n",
      "391/391 - 23s - loss: 0.2027 - accuracy: 0.9345 - val_loss: 4.1257 - val_accuracy: 0.4289\n",
      "Epoch 118/200\n",
      "391/391 - 22s - loss: 0.2050 - accuracy: 0.9356 - val_loss: 4.1669 - val_accuracy: 0.4265\n",
      "Epoch 119/200\n",
      "391/391 - 22s - loss: 0.2008 - accuracy: 0.9343 - val_loss: 4.3925 - val_accuracy: 0.4196\n",
      "Epoch 120/200\n",
      "391/391 - 22s - loss: 0.1956 - accuracy: 0.9371 - val_loss: 4.1576 - val_accuracy: 0.4290\n",
      "Epoch 121/200\n",
      "391/391 - 22s - loss: 0.1898 - accuracy: 0.9390 - val_loss: 4.2537 - val_accuracy: 0.4326\n",
      "Epoch 122/200\n",
      "391/391 - 22s - loss: 0.1924 - accuracy: 0.9395 - val_loss: 4.2251 - val_accuracy: 0.4267\n",
      "Epoch 123/200\n",
      "391/391 - 22s - loss: 0.1948 - accuracy: 0.9374 - val_loss: 4.1783 - val_accuracy: 0.4254\n",
      "Epoch 124/200\n",
      "391/391 - 22s - loss: 0.1823 - accuracy: 0.9424 - val_loss: 4.3043 - val_accuracy: 0.4278\n",
      "Epoch 125/200\n",
      "391/391 - 22s - loss: 0.1837 - accuracy: 0.9424 - val_loss: 4.2770 - val_accuracy: 0.4300\n",
      "Epoch 126/200\n",
      "391/391 - 22s - loss: 0.1782 - accuracy: 0.9436 - val_loss: 4.2860 - val_accuracy: 0.4285\n",
      "Epoch 127/200\n",
      "391/391 - 22s - loss: 0.1810 - accuracy: 0.9422 - val_loss: 4.3334 - val_accuracy: 0.4240\n",
      "Epoch 128/200\n",
      "391/391 - 22s - loss: 0.1832 - accuracy: 0.9419 - val_loss: 4.2840 - val_accuracy: 0.4301\n",
      "Epoch 129/200\n",
      "391/391 - 22s - loss: 0.1785 - accuracy: 0.9431 - val_loss: 4.3379 - val_accuracy: 0.4277\n",
      "Epoch 130/200\n",
      "391/391 - 22s - loss: 0.1716 - accuracy: 0.9449 - val_loss: 4.3906 - val_accuracy: 0.4247\n",
      "Epoch 131/200\n",
      "391/391 - 22s - loss: 0.1702 - accuracy: 0.9455 - val_loss: 4.2540 - val_accuracy: 0.4394\n",
      "Epoch 132/200\n",
      "391/391 - 22s - loss: 0.1678 - accuracy: 0.9462 - val_loss: 4.3371 - val_accuracy: 0.4272\n",
      "Epoch 133/200\n",
      "391/391 - 22s - loss: 0.1667 - accuracy: 0.9467 - val_loss: 4.1556 - val_accuracy: 0.4405\n",
      "Epoch 134/200\n",
      "391/391 - 22s - loss: 0.1690 - accuracy: 0.9450 - val_loss: 4.3312 - val_accuracy: 0.4293\n",
      "Epoch 135/200\n",
      "391/391 - 22s - loss: 0.1680 - accuracy: 0.9461 - val_loss: 4.4085 - val_accuracy: 0.4246\n",
      "Epoch 136/200\n",
      "391/391 - 22s - loss: 0.1673 - accuracy: 0.9460 - val_loss: 4.5351 - val_accuracy: 0.4229\n",
      "Epoch 137/200\n",
      "391/391 - 22s - loss: 0.1592 - accuracy: 0.9488 - val_loss: 4.3836 - val_accuracy: 0.4284\n",
      "Epoch 138/200\n",
      "391/391 - 22s - loss: 0.1614 - accuracy: 0.9493 - val_loss: 4.4827 - val_accuracy: 0.4204\n",
      "Epoch 139/200\n",
      "391/391 - 22s - loss: 0.1543 - accuracy: 0.9507 - val_loss: 4.4332 - val_accuracy: 0.4258\n",
      "Epoch 140/200\n",
      "391/391 - 22s - loss: 0.1570 - accuracy: 0.9495 - val_loss: 4.6289 - val_accuracy: 0.4164\n",
      "Epoch 141/200\n",
      "391/391 - 22s - loss: 0.1600 - accuracy: 0.9486 - val_loss: 4.4068 - val_accuracy: 0.4273\n",
      "Epoch 142/200\n",
      "391/391 - 22s - loss: 0.1521 - accuracy: 0.9513 - val_loss: 4.5162 - val_accuracy: 0.4246\n",
      "Epoch 143/200\n",
      "391/391 - 22s - loss: 0.1636 - accuracy: 0.9473 - val_loss: 4.4110 - val_accuracy: 0.4250\n",
      "Epoch 144/200\n",
      "391/391 - 22s - loss: 0.1571 - accuracy: 0.9500 - val_loss: 4.4898 - val_accuracy: 0.4269\n",
      "Epoch 145/200\n",
      "391/391 - 22s - loss: 0.1456 - accuracy: 0.9532 - val_loss: 4.3239 - val_accuracy: 0.4312\n",
      "Epoch 146/200\n",
      "391/391 - 22s - loss: 0.1555 - accuracy: 0.9503 - val_loss: 4.3989 - val_accuracy: 0.4309\n",
      "Epoch 147/200\n",
      "391/391 - 22s - loss: 0.1431 - accuracy: 0.9537 - val_loss: 4.3718 - val_accuracy: 0.4375\n",
      "Epoch 148/200\n",
      "391/391 - 22s - loss: 0.1457 - accuracy: 0.9536 - val_loss: 4.4117 - val_accuracy: 0.4314\n",
      "Epoch 149/200\n",
      "391/391 - 22s - loss: 0.1451 - accuracy: 0.9541 - val_loss: 4.3870 - val_accuracy: 0.4331\n",
      "Epoch 150/200\n",
      "391/391 - 22s - loss: 0.1453 - accuracy: 0.9531 - val_loss: 4.5544 - val_accuracy: 0.4252\n",
      "Epoch 151/200\n",
      "391/391 - 22s - loss: 0.1523 - accuracy: 0.9499 - val_loss: 4.4520 - val_accuracy: 0.4355\n",
      "Epoch 152/200\n",
      "391/391 - 22s - loss: 0.1411 - accuracy: 0.9545 - val_loss: 4.4694 - val_accuracy: 0.4311\n",
      "Epoch 153/200\n",
      "391/391 - 22s - loss: 0.1273 - accuracy: 0.9603 - val_loss: 4.5095 - val_accuracy: 0.4328\n",
      "Epoch 154/200\n",
      "391/391 - 22s - loss: 0.1386 - accuracy: 0.9565 - val_loss: 4.5333 - val_accuracy: 0.4330\n",
      "Epoch 155/200\n",
      "391/391 - 22s - loss: 0.1357 - accuracy: 0.9561 - val_loss: 4.6855 - val_accuracy: 0.4217\n",
      "Epoch 156/200\n",
      "391/391 - 22s - loss: 0.1362 - accuracy: 0.9562 - val_loss: 4.4827 - val_accuracy: 0.4364\n",
      "Epoch 157/200\n",
      "391/391 - 22s - loss: 0.1339 - accuracy: 0.9571 - val_loss: 4.5797 - val_accuracy: 0.4271\n",
      "Epoch 158/200\n",
      "391/391 - 22s - loss: 0.1378 - accuracy: 0.9561 - val_loss: 4.5020 - val_accuracy: 0.4319\n"
     ]
    }
   ],
   "source": [
    "batch_size = 128\n",
    "maxepoches = 200\n",
    "learning_rate = 0.0001\n",
    "\n",
    "\n",
    "callback = tf.keras.callbacks.EarlyStopping(monitor='loss', patience=5)\n",
    "\n",
    "#data augmentation\n",
    "datagen = ImageDataGenerator(\n",
    "    rotation_range=15,  # randomly rotate images in the range (degrees, 0 to 180)\n",
    "    width_shift_range=0.1,  # randomly shift images horizontally (fraction of total width)\n",
    "    height_shift_range=0.1,  # randomly shift images vertically (fraction of total height)\n",
    "    horizontal_flip=True,  # randomly flip images\n",
    "    vertical_flip=False)  # randomly flip images\n",
    "\n",
    "sgd = optimizers.Adam(lr=learning_rate)\n",
    "model.compile(loss='categorical_crossentropy', optimizer=sgd,metrics=['accuracy'])\n",
    "\n",
    "\n",
    "# training process in a for loop with learning rate drop every 25 epoches.\n",
    "\n",
    "history = model.fit(datagen.flow(x_train, y_train,\n",
    "                                 batch_size=batch_size),\n",
    "                    epochs=maxepoches,\n",
    "                    validation_data=(x_test, y_test),callbacks=[callback],verbose=2)\n",
    "\n",
    "model.save_weights(\"/content/gdrive/My Drive/checkpoint/Resnet18_ADAM_NoRegularization.ckpt\")"
   ]
  },
  {
   "cell_type": "code",
   "execution_count": null,
   "metadata": {
    "colab": {
     "base_uri": "https://localhost:8080/",
     "height": 295
    },
    "id": "YgZQ6mFs8mZ0",
    "outputId": "f785f722-5897-4b91-ce58-a0a4ba734416"
   },
   "outputs": [
    {
     "data": {
      "image/png": "[encoded data removed]",
      "text/plain": [
       "<Figure size 432x288 with 1 Axes>"
      ]
     },
     "metadata": {
      "needs_background": "light",
      "tags": []
     },
     "output_type": "display_data"
    }
   ],
   "source": [
    "# summarize history for accuracy\n",
    "plt.plot(history.history['accuracy'])\n",
    "plt.plot(history.history['val_accuracy'])\n",
    "plt.title('model accuracy')\n",
    "plt.ylabel('accuracy')\n",
    "plt.xlabel('epoch')\n",
    "plt.legend(['train', 'test'], loc='upper left')\n",
    "plt.show()"
   ]
  },
  {
   "cell_type": "code",
   "execution_count": null,
   "metadata": {
    "colab": {
     "base_uri": "https://localhost:8080/",
     "height": 295
    },
    "id": "yN4VcyyxLwtE",
    "outputId": "e0a77b70-a63a-4784-b5bd-ba5addc2de6e"
   },
   "outputs": [
    {
     "data": {
      "image/png": "[encoded data removed]",
      "text/plain": [
       "<Figure size 432x288 with 1 Axes>"
      ]
     },
     "metadata": {
      "needs_background": "light",
      "tags": []
     },
     "output_type": "display_data"
    }
   ],
   "source": [
    "# summarize history for loss\n",
    "plt.plot(history.history['loss'])\n",
    "plt.plot(history.history['val_loss'])\n",
    "plt.title('model loss')\n",
    "plt.ylabel('loss')\n",
    "plt.xlabel('epoch')\n",
    "plt.legend(['train', 'test'], loc='upper left')\n",
    "plt.show()"
   ]
  },
  {
   "cell_type": "code",
   "execution_count": null,
   "metadata": {
    "colab": {
     "base_uri": "https://localhost:8080/",
     "height": 50
    },
    "id": "7l-CLtkgOKf0",
    "outputId": "17d8d71c-c9c5-4287-c992-0008ebf605d4"
   },
   "outputs": [
    {
     "name": "stdout",
     "output_type": "stream",
     "text": [
      "Precision Is: 0.44183195239081524\n",
      "Recall Is: 0.4319\n"
     ]
    }
   ],
   "source": [
    "import pandas as pd\n",
    "from keras.datasets import cifar100\n",
    "from sklearn.metrics import precision_score\n",
    "from sklearn.metrics import recall_score\n",
    "(x_train, y_train), (x_test, y_test) = cifar100.load_data()\n",
    "x_test = x_test.astype('float32')\n",
    "x_test = x_test / 255.0\n",
    "y_pred = model.predict(x_test)\n",
    "y_pred=np.argmax(y_pred,axis=1)\n",
    "y_pred=pd.DataFrame(y_pred)\n",
    "y_test=pd.DataFrame(y_test)\n",
    "\n",
    "p=precision_score(y_test, y_pred,average='weighted',labels=np.unique(y_pred))\n",
    "r=recall_score(y_test,y_pred,average='micro',labels=np.unique(y_pred))\n",
    "print('Precision Is:',p)\n",
    "print('Recall Is:',r)"
   ]
  }
 ],
 "metadata": {
  "accelerator": "GPU",
  "colab": {
   "collapsed_sections": [],
   "name": "Resnet18_ADAM_NoRegularization.ipynb",
   "provenance": []
  },
  "kernelspec": {
   "display_name": "Python 3",
   "language": "python",
   "name": "python3"
  },
  "language_info": {
   "codemirror_mode": {
    "name": "ipython",
    "version": 3
   },
   "file_extension": ".py",
   "mimetype": "text/x-python",
   "name": "python",
   "nbconvert_exporter": "python",
   "pygments_lexer": "ipython3",
   "version": "3.8.3"
  }
 },
 "nbformat": 4,
 "nbformat_minor": 1
}
