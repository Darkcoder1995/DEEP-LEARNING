{
 "cells": [
  {
   "cell_type": "code",
   "execution_count": null,
   "metadata": {
    "id": "zPVDwFuwn0hH"
   },
   "outputs": [],
   "source": [
    "import numpy as np\n",
    "from keras import layers\n",
    "import keras\n",
    "from keras.models import Sequential\n",
    "from keras.preprocessing.image import ImageDataGenerator\n",
    "from keras.layers import Input, Add, Flatten, Dense, Dropout, Conv2D, MaxPooling2D, ZeroPadding2D, Dense, Dropout, Activation, Flatten, BatchNormalization, AveragePooling2D, MaxPooling2D, GlobalMaxPooling2D\n",
    "from keras.optimizers import SGD\n",
    "import tensorflow as tf\n",
    "from tensorflow.python.keras.metrics import Metric\n",
    "from keras import optimizers\n",
    "from keras.models import Model, load_model\n",
    "from keras.preprocessing import image\n",
    "from keras.utils import layer_utils\n",
    "from keras.utils.data_utils import get_file\n",
    "from keras.applications.imagenet_utils import preprocess_input\n",
    "from keras.layers.core import Lambda\n",
    "from keras import backend as K\n",
    "from keras import regularizers\n",
    "import matplotlib.pyplot as plt \n",
    "from keras.initializers import glorot_uniform\n",
    "from keras.layers import Input\n"
   ]
  },
  {
   "cell_type": "code",
   "execution_count": null,
   "metadata": {
    "id": "ywml9U2yScFE"
   },
   "outputs": [],
   "source": [
    "#  REFERENCED FROM  https://github.com/fchollet/deep-learning-models"
   ]
  },
  {
   "cell_type": "code",
   "execution_count": null,
   "metadata": {
    "id": "3TjxXzA04tMX"
   },
   "outputs": [],
   "source": [
    "num_classes=100"
   ]
  },
  {
   "cell_type": "code",
   "execution_count": null,
   "metadata": {
    "colab": {
     "base_uri": "https://localhost:8080/",
     "height": 50
    },
    "id": "IAlAnrKz4uyf",
    "outputId": "6e062608-8b58-4d81-c059-1b3a04654290"
   },
   "outputs": [
    {
     "name": "stdout",
     "output_type": "stream",
     "text": [
      "Downloading data from https://www.cs.toronto.edu/~kriz/cifar-100-python.tar.gz\n",
      "169009152/169001437 [==============================] - 2s 0us/step\n"
     ]
    }
   ],
   "source": [
    "from keras.datasets import cifar100\n",
    "(x_train, y_train), (x_test, y_test) = cifar100.load_data()\n",
    "x_train = x_train.astype('float32')\n",
    "x_test = x_test.astype('float32')\n",
    "x_train = x_train / 255.0\n",
    "x_test = x_test / 255.0\n",
    "\n",
    "y_train = keras.utils.to_categorical(y_train, num_classes)\n",
    "y_test = keras.utils.to_categorical(y_test, num_classes)"
   ]
  },
  {
   "cell_type": "code",
   "execution_count": null,
   "metadata": {
    "colab": {
     "base_uri": "https://localhost:8080/",
     "height": 34
    },
    "id": "_TAqqYoj4y_N",
    "outputId": "4f3a7e31-7a66-467d-d194-198ebea27185"
   },
   "outputs": [
    {
     "data": {
      "text/plain": [
       "(32, 32, 3)"
      ]
     },
     "execution_count": 4,
     "metadata": {
      "tags": []
     },
     "output_type": "execute_result"
    }
   ],
   "source": [
    "x_shape = x_train[0].shape\n",
    "x_shape"
   ]
  },
  {
   "cell_type": "code",
   "execution_count": null,
   "metadata": {
    "id": "eRZ4QDwD5fEv"
   },
   "outputs": [],
   "source": [
    "def identity_block(X, f, filters):\n",
    "      \n",
    "    # Retrieve Filters\n",
    "    F1, F2 = filters\n",
    "    \n",
    "    # Save the input value\n",
    "    X_shortcut = X\n",
    "    X_shortcut = Dropout(0.1)(X_shortcut)\n",
    "    \n",
    "    # First component of main path\n",
    "    X = Conv2D(filters = F1, kernel_size = (1, 1), strides = (1,1), padding = 'valid')(X)\n",
    "    X = Activation('relu')(X)\n",
    "    X = Dropout(0.1)(X)\n",
    "    \n",
    "    # Second component of main path\n",
    "    X = Conv2D(filters = F2, kernel_size = (f, f), strides = (1, 1), padding = 'same')(X)\n",
    "    X = Activation('relu')(X)\n",
    "    X = Dropout(0.1)(X)\n",
    "\n",
    "    # Final step: Add shortcut value to main path, and pass it through a RELU activation\n",
    "    X = Add()([X, X_shortcut])\n",
    "    X = Activation('relu')(X)\n",
    "    return X\n",
    "\n",
    "\n",
    "def convolutional_block(X,f,filters,s=2):\n",
    "\n",
    "\n",
    "    # Retrieve Filters\n",
    "    F1, F2 = filters\n",
    "\n",
    "    # Save the input value\n",
    "    X_shortcut = X\n",
    "\n",
    "    ##### MAIN PATH #####\n",
    "    # First component of main path \n",
    "    X = Conv2D(filters=F1, kernel_size=(1, 1), strides=(s, s), padding='valid')(X)\n",
    "    X = Activation('relu')(X)\n",
    "    X = Dropout(0.1)(X)\n",
    "\n",
    "    # Second component of main path\n",
    "    X = Conv2D(filters=F2, kernel_size=(f, f), strides=(1, 1), padding='same')(X)\n",
    "    X = Activation('relu')(X)\n",
    "    X = Dropout(0.1)(X)\n",
    "\n",
    "    ##### SHORTCUT PATH #### \n",
    "    X_shortcut = Conv2D(filters=F2, kernel_size=(1, 1), strides=(s, s), padding='valid')(X_shortcut)\n",
    "    X_shortcut = Dropout(0.1)(X_shortcut)\n",
    "\n",
    "    # Final step: Add shortcut value to main path, and pass it through a RELU activation\n",
    "    X = Add()([X, X_shortcut])\n",
    "    X = Activation('relu')(X)\n",
    "\n",
    "    return X\n",
    "\n",
    "def ResNet18(input_shape = x_shape, classes = 100):\n",
    "    \n",
    "    # Define the input as a tensor with shape input_shape\n",
    "    X_input = Input(input_shape)\n",
    "\n",
    "    \n",
    "    # Zero-Padding\n",
    "    X = ZeroPadding2D((3, 3))(X_input)\n",
    "    \n",
    "    # Stage 1\n",
    "    X = Conv2D(64, (7, 7), strides = (2, 2))(X)\n",
    "    X = Activation('relu')(X)\n",
    "    X = MaxPooling2D((3, 3), strides=(2, 2))(X)\n",
    "\n",
    "    # Stage 2\n",
    "    X = convolutional_block(X,f=3,filters = [64, 64],s=1)\n",
    "    X = identity_block(X, 3, [64, 64])\n",
    "    \n",
    "\n",
    "    # Stage 3\n",
    "    X = convolutional_block(X,f=3,filters=[128, 128],s=2)\n",
    "    X = identity_block(X, 3, [128, 128])\n",
    "    \n",
    "\n",
    "    # Stage 4\n",
    "    X = convolutional_block(X, f=3, filters=[256, 256],s=2)\n",
    "    X = identity_block(X, 3, [256, 256])\n",
    " \n",
    "\n",
    "    # Stage 5\n",
    "    X = convolutional_block(X, f=3, filters=[512, 512],s=2)\n",
    "    X = identity_block(X, 3, [512, 512])\n",
    "\n",
    "\n",
    "    # AVGPOOL\n",
    "    X = AveragePooling2D(pool_size=(2,2), padding='same')(X)\n",
    "\n",
    "    # Output layer\n",
    "    X = Flatten()(X)\n",
    "    X = Dense(classes, activation='softmax')(X)\n",
    "    \n",
    "    \n",
    "    # Create model\n",
    "    model = Model(inputs = X_input, outputs = X, name='ResNet18')\n",
    "\n",
    "    return model\n"
   ]
  },
  {
   "cell_type": "code",
   "execution_count": null,
   "metadata": {
    "id": "N6O5YSICb9kR"
   },
   "outputs": [],
   "source": [
    "model = ResNet18(input_shape = (32, 32, 3), classes = 100)"
   ]
  },
  {
   "cell_type": "code",
   "execution_count": null,
   "metadata": {
    "colab": {
     "base_uri": "https://localhost:8080/",
     "height": 34
    },
    "id": "PSSdw1rYm93Y",
    "outputId": "80e9c8e0-4526-46fc-8a57-e66d4fd04188"
   },
   "outputs": [
    {
     "name": "stdout",
     "output_type": "stream",
     "text": [
      "Mounted at /content/gdrive/\n"
     ]
    }
   ],
   "source": [
    "from google.colab import drive\n",
    "drive.mount('/content/gdrive/')"
   ]
  },
  {
   "cell_type": "code",
   "execution_count": null,
   "metadata": {
    "colab": {
     "base_uri": "https://localhost:8080/",
     "height": 1000
    },
    "id": "F0-GRoxokntc",
    "outputId": "88afb012-59b5-43f2-e843-fd4343e651d8"
   },
   "outputs": [
    {
     "name": "stdout",
     "output_type": "stream",
     "text": [
      "Epoch 1/200\n",
      "391/391 - 27s - loss: 4.5415 - accuracy: 0.0176 - val_loss: 4.3787 - val_accuracy: 0.0326\n",
      "Epoch 2/200\n",
      "391/391 - 26s - loss: 4.2499 - accuracy: 0.0431 - val_loss: 4.0594 - val_accuracy: 0.0648\n",
      "Epoch 3/200\n",
      "391/391 - 26s - loss: 3.9916 - accuracy: 0.0790 - val_loss: 3.8348 - val_accuracy: 0.1095\n",
      "Epoch 4/200\n",
      "391/391 - 26s - loss: 3.8309 - accuracy: 0.0997 - val_loss: 3.6419 - val_accuracy: 0.1361\n",
      "Epoch 5/200\n",
      "391/391 - 26s - loss: 3.7018 - accuracy: 0.1237 - val_loss: 3.4945 - val_accuracy: 0.1643\n",
      "Epoch 6/200\n",
      "391/391 - 26s - loss: 3.5831 - accuracy: 0.1433 - val_loss: 3.4012 - val_accuracy: 0.1794\n",
      "Epoch 7/200\n",
      "391/391 - 26s - loss: 3.4720 - accuracy: 0.1611 - val_loss: 3.2789 - val_accuracy: 0.2028\n",
      "Epoch 8/200\n",
      "391/391 - 25s - loss: 3.3715 - accuracy: 0.1775 - val_loss: 3.1330 - val_accuracy: 0.2268\n",
      "Epoch 9/200\n",
      "391/391 - 25s - loss: 3.2841 - accuracy: 0.1947 - val_loss: 3.0566 - val_accuracy: 0.2407\n",
      "Epoch 10/200\n",
      "391/391 - 25s - loss: 3.2084 - accuracy: 0.2110 - val_loss: 2.9652 - val_accuracy: 0.2642\n",
      "Epoch 11/200\n",
      "391/391 - 25s - loss: 3.1443 - accuracy: 0.2211 - val_loss: 3.0841 - val_accuracy: 0.2349\n",
      "Epoch 12/200\n",
      "391/391 - 24s - loss: 3.0893 - accuracy: 0.2320 - val_loss: 2.8396 - val_accuracy: 0.2834\n",
      "Epoch 13/200\n",
      "391/391 - 25s - loss: 3.0274 - accuracy: 0.2430 - val_loss: 2.8105 - val_accuracy: 0.2901\n",
      "Epoch 14/200\n",
      "391/391 - 25s - loss: 2.9748 - accuracy: 0.2557 - val_loss: 2.7772 - val_accuracy: 0.2979\n",
      "Epoch 15/200\n",
      "391/391 - 25s - loss: 2.9320 - accuracy: 0.2628 - val_loss: 2.7784 - val_accuracy: 0.2962\n",
      "Epoch 16/200\n",
      "391/391 - 24s - loss: 2.8938 - accuracy: 0.2728 - val_loss: 2.7036 - val_accuracy: 0.3123\n",
      "Epoch 17/200\n",
      "391/391 - 24s - loss: 2.8497 - accuracy: 0.2782 - val_loss: 2.6433 - val_accuracy: 0.3265\n",
      "Epoch 18/200\n",
      "391/391 - 24s - loss: 2.8155 - accuracy: 0.2892 - val_loss: 2.6249 - val_accuracy: 0.3331\n",
      "Epoch 19/200\n",
      "391/391 - 24s - loss: 2.7773 - accuracy: 0.2940 - val_loss: 2.6189 - val_accuracy: 0.3291\n",
      "Epoch 20/200\n",
      "391/391 - 24s - loss: 2.7421 - accuracy: 0.3001 - val_loss: 2.5770 - val_accuracy: 0.3428\n",
      "Epoch 21/200\n",
      "391/391 - 25s - loss: 2.6430 - accuracy: 0.3216 - val_loss: 2.4840 - val_accuracy: 0.3599\n",
      "Epoch 22/200\n",
      "391/391 - 25s - loss: 2.6033 - accuracy: 0.3269 - val_loss: 2.4580 - val_accuracy: 0.3657\n",
      "Epoch 23/200\n",
      "391/391 - 25s - loss: 2.5862 - accuracy: 0.3351 - val_loss: 2.4319 - val_accuracy: 0.3726\n",
      "Epoch 24/200\n",
      "391/391 - 25s - loss: 2.5638 - accuracy: 0.3383 - val_loss: 2.4154 - val_accuracy: 0.3750\n",
      "Epoch 25/200\n",
      "391/391 - 25s - loss: 2.5440 - accuracy: 0.3406 - val_loss: 2.4337 - val_accuracy: 0.3727\n",
      "Epoch 26/200\n",
      "391/391 - 25s - loss: 2.5310 - accuracy: 0.3435 - val_loss: 2.3991 - val_accuracy: 0.3781\n",
      "Epoch 27/200\n",
      "391/391 - 26s - loss: 2.5109 - accuracy: 0.3477 - val_loss: 2.3812 - val_accuracy: 0.3828\n",
      "Epoch 28/200\n",
      "391/391 - 26s - loss: 2.4878 - accuracy: 0.3530 - val_loss: 2.4058 - val_accuracy: 0.3806\n",
      "Epoch 29/200\n",
      "391/391 - 25s - loss: 2.4834 - accuracy: 0.3526 - val_loss: 2.3922 - val_accuracy: 0.3828\n",
      "Epoch 30/200\n",
      "391/391 - 25s - loss: 2.4650 - accuracy: 0.3576 - val_loss: 2.3917 - val_accuracy: 0.3821\n",
      "Epoch 31/200\n",
      "391/391 - 26s - loss: 2.4512 - accuracy: 0.3596 - val_loss: 2.3670 - val_accuracy: 0.3921\n",
      "Epoch 32/200\n",
      "391/391 - 26s - loss: 2.4284 - accuracy: 0.3647 - val_loss: 2.3165 - val_accuracy: 0.4005\n",
      "Epoch 33/200\n",
      "391/391 - 26s - loss: 2.4132 - accuracy: 0.3665 - val_loss: 2.3801 - val_accuracy: 0.3887\n",
      "Epoch 34/200\n",
      "391/391 - 26s - loss: 2.3955 - accuracy: 0.3717 - val_loss: 2.3336 - val_accuracy: 0.3937\n",
      "Epoch 35/200\n",
      "391/391 - 26s - loss: 2.3905 - accuracy: 0.3720 - val_loss: 2.2941 - val_accuracy: 0.4000\n",
      "Epoch 36/200\n",
      "391/391 - 26s - loss: 2.3854 - accuracy: 0.3754 - val_loss: 2.3009 - val_accuracy: 0.4037\n",
      "Epoch 37/200\n",
      "391/391 - 26s - loss: 2.3511 - accuracy: 0.3805 - val_loss: 2.3332 - val_accuracy: 0.3937\n",
      "Epoch 38/200\n",
      "391/391 - 26s - loss: 2.3441 - accuracy: 0.3820 - val_loss: 2.2784 - val_accuracy: 0.4068\n",
      "Epoch 39/200\n",
      "391/391 - 26s - loss: 2.3270 - accuracy: 0.3851 - val_loss: 2.2364 - val_accuracy: 0.4139\n",
      "Epoch 40/200\n",
      "391/391 - 26s - loss: 2.3160 - accuracy: 0.3879 - val_loss: 2.2518 - val_accuracy: 0.4155\n",
      "Epoch 41/200\n",
      "391/391 - 26s - loss: 2.2452 - accuracy: 0.4035 - val_loss: 2.2216 - val_accuracy: 0.4219\n",
      "Epoch 42/200\n",
      "391/391 - 26s - loss: 2.2266 - accuracy: 0.4059 - val_loss: 2.2261 - val_accuracy: 0.4215\n",
      "Epoch 43/200\n",
      "391/391 - 26s - loss: 2.2093 - accuracy: 0.4108 - val_loss: 2.2144 - val_accuracy: 0.4227\n",
      "Epoch 44/200\n",
      "391/391 - 26s - loss: 2.2128 - accuracy: 0.4098 - val_loss: 2.1891 - val_accuracy: 0.4301\n",
      "Epoch 45/200\n",
      "391/391 - 26s - loss: 2.1966 - accuracy: 0.4148 - val_loss: 2.2265 - val_accuracy: 0.4243\n",
      "Epoch 46/200\n",
      "391/391 - 26s - loss: 2.1875 - accuracy: 0.4149 - val_loss: 2.1945 - val_accuracy: 0.4305\n",
      "Epoch 47/200\n",
      "391/391 - 26s - loss: 2.1786 - accuracy: 0.4139 - val_loss: 2.1674 - val_accuracy: 0.4336\n",
      "Epoch 48/200\n",
      "391/391 - 26s - loss: 2.1704 - accuracy: 0.4173 - val_loss: 2.1554 - val_accuracy: 0.4365\n",
      "Epoch 49/200\n",
      "391/391 - 26s - loss: 2.1591 - accuracy: 0.4170 - val_loss: 2.1781 - val_accuracy: 0.4311\n",
      "Epoch 50/200\n",
      "391/391 - 26s - loss: 2.1648 - accuracy: 0.4192 - val_loss: 2.1739 - val_accuracy: 0.4370\n",
      "Epoch 51/200\n",
      "391/391 - 26s - loss: 2.1477 - accuracy: 0.4229 - val_loss: 2.1399 - val_accuracy: 0.4393\n",
      "Epoch 52/200\n",
      "391/391 - 26s - loss: 2.1413 - accuracy: 0.4241 - val_loss: 2.1541 - val_accuracy: 0.4371\n",
      "Epoch 53/200\n",
      "391/391 - 26s - loss: 2.1292 - accuracy: 0.4241 - val_loss: 2.1723 - val_accuracy: 0.4369\n",
      "Epoch 54/200\n",
      "391/391 - 26s - loss: 2.1201 - accuracy: 0.4265 - val_loss: 2.1525 - val_accuracy: 0.4389\n",
      "Epoch 55/200\n",
      "391/391 - 26s - loss: 2.1179 - accuracy: 0.4286 - val_loss: 2.1733 - val_accuracy: 0.4375\n",
      "Epoch 56/200\n",
      "391/391 - 26s - loss: 2.1044 - accuracy: 0.4317 - val_loss: 2.1316 - val_accuracy: 0.4416\n",
      "Epoch 57/200\n",
      "391/391 - 26s - loss: 2.1035 - accuracy: 0.4318 - val_loss: 2.1430 - val_accuracy: 0.4367\n",
      "Epoch 58/200\n",
      "391/391 - 26s - loss: 2.0901 - accuracy: 0.4360 - val_loss: 2.2238 - val_accuracy: 0.4268\n",
      "Epoch 59/200\n",
      "391/391 - 26s - loss: 2.0901 - accuracy: 0.4345 - val_loss: 2.1325 - val_accuracy: 0.4433\n",
      "Epoch 60/200\n",
      "391/391 - 26s - loss: 2.0797 - accuracy: 0.4371 - val_loss: 2.1691 - val_accuracy: 0.4367\n",
      "Epoch 61/200\n",
      "391/391 - 26s - loss: 2.0379 - accuracy: 0.4466 - val_loss: 2.1180 - val_accuracy: 0.4463\n",
      "Epoch 62/200\n",
      "391/391 - 26s - loss: 2.0232 - accuracy: 0.4477 - val_loss: 2.1051 - val_accuracy: 0.4490\n",
      "Epoch 63/200\n",
      "391/391 - 26s - loss: 2.0164 - accuracy: 0.4527 - val_loss: 2.1182 - val_accuracy: 0.4488\n",
      "Epoch 64/200\n",
      "391/391 - 26s - loss: 2.0094 - accuracy: 0.4517 - val_loss: 2.1043 - val_accuracy: 0.4521\n",
      "Epoch 65/200\n",
      "391/391 - 26s - loss: 2.0132 - accuracy: 0.4503 - val_loss: 2.0877 - val_accuracy: 0.4502\n",
      "Epoch 66/200\n",
      "391/391 - 26s - loss: 2.0073 - accuracy: 0.4525 - val_loss: 2.1435 - val_accuracy: 0.4415\n",
      "Epoch 67/200\n",
      "391/391 - 26s - loss: 2.0121 - accuracy: 0.4545 - val_loss: 2.1113 - val_accuracy: 0.4492\n",
      "Epoch 68/200\n",
      "391/391 - 26s - loss: 2.0029 - accuracy: 0.4552 - val_loss: 2.1168 - val_accuracy: 0.4502\n",
      "Epoch 69/200\n",
      "391/391 - 26s - loss: 1.9871 - accuracy: 0.4591 - val_loss: 2.1063 - val_accuracy: 0.4498\n",
      "Epoch 70/200\n",
      "391/391 - 26s - loss: 1.9832 - accuracy: 0.4580 - val_loss: 2.1035 - val_accuracy: 0.4505\n",
      "Epoch 71/200\n",
      "391/391 - 26s - loss: 1.9916 - accuracy: 0.4545 - val_loss: 2.1396 - val_accuracy: 0.4441\n",
      "Epoch 72/200\n",
      "391/391 - 26s - loss: 1.9782 - accuracy: 0.4607 - val_loss: 2.0864 - val_accuracy: 0.4542\n",
      "Epoch 73/200\n",
      "391/391 - 26s - loss: 1.9771 - accuracy: 0.4608 - val_loss: 2.0904 - val_accuracy: 0.4546\n",
      "Epoch 74/200\n",
      "391/391 - 26s - loss: 1.9753 - accuracy: 0.4599 - val_loss: 2.1091 - val_accuracy: 0.4501\n",
      "Epoch 75/200\n",
      "391/391 - 26s - loss: 1.9749 - accuracy: 0.4609 - val_loss: 2.1153 - val_accuracy: 0.4503\n",
      "Epoch 76/200\n",
      "391/391 - 26s - loss: 1.9601 - accuracy: 0.4654 - val_loss: 2.0682 - val_accuracy: 0.4562\n",
      "Epoch 77/200\n",
      "391/391 - 26s - loss: 1.9621 - accuracy: 0.4627 - val_loss: 2.0709 - val_accuracy: 0.4595\n",
      "Epoch 78/200\n",
      "391/391 - 26s - loss: 1.9587 - accuracy: 0.4638 - val_loss: 2.0977 - val_accuracy: 0.4545\n",
      "Epoch 79/200\n",
      "391/391 - 26s - loss: 1.9514 - accuracy: 0.4663 - val_loss: 2.0879 - val_accuracy: 0.4580\n",
      "Epoch 80/200\n",
      "391/391 - 26s - loss: 1.9541 - accuracy: 0.4649 - val_loss: 2.1004 - val_accuracy: 0.4543\n",
      "Epoch 81/200\n",
      "391/391 - 26s - loss: 1.9196 - accuracy: 0.4712 - val_loss: 2.0900 - val_accuracy: 0.4557\n",
      "Epoch 82/200\n",
      "391/391 - 26s - loss: 1.9193 - accuracy: 0.4744 - val_loss: 2.0748 - val_accuracy: 0.4604\n",
      "Epoch 83/200\n",
      "391/391 - 26s - loss: 1.9110 - accuracy: 0.4747 - val_loss: 2.1249 - val_accuracy: 0.4511\n",
      "Epoch 84/200\n",
      "391/391 - 26s - loss: 1.9155 - accuracy: 0.4757 - val_loss: 2.0984 - val_accuracy: 0.4553\n",
      "Epoch 85/200\n",
      "391/391 - 26s - loss: 1.9134 - accuracy: 0.4748 - val_loss: 2.1087 - val_accuracy: 0.4525\n",
      "Epoch 86/200\n",
      "391/391 - 26s - loss: 1.9016 - accuracy: 0.4746 - val_loss: 2.0982 - val_accuracy: 0.4570\n",
      "Epoch 87/200\n",
      "391/391 - 26s - loss: 1.9057 - accuracy: 0.4740 - val_loss: 2.1004 - val_accuracy: 0.4547\n",
      "Epoch 88/200\n",
      "391/391 - 26s - loss: 1.9083 - accuracy: 0.4755 - val_loss: 2.0761 - val_accuracy: 0.4601\n",
      "Epoch 89/200\n",
      "391/391 - 26s - loss: 1.9086 - accuracy: 0.4741 - val_loss: 2.0876 - val_accuracy: 0.4577\n",
      "Epoch 90/200\n",
      "391/391 - 26s - loss: 1.8997 - accuracy: 0.4737 - val_loss: 2.0711 - val_accuracy: 0.4582\n",
      "Epoch 91/200\n",
      "391/391 - 26s - loss: 1.8937 - accuracy: 0.4786 - val_loss: 2.0701 - val_accuracy: 0.4615\n",
      "Epoch 92/200\n",
      "391/391 - 26s - loss: 1.8932 - accuracy: 0.4764 - val_loss: 2.0984 - val_accuracy: 0.4584\n",
      "Epoch 93/200\n",
      "391/391 - 26s - loss: 1.8901 - accuracy: 0.4800 - val_loss: 2.0929 - val_accuracy: 0.4573\n",
      "Epoch 94/200\n",
      "391/391 - 26s - loss: 1.8883 - accuracy: 0.4794 - val_loss: 2.0842 - val_accuracy: 0.4586\n",
      "Epoch 95/200\n",
      "391/391 - 26s - loss: 1.8942 - accuracy: 0.4786 - val_loss: 2.0971 - val_accuracy: 0.4541\n",
      "Epoch 96/200\n",
      "391/391 - 26s - loss: 1.8808 - accuracy: 0.4812 - val_loss: 2.0452 - val_accuracy: 0.4655\n",
      "Epoch 97/200\n",
      "391/391 - 25s - loss: 1.8874 - accuracy: 0.4795 - val_loss: 2.0490 - val_accuracy: 0.4644\n",
      "Epoch 98/200\n",
      "391/391 - 25s - loss: 1.8793 - accuracy: 0.4809 - val_loss: 2.0590 - val_accuracy: 0.4602\n",
      "Epoch 99/200\n",
      "391/391 - 25s - loss: 1.8860 - accuracy: 0.4804 - val_loss: 2.0606 - val_accuracy: 0.4644\n",
      "Epoch 100/200\n",
      "391/391 - 25s - loss: 1.8718 - accuracy: 0.4844 - val_loss: 2.0583 - val_accuracy: 0.4630\n",
      "Epoch 101/200\n",
      "391/391 - 25s - loss: 1.8598 - accuracy: 0.4855 - val_loss: 2.0782 - val_accuracy: 0.4605\n",
      "Epoch 102/200\n",
      "391/391 - 25s - loss: 1.8562 - accuracy: 0.4848 - val_loss: 2.0507 - val_accuracy: 0.4640\n",
      "Epoch 103/200\n",
      "391/391 - 25s - loss: 1.8611 - accuracy: 0.4861 - val_loss: 2.0343 - val_accuracy: 0.4667\n",
      "Epoch 104/200\n",
      "391/391 - 25s - loss: 1.8587 - accuracy: 0.4874 - val_loss: 2.0513 - val_accuracy: 0.4643\n",
      "Epoch 105/200\n",
      "391/391 - 25s - loss: 1.8553 - accuracy: 0.4851 - val_loss: 2.0914 - val_accuracy: 0.4577\n",
      "Epoch 106/200\n",
      "391/391 - 25s - loss: 1.8577 - accuracy: 0.4853 - val_loss: 2.0662 - val_accuracy: 0.4619\n",
      "Epoch 107/200\n",
      "391/391 - 26s - loss: 1.8605 - accuracy: 0.4854 - val_loss: 2.0699 - val_accuracy: 0.4627\n",
      "Epoch 108/200\n",
      "391/391 - 25s - loss: 1.8592 - accuracy: 0.4872 - val_loss: 2.0814 - val_accuracy: 0.4585\n",
      "Epoch 109/200\n",
      "391/391 - 25s - loss: 1.8536 - accuracy: 0.4852 - val_loss: 2.0531 - val_accuracy: 0.4656\n",
      "Epoch 110/200\n",
      "391/391 - 25s - loss: 1.8492 - accuracy: 0.4890 - val_loss: 2.0449 - val_accuracy: 0.4684\n",
      "Epoch 111/200\n",
      "391/391 - 25s - loss: 1.8493 - accuracy: 0.4860 - val_loss: 2.0732 - val_accuracy: 0.4608\n",
      "Epoch 112/200\n",
      "391/391 - 25s - loss: 1.8505 - accuracy: 0.4853 - val_loss: 2.0454 - val_accuracy: 0.4654\n",
      "Epoch 113/200\n",
      "391/391 - 25s - loss: 1.8511 - accuracy: 0.4871 - val_loss: 2.0524 - val_accuracy: 0.4669\n",
      "Epoch 114/200\n",
      "391/391 - 25s - loss: 1.8424 - accuracy: 0.4899 - val_loss: 2.0706 - val_accuracy: 0.4632\n",
      "Epoch 115/200\n",
      "391/391 - 24s - loss: 1.8450 - accuracy: 0.4891 - val_loss: 2.0585 - val_accuracy: 0.4657\n",
      "Epoch 116/200\n",
      "391/391 - 25s - loss: 1.8482 - accuracy: 0.4905 - val_loss: 2.0503 - val_accuracy: 0.4687\n",
      "Epoch 117/200\n",
      "391/391 - 25s - loss: 1.8522 - accuracy: 0.4911 - val_loss: 2.0594 - val_accuracy: 0.4620\n",
      "Epoch 118/200\n",
      "391/391 - 25s - loss: 1.8510 - accuracy: 0.4876 - val_loss: 2.0491 - val_accuracy: 0.4676\n",
      "Epoch 119/200\n",
      "391/391 - 25s - loss: 1.8407 - accuracy: 0.4928 - val_loss: 2.0473 - val_accuracy: 0.4696\n",
      "Epoch 120/200\n",
      "391/391 - 25s - loss: 1.8401 - accuracy: 0.4894 - val_loss: 2.0841 - val_accuracy: 0.4614\n",
      "Epoch 121/200\n",
      "391/391 - 25s - loss: 1.8304 - accuracy: 0.4906 - val_loss: 2.0652 - val_accuracy: 0.4656\n",
      "Epoch 122/200\n",
      "391/391 - 25s - loss: 1.8377 - accuracy: 0.4907 - val_loss: 2.0488 - val_accuracy: 0.4678\n",
      "Epoch 123/200\n",
      "391/391 - 25s - loss: 1.8293 - accuracy: 0.4923 - val_loss: 2.0417 - val_accuracy: 0.4708\n",
      "Epoch 124/200\n",
      "391/391 - 26s - loss: 1.8287 - accuracy: 0.4912 - val_loss: 2.0606 - val_accuracy: 0.4663\n",
      "Epoch 125/200\n",
      "391/391 - 26s - loss: 1.8274 - accuracy: 0.4961 - val_loss: 2.0472 - val_accuracy: 0.4679\n",
      "Epoch 126/200\n",
      "391/391 - 26s - loss: 1.8253 - accuracy: 0.4912 - val_loss: 2.0668 - val_accuracy: 0.4637\n",
      "Epoch 127/200\n",
      "391/391 - 26s - loss: 1.8308 - accuracy: 0.4919 - val_loss: 2.0647 - val_accuracy: 0.4632\n",
      "Epoch 128/200\n",
      "391/391 - 26s - loss: 1.8310 - accuracy: 0.4931 - val_loss: 2.0715 - val_accuracy: 0.4632\n",
      "Epoch 129/200\n",
      "391/391 - 26s - loss: 1.8202 - accuracy: 0.4955 - val_loss: 2.0666 - val_accuracy: 0.4636\n",
      "Epoch 130/200\n",
      "391/391 - 26s - loss: 1.8271 - accuracy: 0.4924 - val_loss: 2.0650 - val_accuracy: 0.4637\n",
      "Epoch 131/200\n",
      "391/391 - 26s - loss: 1.8300 - accuracy: 0.4908 - val_loss: 2.0390 - val_accuracy: 0.4702\n",
      "Epoch 132/200\n",
      "391/391 - 26s - loss: 1.8268 - accuracy: 0.4935 - val_loss: 2.0491 - val_accuracy: 0.4678\n",
      "Epoch 133/200\n",
      "391/391 - 26s - loss: 1.8228 - accuracy: 0.4941 - val_loss: 2.0578 - val_accuracy: 0.4651\n",
      "Epoch 134/200\n",
      "391/391 - 26s - loss: 1.8190 - accuracy: 0.4939 - val_loss: 2.0464 - val_accuracy: 0.4660\n",
      "Epoch 135/200\n",
      "391/391 - 26s - loss: 1.8225 - accuracy: 0.4929 - val_loss: 2.0585 - val_accuracy: 0.4688\n",
      "Epoch 136/200\n",
      "391/391 - 26s - loss: 1.8179 - accuracy: 0.4930 - val_loss: 2.0500 - val_accuracy: 0.4690\n",
      "Epoch 137/200\n",
      "391/391 - 26s - loss: 1.8261 - accuracy: 0.4939 - val_loss: 2.0389 - val_accuracy: 0.4697\n",
      "Epoch 138/200\n",
      "391/391 - 26s - loss: 1.8194 - accuracy: 0.4936 - val_loss: 2.0656 - val_accuracy: 0.4656\n",
      "Epoch 139/200\n",
      "391/391 - 25s - loss: 1.8189 - accuracy: 0.4961 - val_loss: 2.0565 - val_accuracy: 0.4644\n",
      "Epoch 140/200\n",
      "391/391 - 25s - loss: 1.8201 - accuracy: 0.4917 - val_loss: 2.0597 - val_accuracy: 0.4676\n",
      "Epoch 141/200\n",
      "391/391 - 26s - loss: 1.8086 - accuracy: 0.4969 - val_loss: 2.0656 - val_accuracy: 0.4662\n",
      "Epoch 142/200\n",
      "391/391 - 26s - loss: 1.8128 - accuracy: 0.4979 - val_loss: 2.0503 - val_accuracy: 0.4678\n",
      "Epoch 143/200\n",
      "391/391 - 26s - loss: 1.8113 - accuracy: 0.4957 - val_loss: 2.0599 - val_accuracy: 0.4677\n",
      "Epoch 144/200\n",
      "391/391 - 26s - loss: 1.8181 - accuracy: 0.4968 - val_loss: 2.0505 - val_accuracy: 0.4696\n",
      "Epoch 145/200\n",
      "391/391 - 26s - loss: 1.8155 - accuracy: 0.4930 - val_loss: 2.0568 - val_accuracy: 0.4653\n",
      "Epoch 146/200\n",
      "391/391 - 26s - loss: 1.8105 - accuracy: 0.4960 - val_loss: 2.0567 - val_accuracy: 0.4677\n"
     ]
    }
   ],
   "source": [
    "batch_size = 128\n",
    "maxepoches = 200\n",
    "learning_rate = 0.01\n",
    "lr_decay = 1e-6\n",
    "lr_drop = 20\n",
    "\n",
    "def lr_scheduler(epoch):\n",
    "    return learning_rate * (0.5 ** (epoch // lr_drop))\n",
    "reduce_lr = keras.callbacks.LearningRateScheduler(lr_scheduler)\n",
    "\n",
    "callback = tf.keras.callbacks.EarlyStopping(monitor='loss', patience=5)\n",
    "\n",
    "#data augmentation\n",
    "datagen = ImageDataGenerator(\n",
    "    rotation_range=15,  # randomly rotate images in the range (degrees, 0 to 180)\n",
    "    width_shift_range=0.1,  # randomly shift images horizontally (fraction of total width)\n",
    "    height_shift_range=0.1,  # randomly shift images vertically (fraction of total height)\n",
    "    horizontal_flip=True,  # randomly flip images\n",
    "    vertical_flip=False)  # randomly flip images\n",
    "\n",
    "sgd = optimizers.SGD(lr=learning_rate,decay=lr_decay, momentum=0.9, nesterov=True)\n",
    "model.compile(loss='categorical_crossentropy', optimizer=sgd,metrics=['accuracy'])\n",
    "\n",
    "\n",
    "# training process in a for loop with learning rate drop every 25 epoches.\n",
    "\n",
    "history = model.fit(datagen.flow(x_train, y_train,\n",
    "                                 batch_size=batch_size),\n",
    "                    epochs=maxepoches,\n",
    "                    validation_data=(x_test, y_test),callbacks=[callback,reduce_lr],verbose=2)\n",
    "\n",
    "model.save_weights(\"/content/gdrive/My Drive/checkpoint/Resnet18_SGD_Dropout.ckpt\")"
   ]
  },
  {
   "cell_type": "code",
   "execution_count": null,
   "metadata": {
    "colab": {
     "base_uri": "https://localhost:8080/",
     "height": 295
    },
    "id": "YgZQ6mFs8mZ0",
    "outputId": "b2d18d27-9717-4d82-b439-dc8b461e4984"
   },
   "outputs": [
    {
     "data": {
      "image/png": "[encoded data removed]",
      "text/plain": [
       "<Figure size 432x288 with 1 Axes>"
      ]
     },
     "metadata": {
      "needs_background": "light",
      "tags": []
     },
     "output_type": "display_data"
    }
   ],
   "source": [
    "# summarize history for accuracy\n",
    "plt.plot(history.history['accuracy'])\n",
    "plt.plot(history.history['val_accuracy'])\n",
    "plt.title('model accuracy')\n",
    "plt.ylabel('accuracy')\n",
    "plt.xlabel('epoch')\n",
    "plt.legend(['train', 'test'], loc='upper left')\n",
    "plt.show()"
   ]
  },
  {
   "cell_type": "code",
   "execution_count": null,
   "metadata": {
    "colab": {
     "base_uri": "https://localhost:8080/",
     "height": 295
    },
    "id": "yN4VcyyxLwtE",
    "outputId": "64b54d2e-eabe-4d0d-c671-520bbfc126d5"
   },
   "outputs": [
    {
     "data": {
      "image/png": "[encoded data removed]",
      "text/plain": [
       "<Figure size 432x288 with 1 Axes>"
      ]
     },
     "metadata": {
      "needs_background": "light",
      "tags": []
     },
     "output_type": "display_data"
    }
   ],
   "source": [
    "# summarize history for loss\n",
    "plt.plot(history.history['loss'])\n",
    "plt.plot(history.history['val_loss'])\n",
    "plt.title('model loss')\n",
    "plt.ylabel('loss')\n",
    "plt.xlabel('epoch')\n",
    "plt.legend(['train', 'test'], loc='upper left')\n",
    "plt.show()"
   ]
  },
  {
   "cell_type": "code",
   "execution_count": null,
   "metadata": {
    "colab": {
     "base_uri": "https://localhost:8080/",
     "height": 50
    },
    "id": "7l-CLtkgOKf0",
    "outputId": "ee1fdbb9-21cf-478f-8d8e-64d8d8abe512"
   },
   "outputs": [
    {
     "name": "stdout",
     "output_type": "stream",
     "text": [
      "Precision Is: 0.46919202981250574\n",
      "Recall Is: 0.4677\n"
     ]
    }
   ],
   "source": [
    "import pandas as pd\n",
    "from keras.datasets import cifar100\n",
    "from sklearn.metrics import precision_score\n",
    "from sklearn.metrics import recall_score\n",
    "(x_train, y_train), (x_test, y_test) = cifar100.load_data()\n",
    "x_test = x_test.astype('float32')\n",
    "x_test = x_test / 255.0\n",
    "y_pred = model.predict(x_test)\n",
    "y_pred=np.argmax(y_pred,axis=1)\n",
    "y_pred=pd.DataFrame(y_pred)\n",
    "y_test=pd.DataFrame(y_test)\n",
    "\n",
    "p=precision_score(y_test, y_pred,average='weighted',labels=np.unique(y_pred))\n",
    "r=recall_score(y_test,y_pred,average='micro',labels=np.unique(y_pred))\n",
    "print('Precision Is:',p)\n",
    "print('Recall Is:',r)"
   ]
  }
 ],
 "metadata": {
  "accelerator": "GPU",
  "colab": {
   "collapsed_sections": [],
   "name": "Resnet18_SGD_Dropout",
   "provenance": []
  },
  "kernelspec": {
   "display_name": "Python 3",
   "language": "python",
   "name": "python3"
  },
  "language_info": {
   "codemirror_mode": {
    "name": "ipython",
    "version": 3
   },
   "file_extension": ".py",
   "mimetype": "text/x-python",
   "name": "python",
   "nbconvert_exporter": "python",
   "pygments_lexer": "ipython3",
   "version": "3.8.3"
  }
 },
 "nbformat": 4,
 "nbformat_minor": 1
}
