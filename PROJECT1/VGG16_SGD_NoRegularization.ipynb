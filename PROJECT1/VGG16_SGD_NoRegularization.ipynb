{
 "cells": [
  {
   "cell_type": "code",
   "execution_count": null,
   "metadata": {
    "id": "8LqF_u_IuWLe"
   },
   "outputs": [],
   "source": [
    "import keras\n",
    "from keras.models import Sequential\n",
    "from keras.preprocessing.image import ImageDataGenerator\n",
    "from keras.layers.core import Flatten, Dense, Dropout\n",
    "from keras.layers.convolutional import Convolution2D, MaxPooling2D, ZeroPadding2D\n",
    "from keras.optimizers import SGD\n",
    "from keras.layers import Dense, Dropout, Activation, Flatten\n",
    "from keras.layers import Conv2D, BatchNormalization\n",
    "import numpy as np\n",
    "import tensorflow as tf\n",
    "from tensorflow.python.keras.metrics import Metric\n",
    "from keras import optimizers\n",
    "import numpy as np\n",
    "from keras.layers.core import Lambda\n",
    "from keras import backend as K\n",
    "from keras import regularizers\n",
    "import matplotlib.pyplot as plt "
   ]
  },
  {
   "cell_type": "code",
   "execution_count": null,
   "metadata": {
    "id": "2BZo7_JNVsWn"
   },
   "outputs": [],
   "source": [
    "# REFERENCED FROM https://github.com/fchollet/deep-learning-models/blob/master/vgg16.py"
   ]
  },
  {
   "cell_type": "code",
   "execution_count": null,
   "metadata": {
    "id": "PSSdw1rYm93Y"
   },
   "outputs": [],
   "source": [
    "num_classes=100"
   ]
  },
  {
   "cell_type": "code",
   "execution_count": null,
   "metadata": {
    "colab": {
     "base_uri": "https://localhost:8080/",
     "height": 50
    },
    "id": "F0-GRoxokntc",
    "outputId": "c4720ffb-19d2-4ef9-dd1b-ff7c917198ed"
   },
   "outputs": [
    {
     "name": "stdout",
     "output_type": "stream",
     "text": [
      "Downloading data from https://www.cs.toronto.edu/~kriz/cifar-100-python.tar.gz\n",
      "169009152/169001437 [==============================] - 11s 0us/step\n"
     ]
    }
   ],
   "source": [
    "from keras.datasets import cifar100\n",
    "(x_train, y_train), (x_test, y_test) = cifar100.load_data()\n",
    "x_train = x_train.astype('float32')\n",
    "x_test = x_test.astype('float32')\n",
    "x_train = x_train / 255.0\n",
    "x_test = x_test / 255.0\n",
    "\n",
    "y_train = keras.utils.to_categorical(y_train, num_classes)\n",
    "y_test = keras.utils.to_categorical(y_test, num_classes)"
   ]
  },
  {
   "cell_type": "code",
   "execution_count": null,
   "metadata": {
    "id": "x4dA34fd4I14"
   },
   "outputs": [],
   "source": [
    "x_shape = x_train[0].shape"
   ]
  },
  {
   "cell_type": "code",
   "execution_count": null,
   "metadata": {
    "id": "7oFpN8TfF-PH"
   },
   "outputs": [],
   "source": [
    "model = Sequential()\n",
    "model.add(Conv2D(64, (3, 3), padding='same'))\n",
    "model.add(Activation('relu'))\n",
    "\n",
    "model.add(Conv2D(64, (3, 3), padding='same'))\n",
    "model.add(Activation('relu'))\n",
    "\n",
    "\n",
    "\n",
    "model.add(MaxPooling2D(pool_size=(2, 2)))\n",
    "\n",
    "model.add(Conv2D(128, (3, 3), padding='same'))\n",
    "model.add(Activation('relu'))\n",
    "\n",
    "model.add(Conv2D(128, (3, 3), padding='same'))\n",
    "model.add(Activation('relu'))\n",
    "\n",
    "model.add(MaxPooling2D(pool_size=(2, 2)))\n",
    "\n",
    "model.add(Conv2D(256, (3, 3), padding='same'))\n",
    "model.add(Activation('relu'))\n",
    "\n",
    "model.add(Conv2D(256, (3, 3), padding='same'))\n",
    "model.add(Activation('relu'))\n",
    "\n",
    "model.add(Conv2D(256, (3, 3), padding='same'))\n",
    "model.add(Activation('relu'))\n",
    "\n",
    "\n",
    "model.add(MaxPooling2D(pool_size=(2, 2)))\n",
    "\n",
    "\n",
    "model.add(Conv2D(512, (3, 3), padding='same'))\n",
    "model.add(Activation('relu'))\n",
    "\n",
    "model.add(Conv2D(512, (3, 3), padding='same'))\n",
    "model.add(Activation('relu'))\n",
    "\n",
    "model.add(Conv2D(512, (3, 3), padding='same'))\n",
    "model.add(Activation('relu'))\n",
    "\n",
    "\n",
    "model.add(MaxPooling2D(pool_size=(2, 2)))\n",
    "\n",
    "\n",
    "model.add(Conv2D(512, (3, 3), padding='same'))\n",
    "model.add(Activation('relu'))\n",
    "\n",
    "model.add(Conv2D(512, (3, 3), padding='same'))\n",
    "model.add(Activation('relu'))\n",
    "\n",
    "model.add(Conv2D(512, (3, 3), padding='same'))\n",
    "model.add(Activation('relu'))\n",
    "\n",
    "\n",
    "model.add(MaxPooling2D(pool_size=(2, 2)))\n",
    "\n",
    "model.add(Flatten())\n",
    "model.add(Dense(512))\n",
    "model.add(Activation('relu'))\n",
    "\n",
    "\n",
    "model.add(Dense(num_classes))\n",
    "model.add(Activation('softmax'))"
   ]
  },
  {
   "cell_type": "code",
   "execution_count": null,
   "metadata": {
    "colab": {
     "base_uri": "https://localhost:8080/",
     "height": 34
    },
    "id": "No187CrGY28K",
    "outputId": "a54d96f6-d192-4590-9c6e-eb8eaffb11de"
   },
   "outputs": [
    {
     "name": "stdout",
     "output_type": "stream",
     "text": [
      "Mounted at /content/gdrive/\n"
     ]
    }
   ],
   "source": [
    "from google.colab import drive\n",
    "drive.mount('/content/gdrive/')"
   ]
  },
  {
   "cell_type": "code",
   "execution_count": null,
   "metadata": {
    "colab": {
     "base_uri": "https://localhost:8080/",
     "height": 1000
    },
    "id": "u2l3k9xv2B32",
    "outputId": "0a32662e-1272-437e-a582-3e7b255fec29"
   },
   "outputs": [
    {
     "name": "stdout",
     "output_type": "stream",
     "text": [
      "Epoch 1/100\n",
      "390/390 - 25s - loss: 4.6056 - accuracy: 0.0086 - val_loss: 4.6052 - val_accuracy: 0.0100\n",
      "Epoch 2/100\n",
      "390/390 - 25s - loss: 4.6055 - accuracy: 0.0093 - val_loss: 4.6051 - val_accuracy: 0.0100\n",
      "Epoch 3/100\n",
      "390/390 - 24s - loss: 4.6055 - accuracy: 0.0094 - val_loss: 4.6051 - val_accuracy: 0.0100\n",
      "Epoch 4/100\n",
      "390/390 - 25s - loss: 4.6054 - accuracy: 0.0090 - val_loss: 4.6048 - val_accuracy: 0.0110\n",
      "Epoch 5/100\n",
      "390/390 - 24s - loss: 4.6044 - accuracy: 0.0118 - val_loss: 4.6019 - val_accuracy: 0.0146\n",
      "Epoch 6/100\n",
      "390/390 - 24s - loss: 4.5560 - accuracy: 0.0172 - val_loss: 4.4287 - val_accuracy: 0.0249\n",
      "Epoch 7/100\n",
      "390/390 - 24s - loss: 4.3572 - accuracy: 0.0329 - val_loss: 4.2754 - val_accuracy: 0.0423\n",
      "Epoch 8/100\n",
      "390/390 - 24s - loss: 4.1313 - accuracy: 0.0589 - val_loss: 3.9661 - val_accuracy: 0.0803\n",
      "Epoch 9/100\n",
      "390/390 - 25s - loss: 3.8937 - accuracy: 0.0939 - val_loss: 3.7339 - val_accuracy: 0.1133\n",
      "Epoch 10/100\n",
      "390/390 - 25s - loss: 3.7021 - accuracy: 0.1225 - val_loss: 3.6520 - val_accuracy: 0.1364\n",
      "Epoch 11/100\n",
      "390/390 - 25s - loss: 3.5498 - accuracy: 0.1500 - val_loss: 3.4974 - val_accuracy: 0.1584\n",
      "Epoch 12/100\n",
      "390/390 - 25s - loss: 3.4139 - accuracy: 0.1736 - val_loss: 3.2809 - val_accuracy: 0.2053\n",
      "Epoch 13/100\n",
      "390/390 - 25s - loss: 3.2735 - accuracy: 0.1957 - val_loss: 3.1666 - val_accuracy: 0.2169\n",
      "Epoch 14/100\n",
      "390/390 - 25s - loss: 3.1302 - accuracy: 0.2254 - val_loss: 3.0049 - val_accuracy: 0.2540\n",
      "Epoch 15/100\n",
      "390/390 - 25s - loss: 3.0031 - accuracy: 0.2505 - val_loss: 2.9182 - val_accuracy: 0.2740\n",
      "Epoch 16/100\n",
      "390/390 - 25s - loss: 2.8764 - accuracy: 0.2772 - val_loss: 2.8019 - val_accuracy: 0.2945\n",
      "Epoch 17/100\n",
      "390/390 - 25s - loss: 2.7572 - accuracy: 0.2977 - val_loss: 2.7140 - val_accuracy: 0.3174\n",
      "Epoch 18/100\n",
      "390/390 - 25s - loss: 2.6321 - accuracy: 0.3234 - val_loss: 2.6174 - val_accuracy: 0.3301\n",
      "Epoch 19/100\n",
      "390/390 - 25s - loss: 2.5227 - accuracy: 0.3456 - val_loss: 2.5557 - val_accuracy: 0.3455\n",
      "Epoch 20/100\n",
      "390/390 - 25s - loss: 2.4201 - accuracy: 0.3698 - val_loss: 2.6767 - val_accuracy: 0.3224\n",
      "Epoch 21/100\n",
      "390/390 - 25s - loss: 2.1815 - accuracy: 0.4213 - val_loss: 2.3446 - val_accuracy: 0.3983\n",
      "Epoch 22/100\n",
      "390/390 - 25s - loss: 2.0915 - accuracy: 0.4386 - val_loss: 2.2359 - val_accuracy: 0.4208\n",
      "Epoch 23/100\n",
      "390/390 - 25s - loss: 2.0086 - accuracy: 0.4574 - val_loss: 2.2439 - val_accuracy: 0.4203\n",
      "Epoch 24/100\n",
      "390/390 - 25s - loss: 1.9459 - accuracy: 0.4712 - val_loss: 2.2199 - val_accuracy: 0.4260\n",
      "Epoch 25/100\n",
      "390/390 - 25s - loss: 1.8797 - accuracy: 0.4866 - val_loss: 2.1756 - val_accuracy: 0.4327\n",
      "Epoch 26/100\n",
      "390/390 - 25s - loss: 1.8127 - accuracy: 0.5009 - val_loss: 2.1265 - val_accuracy: 0.4377\n",
      "Epoch 27/100\n",
      "390/390 - 25s - loss: 1.7393 - accuracy: 0.5193 - val_loss: 2.2346 - val_accuracy: 0.4414\n",
      "Epoch 28/100\n",
      "390/390 - 25s - loss: 1.6736 - accuracy: 0.5328 - val_loss: 2.1593 - val_accuracy: 0.4543\n",
      "Epoch 29/100\n",
      "390/390 - 25s - loss: 1.6112 - accuracy: 0.5491 - val_loss: 2.1349 - val_accuracy: 0.4530\n",
      "Epoch 30/100\n",
      "390/390 - 25s - loss: 1.5380 - accuracy: 0.5637 - val_loss: 2.1234 - val_accuracy: 0.4602\n",
      "Epoch 31/100\n",
      "390/390 - 25s - loss: 1.4769 - accuracy: 0.5792 - val_loss: 2.1920 - val_accuracy: 0.4675\n",
      "Epoch 32/100\n",
      "390/390 - 25s - loss: 1.4125 - accuracy: 0.5940 - val_loss: 2.1436 - val_accuracy: 0.4601\n",
      "Epoch 33/100\n",
      "390/390 - 25s - loss: 1.3441 - accuracy: 0.6132 - val_loss: 2.2853 - val_accuracy: 0.4610\n",
      "Epoch 34/100\n",
      "390/390 - 25s - loss: 1.2862 - accuracy: 0.6274 - val_loss: 2.1493 - val_accuracy: 0.4632\n",
      "Epoch 35/100\n",
      "390/390 - 25s - loss: 1.2293 - accuracy: 0.6416 - val_loss: 2.1777 - val_accuracy: 0.4703\n",
      "Epoch 36/100\n",
      "390/390 - 25s - loss: 1.1705 - accuracy: 0.6565 - val_loss: 2.1719 - val_accuracy: 0.4771\n",
      "Epoch 37/100\n",
      "390/390 - 25s - loss: 1.1149 - accuracy: 0.6687 - val_loss: 2.2633 - val_accuracy: 0.4662\n",
      "Epoch 38/100\n",
      "390/390 - 25s - loss: 1.0553 - accuracy: 0.6839 - val_loss: 2.3652 - val_accuracy: 0.4623\n",
      "Epoch 39/100\n",
      "390/390 - 25s - loss: 1.0052 - accuracy: 0.6987 - val_loss: 2.4321 - val_accuracy: 0.4678\n",
      "Epoch 40/100\n",
      "390/390 - 25s - loss: 0.9581 - accuracy: 0.7114 - val_loss: 2.4043 - val_accuracy: 0.4722\n"
     ]
    }
   ],
   "source": [
    "batch_size = 128\n",
    "maxepoches = 100\n",
    "learning_rate = 0.01\n",
    "lr_decay = 1e-6\n",
    "lr_drop = 20\n",
    "\n",
    "def lr_scheduler(epoch):\n",
    "    return learning_rate * (0.5 ** (epoch // lr_drop))\n",
    "reduce_lr = keras.callbacks.LearningRateScheduler(lr_scheduler)\n",
    "\n",
    "\n",
    "#checkpoint_path = \"/content/gdrive/My Drive/checkpoint/VGG16_SGD_NoRegularization.ckpt\"\n",
    "#cp_callbacks = tf.keras.callbacks.ModelCheckpoint(filepath=checkpoint_path,save_weights_only=True,verbose=1)\n",
    "callback = tf.keras.callbacks.EarlyStopping(monitor='val_loss', patience=10)\n",
    "\n",
    "#data augmentation\n",
    "datagen = ImageDataGenerator(\n",
    "    rotation_range=15,  # randomly rotate images in the range (degrees, 0 to 180)\n",
    "    width_shift_range=0.1,  # randomly shift images horizontally (fraction of total width)\n",
    "    height_shift_range=0.1,  # randomly shift images vertically (fraction of total height)\n",
    "    horizontal_flip=True,  # randomly flip images\n",
    "    vertical_flip=False)  # randomly flip images\n",
    "\n",
    "\n",
    "#optimization details\n",
    "sgd = optimizers.SGD(lr=learning_rate, decay=lr_decay, momentum=0.9, nesterov=True)\n",
    "model.compile(loss='categorical_crossentropy', optimizer=sgd,metrics=['accuracy'])\n",
    "\n",
    "\n",
    "# training process in a for loop with learning rate drop every 25 epoches.\n",
    "\n",
    "history = model.fit(datagen.flow(x_train, y_train,\n",
    "                                 batch_size=batch_size),\n",
    "                    steps_per_epoch=x_train.shape[0] // batch_size,\n",
    "                    epochs=maxepoches,\n",
    "                    validation_data=(x_test, y_test),callbacks=[reduce_lr,callback],verbose=2)\n",
    "model.save_weights(\"/content/gdrive/My Drive/checkpoint/VGG16_SGD_NoRegularization.ckpt\")"
   ]
  },
  {
   "cell_type": "code",
   "execution_count": null,
   "metadata": {
    "colab": {
     "base_uri": "https://localhost:8080/",
     "height": 295
    },
    "id": "hwmqO8yjo-fh",
    "outputId": "21f2b1f9-0cdc-48c9-c7bc-e021d864eda8"
   },
   "outputs": [
    {
     "data": {
      "image/png": "[encoded data removed]",
      "text/plain": [
       "<Figure size 432x288 with 1 Axes>"
      ]
     },
     "metadata": {
      "needs_background": "light",
      "tags": []
     },
     "output_type": "display_data"
    }
   ],
   "source": [
    "# summarize history for accuracy\n",
    "plt.plot(history.history['accuracy'])\n",
    "plt.plot(history.history['val_accuracy'])\n",
    "plt.title('model accuracy')\n",
    "plt.ylabel('accuracy')\n",
    "plt.xlabel('epoch')\n",
    "plt.legend(['train', 'test'], loc='upper left')\n",
    "plt.show()"
   ]
  },
  {
   "cell_type": "code",
   "execution_count": null,
   "metadata": {
    "colab": {
     "base_uri": "https://localhost:8080/",
     "height": 295
    },
    "id": "_LSMaQxdpFDN",
    "outputId": "50f0ee87-46e2-4ba0-d451-a4f2118e3ba8"
   },
   "outputs": [
    {
     "data": {
      "image/png": "[encoded data removed]",
      "text/plain": [
       "<Figure size 432x288 with 1 Axes>"
      ]
     },
     "metadata": {
      "needs_background": "light",
      "tags": []
     },
     "output_type": "display_data"
    }
   ],
   "source": [
    "# summarize history for loss\n",
    "plt.plot(history.history['loss'])\n",
    "plt.plot(history.history['val_loss'])\n",
    "plt.title('model loss')\n",
    "plt.ylabel('loss')\n",
    "plt.xlabel('epoch')\n",
    "plt.legend(['train', 'test'], loc='upper left')\n",
    "plt.show()"
   ]
  },
  {
   "cell_type": "code",
   "execution_count": null,
   "metadata": {
    "colab": {
     "base_uri": "https://localhost:8080/",
     "height": 50
    },
    "id": "3sT0qOEQrKXX",
    "outputId": "47f2f03b-2acb-46e7-bb9a-34a967e37b59"
   },
   "outputs": [
    {
     "name": "stdout",
     "output_type": "stream",
     "text": [
      "Precision Is: 0.49276742193133405\n",
      "Recall Is: 0.4722\n"
     ]
    }
   ],
   "source": [
    "import pandas as pd\n",
    "from keras.datasets import cifar100\n",
    "from sklearn.metrics import precision_score\n",
    "from sklearn.metrics import recall_score\n",
    "(x_train, y_train), (x_test, y_test) = cifar100.load_data()\n",
    "x_test = x_test.astype('float32')\n",
    "x_test = x_test / 255.0\n",
    "y_pred = model.predict(x_test)\n",
    "y_pred=np.argmax(y_pred,axis=1)\n",
    "y_pred=pd.DataFrame(y_pred)\n",
    "y_test=pd.DataFrame(y_test)\n",
    "\n",
    "p=precision_score(y_test, y_pred,average='weighted',labels=np.unique(y_pred))\n",
    "r=recall_score(y_test,y_pred,average='micro',labels=np.unique(y_pred))\n",
    "print('Precision Is:',p)\n",
    "print('Recall Is:',r)"
   ]
  }
 ],
 "metadata": {
  "accelerator": "GPU",
  "colab": {
   "collapsed_sections": [],
   "name": "VGG16_SGD_NoRegularization.ipynb",
   "provenance": []
  },
  "kernelspec": {
   "display_name": "Python 3",
   "language": "python",
   "name": "python3"
  },
  "language_info": {
   "codemirror_mode": {
    "name": "ipython",
    "version": 3
   },
   "file_extension": ".py",
   "mimetype": "text/x-python",
   "name": "python",
   "nbconvert_exporter": "python",
   "pygments_lexer": "ipython3",
   "version": "3.8.3"
  }
 },
 "nbformat": 4,
 "nbformat_minor": 1
}
