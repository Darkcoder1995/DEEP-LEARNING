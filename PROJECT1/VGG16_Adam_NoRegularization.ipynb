{
 "cells": [
  {
   "cell_type": "code",
   "execution_count": null,
   "metadata": {
    "id": "8LqF_u_IuWLe"
   },
   "outputs": [],
   "source": [
    "import keras\n",
    "from keras.models import Sequential\n",
    "from keras.preprocessing.image import ImageDataGenerator\n",
    "from keras.layers.core import Flatten, Dense, Dropout\n",
    "from keras.layers.convolutional import Convolution2D, MaxPooling2D, ZeroPadding2D\n",
    "from keras.optimizers import Adam\n",
    "from keras.layers import Dense, Dropout, Activation, Flatten\n",
    "from keras.layers import Conv2D, BatchNormalization\n",
    "import numpy as np\n",
    "import tensorflow as tf\n",
    "from tensorflow.python.keras.metrics import Metric\n",
    "from keras import optimizers\n",
    "import numpy as np\n",
    "from keras.layers.core import Lambda\n",
    "from keras import backend as K\n",
    "from keras import regularizers\n",
    "import matplotlib.pyplot as plt "
   ]
  },
  {
   "cell_type": "code",
   "execution_count": null,
   "metadata": {
    "id": "ARTOjwg8V3pK"
   },
   "outputs": [],
   "source": [
    "# REFERENCED FROM https://github.com/fchollet/deep-learning-models/blob/master/vgg16.py"
   ]
  },
  {
   "cell_type": "code",
   "execution_count": null,
   "metadata": {
    "id": "PSSdw1rYm93Y"
   },
   "outputs": [],
   "source": [
    "num_classes=100"
   ]
  },
  {
   "cell_type": "code",
   "execution_count": null,
   "metadata": {
    "id": "F0-GRoxokntc"
   },
   "outputs": [],
   "source": [
    "from keras.datasets import cifar100\n",
    "(x_train, y_train), (x_test, y_test) = cifar100.load_data()\n",
    "x_train = x_train.astype('float32')\n",
    "x_test = x_test.astype('float32')\n",
    "x_train = x_train / 255.0\n",
    "x_test = x_test / 255.0\n",
    "\n",
    "y_train = keras.utils.to_categorical(y_train, num_classes)\n",
    "y_test = keras.utils.to_categorical(y_test, num_classes)"
   ]
  },
  {
   "cell_type": "code",
   "execution_count": null,
   "metadata": {
    "id": "x4dA34fd4I14"
   },
   "outputs": [],
   "source": [
    "x_shape = x_train[0].shape"
   ]
  },
  {
   "cell_type": "code",
   "execution_count": null,
   "metadata": {
    "id": "7oFpN8TfF-PH"
   },
   "outputs": [],
   "source": [
    "model = Sequential()\n",
    "model.add(Conv2D(input_shape=(32,32,3),filters=64,kernel_size=(3, 3), padding='same'))\n",
    "model.add(Activation('elu'))\n",
    "model.add(Conv2D(64, (3, 3), padding='same'))\n",
    "model.add(Activation('elu'))\n",
    "\n",
    "\n",
    "model.add(MaxPooling2D(pool_size=(2, 2)))\n",
    "\n",
    "model.add(Conv2D(128, (3, 3), padding='same'))\n",
    "model.add(Activation('elu'))\n",
    "model.add(Conv2D(128, (3, 3), padding='same'))\n",
    "model.add(Activation('elu'))\n",
    "\n",
    "model.add(MaxPooling2D(pool_size=(2, 2)))\n",
    "\n",
    "model.add(Conv2D(256, (3, 3), padding='same'))\n",
    "model.add(Activation('elu'))\n",
    "model.add(Conv2D(256, (3, 3), padding='same'))\n",
    "model.add(Activation('elu'))\n",
    "model.add(Conv2D(256, (3, 3), padding='same'))\n",
    "model.add(Activation('elu'))\n",
    "model.add(MaxPooling2D(pool_size=(2, 2)))\n",
    "\n",
    "\n",
    "model.add(Conv2D(512, (3, 3), padding='same'))\n",
    "model.add(Activation('elu'))\n",
    "model.add(Conv2D(512, (3, 3), padding='same'))\n",
    "model.add(Activation('elu'))\n",
    "model.add(Conv2D(512, (3, 3), padding='same'))\n",
    "model.add(Activation('elu'))\n",
    "\n",
    "model.add(MaxPooling2D(pool_size=(2, 2)))\n",
    "\n",
    "\n",
    "model.add(Conv2D(512, (3, 3), padding='same'))\n",
    "model.add(Activation('elu'))\n",
    "model.add(Conv2D(512, (3, 3), padding='same'))\n",
    "model.add(Activation('elu'))\n",
    "model.add(Conv2D(512, (3, 3), padding='same'))\n",
    "model.add(Activation('elu'))\n",
    "model.add(MaxPooling2D(pool_size=(2, 2)))\n",
    "\n",
    "model.add(Flatten())\n",
    "model.add(Dense(512))\n",
    "model.add(Activation('elu'))\n",
    "\n",
    "model.add(Dense(num_classes))\n",
    "model.add(Activation('softmax'))"
   ]
  },
  {
   "cell_type": "code",
   "execution_count": null,
   "metadata": {
    "colab": {
     "base_uri": "https://localhost:8080/",
     "height": 34
    },
    "id": "No187CrGY28K",
    "outputId": "54250a3d-3b21-4158-9ccb-3451d20ae59b"
   },
   "outputs": [
    {
     "name": "stdout",
     "output_type": "stream",
     "text": [
      "Drive already mounted at /content/gdrive/; to attempt to forcibly remount, call drive.mount(\"/content/gdrive/\", force_remount=True).\n"
     ]
    }
   ],
   "source": [
    "from google.colab import drive\n",
    "drive.mount('/content/gdrive/')"
   ]
  },
  {
   "cell_type": "code",
   "execution_count": null,
   "metadata": {
    "colab": {
     "base_uri": "https://localhost:8080/",
     "height": 840
    },
    "id": "u2l3k9xv2B32",
    "outputId": "878860d0-9110-49ed-f879-1f820e69e5da"
   },
   "outputs": [
    {
     "name": "stdout",
     "output_type": "stream",
     "text": [
      "Epoch 1/100\n",
      "WARNING:tensorflow:Callbacks method `on_train_batch_end` is slow compared to the batch time (batch time: 0.0275s vs `on_train_batch_end` time: 0.0465s). Check your callbacks.\n",
      "390/390 - 30s - loss: 3.7268 - accuracy: 0.1226 - val_loss: 3.4235 - val_accuracy: 0.1701\n",
      "Epoch 2/100\n",
      "390/390 - 30s - loss: 3.2537 - accuracy: 0.2053 - val_loss: 3.1198 - val_accuracy: 0.2336\n",
      "Epoch 3/100\n",
      "390/390 - 30s - loss: 2.9571 - accuracy: 0.2607 - val_loss: 2.8297 - val_accuracy: 0.2884\n",
      "Epoch 4/100\n",
      "390/390 - 30s - loss: 2.7055 - accuracy: 0.3089 - val_loss: 2.5833 - val_accuracy: 0.3356\n",
      "Epoch 5/100\n",
      "390/390 - 30s - loss: 2.4994 - accuracy: 0.3550 - val_loss: 2.5052 - val_accuracy: 0.3638\n",
      "Epoch 6/100\n",
      "390/390 - 30s - loss: 2.3200 - accuracy: 0.3904 - val_loss: 2.3684 - val_accuracy: 0.3856\n",
      "Epoch 7/100\n",
      "390/390 - 30s - loss: 2.1474 - accuracy: 0.4287 - val_loss: 2.2603 - val_accuracy: 0.4172\n",
      "Epoch 8/100\n",
      "390/390 - 30s - loss: 2.0062 - accuracy: 0.4611 - val_loss: 2.2131 - val_accuracy: 0.4286\n",
      "Epoch 9/100\n",
      "390/390 - 30s - loss: 1.8707 - accuracy: 0.4924 - val_loss: 2.1497 - val_accuracy: 0.4468\n",
      "Epoch 10/100\n",
      "390/390 - 30s - loss: 1.7398 - accuracy: 0.5204 - val_loss: 2.1001 - val_accuracy: 0.4538\n",
      "Epoch 11/100\n",
      "390/390 - 30s - loss: 1.6155 - accuracy: 0.5501 - val_loss: 2.2071 - val_accuracy: 0.4465\n",
      "Epoch 12/100\n",
      "390/390 - 30s - loss: 1.5001 - accuracy: 0.5755 - val_loss: 2.0883 - val_accuracy: 0.4700\n",
      "Epoch 13/100\n",
      "390/390 - 30s - loss: 1.3781 - accuracy: 0.6085 - val_loss: 2.0502 - val_accuracy: 0.4826\n",
      "Epoch 14/100\n",
      "390/390 - 30s - loss: 1.2478 - accuracy: 0.6429 - val_loss: 2.0471 - val_accuracy: 0.4934\n",
      "Epoch 15/100\n",
      "390/390 - 29s - loss: 1.1396 - accuracy: 0.6704 - val_loss: 2.1446 - val_accuracy: 0.4801\n",
      "Epoch 16/100\n",
      "390/390 - 29s - loss: 1.0200 - accuracy: 0.6997 - val_loss: 2.2735 - val_accuracy: 0.4722\n",
      "Epoch 17/100\n",
      "390/390 - 29s - loss: 0.9100 - accuracy: 0.7294 - val_loss: 2.1799 - val_accuracy: 0.4927\n",
      "Epoch 18/100\n",
      "390/390 - 29s - loss: 0.8030 - accuracy: 0.7556 - val_loss: 2.2773 - val_accuracy: 0.4910\n",
      "Epoch 19/100\n",
      "390/390 - 29s - loss: 0.7098 - accuracy: 0.7843 - val_loss: 2.4176 - val_accuracy: 0.4819\n",
      "Epoch 20/100\n",
      "390/390 - 29s - loss: 0.6345 - accuracy: 0.8039 - val_loss: 2.4118 - val_accuracy: 0.4938\n",
      "Epoch 21/100\n",
      "390/390 - 29s - loss: 0.5497 - accuracy: 0.8301 - val_loss: 2.4643 - val_accuracy: 0.4881\n",
      "Epoch 22/100\n",
      "390/390 - 29s - loss: 0.4898 - accuracy: 0.8472 - val_loss: 2.5443 - val_accuracy: 0.4977\n",
      "Epoch 23/100\n",
      "390/390 - 29s - loss: 0.4352 - accuracy: 0.8633 - val_loss: 2.7250 - val_accuracy: 0.4908\n",
      "Epoch 24/100\n",
      "390/390 - 29s - loss: 0.3901 - accuracy: 0.8756 - val_loss: 2.9718 - val_accuracy: 0.4717\n"
     ]
    }
   ],
   "source": [
    "batch_size = 128\n",
    "maxepoches = 100\n",
    "\n",
    "\n",
    "#checkpoint_path = \"/content/gdrive/My Drive/checkpoint/VGG16_SGD_NoRegularization.ckpt\"\n",
    "#cp_callbacks = tf.keras.callbacks.ModelCheckpoint(filepath=checkpoint_path,save_weights_only=True,verbose=1)\n",
    "callback = tf.keras.callbacks.EarlyStopping(monitor='val_loss', patience=10)\n",
    "\n",
    "#data augmentation\n",
    "datagen = ImageDataGenerator(\n",
    "    rotation_range=15,  # randomly rotate images in the range (degrees, 0 to 180)\n",
    "    width_shift_range=0.1,  # randomly shift images horizontally (fraction of total width)\n",
    "    height_shift_range=0.1,  # randomly shift images vertically (fraction of total height)\n",
    "    horizontal_flip=True,  # randomly flip images\n",
    "    vertical_flip=False)  # randomly flip images\n",
    "\n",
    "\n",
    "#optimization details\n",
    "sgd = optimizers.Adam(lr=0.0001)\n",
    "model.compile(loss='categorical_crossentropy', optimizer=sgd,metrics=['accuracy'])\n",
    "\n",
    "\n",
    "# training process in a for loop with learning rate drop every 25 epoches.\n",
    "\n",
    "history = model.fit(datagen.flow(x_train, y_train,\n",
    "                                 batch_size=batch_size),\n",
    "                    steps_per_epoch=x_train.shape[0] // batch_size,\n",
    "                    epochs=maxepoches,\n",
    "                    validation_data=(x_test, y_test),callbacks=[callback],verbose=2)\n",
    "model.save_weights(\"/content/gdrive/My Drive/checkpoint/VGG16_Adam_NoRegularization.ckpt\")"
   ]
  },
  {
   "cell_type": "code",
   "execution_count": null,
   "metadata": {
    "colab": {
     "base_uri": "https://localhost:8080/",
     "height": 295
    },
    "id": "hwmqO8yjo-fh",
    "outputId": "cc1e2edd-5aca-416a-c6c2-cfa237d4b981"
   },
   "outputs": [
    {
     "data": {
      "image/png": "[encoded data removed]",
      "text/plain": [
       "<Figure size 432x288 with 1 Axes>"
      ]
     },
     "metadata": {
      "needs_background": "light",
      "tags": []
     },
     "output_type": "display_data"
    }
   ],
   "source": [
    "# summarize history for accuracy\n",
    "plt.plot(history.history['accuracy'])\n",
    "plt.plot(history.history['val_accuracy'])\n",
    "plt.title('model accuracy')\n",
    "plt.ylabel('accuracy')\n",
    "plt.xlabel('epoch')\n",
    "plt.legend(['train', 'test'], loc='upper left')\n",
    "plt.show()"
   ]
  },
  {
   "cell_type": "code",
   "execution_count": null,
   "metadata": {
    "colab": {
     "base_uri": "https://localhost:8080/",
     "height": 295
    },
    "id": "_LSMaQxdpFDN",
    "outputId": "55e871b9-c27d-4fe6-ad0f-f40bb91b1a3c"
   },
   "outputs": [
    {
     "data": {
      "image/png": "[encoded data removed]",
      "text/plain": [
       "<Figure size 432x288 with 1 Axes>"
      ]
     },
     "metadata": {
      "needs_background": "light",
      "tags": []
     },
     "output_type": "display_data"
    }
   ],
   "source": [
    "# summarize history for loss\n",
    "plt.plot(history.history['loss'])\n",
    "plt.plot(history.history['val_loss'])\n",
    "plt.title('model loss')\n",
    "plt.ylabel('loss')\n",
    "plt.xlabel('epoch')\n",
    "plt.legend(['train', 'test'], loc='upper left')\n",
    "plt.show()"
   ]
  },
  {
   "cell_type": "code",
   "execution_count": null,
   "metadata": {
    "colab": {
     "base_uri": "https://localhost:8080/",
     "height": 50
    },
    "id": "7l-CLtkgOKf0",
    "outputId": "ca94d510-9ed1-4200-aec0-0ce298148ad6"
   },
   "outputs": [
    {
     "name": "stdout",
     "output_type": "stream",
     "text": [
      "Precision Is: 0.5125214692760098\n",
      "Recall Is: 0.4717\n"
     ]
    }
   ],
   "source": [
    "import pandas as pd\n",
    "from keras.datasets import cifar100\n",
    "from sklearn.metrics import precision_score\n",
    "from sklearn.metrics import recall_score\n",
    "(x_train, y_train), (x_test, y_test) = cifar100.load_data()\n",
    "x_test = x_test.astype('float32')\n",
    "x_test = x_test / 255.0\n",
    "y_pred = model.predict(x_test)\n",
    "y_pred=np.argmax(y_pred,axis=1)\n",
    "y_pred=pd.DataFrame(y_pred)\n",
    "y_test=pd.DataFrame(y_test)\n",
    "\n",
    "p=precision_score(y_test, y_pred,average='weighted',labels=np.unique(y_pred))\n",
    "r=recall_score(y_test,y_pred,average='micro',labels=np.unique(y_pred))\n",
    "print('Precision Is:',p)\n",
    "print('Recall Is:',r)"
   ]
  }
 ],
 "metadata": {
  "accelerator": "GPU",
  "colab": {
   "collapsed_sections": [],
   "name": "VGG16_Adam_NoRegularization.ipynb",
   "provenance": []
  },
  "kernelspec": {
   "display_name": "Python 3",
   "language": "python",
   "name": "python3"
  },
  "language_info": {
   "codemirror_mode": {
    "name": "ipython",
    "version": 3
   },
   "file_extension": ".py",
   "mimetype": "text/x-python",
   "name": "python",
   "nbconvert_exporter": "python",
   "pygments_lexer": "ipython3",
   "version": "3.8.3"
  }
 },
 "nbformat": 4,
 "nbformat_minor": 1
}
