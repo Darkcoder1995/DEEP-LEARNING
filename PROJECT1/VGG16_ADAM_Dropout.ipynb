{
 "cells": [
  {
   "cell_type": "code",
   "execution_count": null,
   "metadata": {
    "id": "8LqF_u_IuWLe"
   },
   "outputs": [],
   "source": [
    "import keras\n",
    "from keras.models import Sequential\n",
    "from keras.preprocessing.image import ImageDataGenerator\n",
    "from keras.layers.core import Flatten, Dense, Dropout\n",
    "from keras.layers.convolutional import Convolution2D, MaxPooling2D, ZeroPadding2D\n",
    "from keras.optimizers import SGD\n",
    "from keras.layers import Dense, Dropout, Activation, Flatten\n",
    "from keras.layers import Conv2D, BatchNormalization\n",
    "import numpy as np\n",
    "import tensorflow as tf\n",
    "from tensorflow.python.keras.metrics import Metric\n",
    "from keras import optimizers\n",
    "import numpy as np\n",
    "from keras.layers.core import Lambda\n",
    "from keras import backend as K\n",
    "from keras import regularizers\n",
    "import matplotlib.pyplot as plt "
   ]
  },
  {
   "cell_type": "code",
   "execution_count": null,
   "metadata": {
    "id": "C3HC_gUGW7o2"
   },
   "outputs": [],
   "source": [
    "# REFERENCED FROM https://github.com/fchollet/deep-learning-models/blob/master/vgg16.py"
   ]
  },
  {
   "cell_type": "code",
   "execution_count": null,
   "metadata": {
    "id": "PSSdw1rYm93Y"
   },
   "outputs": [],
   "source": [
    "num_classes=100"
   ]
  },
  {
   "cell_type": "code",
   "execution_count": null,
   "metadata": {
    "id": "F0-GRoxokntc"
   },
   "outputs": [],
   "source": [
    "from keras.datasets import cifar100\n",
    "(x_train, y_train), (x_test, y_test) = cifar100.load_data()\n",
    "x_train = x_train.astype('float32')\n",
    "x_test = x_test.astype('float32')\n",
    "x_train = x_train / 255.0\n",
    "x_test = x_test / 255.0\n",
    "\n",
    "y_train = keras.utils.to_categorical(y_train, num_classes)\n",
    "y_test = keras.utils.to_categorical(y_test, num_classes)"
   ]
  },
  {
   "cell_type": "code",
   "execution_count": null,
   "metadata": {
    "id": "x4dA34fd4I14"
   },
   "outputs": [],
   "source": [
    "x_shape = x_train[0].shape"
   ]
  },
  {
   "cell_type": "code",
   "execution_count": null,
   "metadata": {
    "id": "7oFpN8TfF-PH"
   },
   "outputs": [],
   "source": [
    "model = Sequential()\n",
    "model.add(Conv2D(64, (3, 3), padding='same'))\n",
    "model.add(Activation('elu'))\n",
    "model.add(Dropout(0.1))\n",
    "model.add(Conv2D(64, (3, 3), padding='same'))\n",
    "model.add(Activation('elu'))\n",
    "model.add(Dropout(0.1))\n",
    "\n",
    "\n",
    "model.add(MaxPooling2D(pool_size=(2, 2)))\n",
    "\n",
    "model.add(Conv2D(128, (3, 3), padding='same'))\n",
    "model.add(Activation('elu'))\n",
    "model.add(Dropout(0.1))\n",
    "model.add(Conv2D(128, (3, 3), padding='same'))\n",
    "model.add(Activation('elu'))\n",
    "model.add(Dropout(0.1))\n",
    "\n",
    "model.add(MaxPooling2D(pool_size=(2, 2)))\n",
    "\n",
    "model.add(Conv2D(256, (3, 3), padding='same'))\n",
    "model.add(Activation('elu'))\n",
    "model.add(Dropout(0.1))\n",
    "model.add(Conv2D(256, (3, 3), padding='same'))\n",
    "model.add(Activation('elu'))\n",
    "model.add(Dropout(0.1))\n",
    "model.add(Conv2D(256, (3, 3), padding='same'))\n",
    "model.add(Activation('elu'))\n",
    "model.add(Dropout(0.1))\n",
    "\n",
    "model.add(MaxPooling2D(pool_size=(2, 2)))\n",
    "\n",
    "\n",
    "model.add(Conv2D(512, (3, 3), padding='same'))\n",
    "model.add(Activation('elu'))\n",
    "model.add(Dropout(0.1))\n",
    "model.add(Conv2D(512, (3, 3), padding='same'))\n",
    "model.add(Activation('elu'))\n",
    "model.add(Dropout(0.1))\n",
    "model.add(Conv2D(512, (3, 3), padding='same'))\n",
    "model.add(Activation('elu'))\n",
    "model.add(Dropout(0.1))\n",
    "\n",
    "model.add(MaxPooling2D(pool_size=(2, 2)))\n",
    "\n",
    "\n",
    "model.add(Conv2D(512, (3, 3), padding='same'))\n",
    "model.add(Activation('elu'))\n",
    "model.add(Dropout(0.1))\n",
    "model.add(Conv2D(512, (3, 3), padding='same'))\n",
    "model.add(Activation('elu'))\n",
    "model.add(Dropout(0.1))\n",
    "model.add(Conv2D(512, (3, 3), padding='same'))\n",
    "model.add(Activation('elu'))\n",
    "model.add(Dropout(0.1))\n",
    "\n",
    "model.add(MaxPooling2D(pool_size=(2, 2)))\n",
    "\n",
    "model.add(Flatten())\n",
    "model.add(Dense(512))\n",
    "model.add(Activation('elu'))\n",
    "model.add(Dropout(0.1))\n",
    "\n",
    "model.add(Dense(num_classes))\n",
    "model.add(Activation('softmax'))"
   ]
  },
  {
   "cell_type": "code",
   "execution_count": null,
   "metadata": {
    "colab": {
     "base_uri": "https://localhost:8080/",
     "height": 34
    },
    "id": "No187CrGY28K",
    "outputId": "07a2a0a2-eeef-4059-a5e6-a5a7dc593728"
   },
   "outputs": [
    {
     "name": "stdout",
     "output_type": "stream",
     "text": [
      "Drive already mounted at /content/gdrive/; to attempt to forcibly remount, call drive.mount(\"/content/gdrive/\", force_remount=True).\n"
     ]
    }
   ],
   "source": [
    "from google.colab import drive\n",
    "drive.mount('/content/gdrive/')"
   ]
  },
  {
   "cell_type": "code",
   "execution_count": null,
   "metadata": {
    "colab": {
     "base_uri": "https://localhost:8080/",
     "height": 924
    },
    "id": "u2l3k9xv2B32",
    "outputId": "96f109f3-2446-4bb6-fd44-0583597ebeaa"
   },
   "outputs": [
    {
     "name": "stdout",
     "output_type": "stream",
     "text": [
      "Epoch 1/100\n",
      "390/390 - 32s - loss: 4.1158 - accuracy: 0.0645 - val_loss: 4.7258 - val_accuracy: 0.0757\n",
      "Epoch 2/100\n",
      "390/390 - 32s - loss: 3.5547 - accuracy: 0.1533 - val_loss: 4.1909 - val_accuracy: 0.1138\n",
      "Epoch 3/100\n",
      "390/390 - 31s - loss: 3.2575 - accuracy: 0.2024 - val_loss: 3.5284 - val_accuracy: 0.1913\n",
      "Epoch 4/100\n",
      "390/390 - 32s - loss: 3.0444 - accuracy: 0.2437 - val_loss: 3.1227 - val_accuracy: 0.2536\n",
      "Epoch 5/100\n",
      "390/390 - 32s - loss: 2.8412 - accuracy: 0.2855 - val_loss: 3.0091 - val_accuracy: 0.2790\n",
      "Epoch 6/100\n",
      "390/390 - 32s - loss: 2.6830 - accuracy: 0.3158 - val_loss: 2.5622 - val_accuracy: 0.3478\n",
      "Epoch 7/100\n",
      "390/390 - 32s - loss: 2.5258 - accuracy: 0.3483 - val_loss: 2.5427 - val_accuracy: 0.3590\n",
      "Epoch 8/100\n",
      "390/390 - 32s - loss: 2.3867 - accuracy: 0.3748 - val_loss: 2.3428 - val_accuracy: 0.4002\n",
      "Epoch 9/100\n",
      "390/390 - 32s - loss: 2.2813 - accuracy: 0.3998 - val_loss: 2.2066 - val_accuracy: 0.4267\n",
      "Epoch 10/100\n",
      "390/390 - 32s - loss: 2.1751 - accuracy: 0.4223 - val_loss: 2.2526 - val_accuracy: 0.4255\n",
      "Epoch 11/100\n",
      "390/390 - 32s - loss: 2.0774 - accuracy: 0.4449 - val_loss: 2.1028 - val_accuracy: 0.4550\n",
      "Epoch 12/100\n",
      "390/390 - 32s - loss: 1.9853 - accuracy: 0.4664 - val_loss: 2.1134 - val_accuracy: 0.4595\n",
      "Epoch 13/100\n",
      "390/390 - 32s - loss: 1.9027 - accuracy: 0.4819 - val_loss: 2.0336 - val_accuracy: 0.4754\n",
      "Epoch 14/100\n",
      "390/390 - 32s - loss: 1.8137 - accuracy: 0.5032 - val_loss: 2.0468 - val_accuracy: 0.4813\n",
      "Epoch 15/100\n",
      "390/390 - 32s - loss: 1.7508 - accuracy: 0.5198 - val_loss: 2.0195 - val_accuracy: 0.4876\n",
      "Epoch 16/100\n",
      "390/390 - 32s - loss: 1.6656 - accuracy: 0.5366 - val_loss: 1.9988 - val_accuracy: 0.4945\n",
      "Epoch 17/100\n",
      "390/390 - 32s - loss: 1.5855 - accuracy: 0.5585 - val_loss: 1.9653 - val_accuracy: 0.5035\n",
      "Epoch 18/100\n",
      "390/390 - 32s - loss: 1.5199 - accuracy: 0.5724 - val_loss: 2.0009 - val_accuracy: 0.4966\n",
      "Epoch 19/100\n",
      "390/390 - 32s - loss: 1.4516 - accuracy: 0.5876 - val_loss: 1.9699 - val_accuracy: 0.5124\n",
      "Epoch 20/100\n",
      "390/390 - 32s - loss: 1.3819 - accuracy: 0.6020 - val_loss: 2.0104 - val_accuracy: 0.5066\n",
      "Epoch 21/100\n",
      "390/390 - 32s - loss: 1.3268 - accuracy: 0.6200 - val_loss: 2.1134 - val_accuracy: 0.4979\n",
      "Epoch 22/100\n",
      "390/390 - 32s - loss: 1.2472 - accuracy: 0.6391 - val_loss: 2.0676 - val_accuracy: 0.5049\n",
      "Epoch 23/100\n",
      "390/390 - 32s - loss: 1.1835 - accuracy: 0.6534 - val_loss: 2.0768 - val_accuracy: 0.5160\n",
      "Epoch 24/100\n",
      "390/390 - 32s - loss: 1.1259 - accuracy: 0.6705 - val_loss: 2.1184 - val_accuracy: 0.5050\n",
      "Epoch 25/100\n",
      "390/390 - 32s - loss: 1.0744 - accuracy: 0.6834 - val_loss: 2.0838 - val_accuracy: 0.5202\n",
      "Epoch 26/100\n",
      "390/390 - 32s - loss: 1.0163 - accuracy: 0.6947 - val_loss: 2.1102 - val_accuracy: 0.5217\n",
      "Epoch 27/100\n",
      "390/390 - 32s - loss: 0.9578 - accuracy: 0.7112 - val_loss: 2.0651 - val_accuracy: 0.5339\n"
     ]
    }
   ],
   "source": [
    "batch_size = 128\n",
    "maxepoches = 100\n",
    "learning_rate = 0.0001\n",
    "\n",
    "\n",
    "#checkpoint_path = \"/content/gdrive/My Drive/checkpoint/VGG16_SGD_NoRegularization.ckpt\"\n",
    "#cp_callbacks = tf.keras.callbacks.ModelCheckpoint(filepath=checkpoint_path,save_weights_only=True,verbose=1)\n",
    "callback = tf.keras.callbacks.EarlyStopping(monitor='val_loss', patience=10)\n",
    "\n",
    "#data augmentation\n",
    "datagen = ImageDataGenerator(\n",
    "    rotation_range=15,  # randomly rotate images in the range (degrees, 0 to 180)\n",
    "    width_shift_range=0.1,  # randomly shift images horizontally (fraction of total width)\n",
    "    height_shift_range=0.1,  # randomly shift images vertically (fraction of total height)\n",
    "    horizontal_flip=True,  # randomly flip images\n",
    "    vertical_flip=False)  # randomly flip images\n",
    "\n",
    "\n",
    "#optimization details\n",
    "sgd = optimizers.Adam(lr=learning_rate)\n",
    "model.compile(loss='categorical_crossentropy', optimizer=sgd,metrics=['accuracy'])\n",
    "\n",
    "\n",
    "# training process in a for loop with learning rate drop every 25 epoches.\n",
    "\n",
    "history = model.fit(datagen.flow(x_train, y_train,\n",
    "                                 batch_size=batch_size),\n",
    "                    steps_per_epoch=x_train.shape[0] // batch_size,\n",
    "                    epochs=maxepoches,\n",
    "                    validation_data=(x_test, y_test),callbacks=[callback],verbose=2)\n",
    "model.save_weights(\"/content/gdrive/My Drive/checkpoint/VGG16_ADAM_Dropout.ckpt\")"
   ]
  },
  {
   "cell_type": "code",
   "execution_count": null,
   "metadata": {
    "colab": {
     "base_uri": "https://localhost:8080/",
     "height": 295
    },
    "id": "hwmqO8yjo-fh",
    "outputId": "3ef789c8-42e4-4ef2-85c3-6d84b9402470"
   },
   "outputs": [
    {
     "data": {
      "image/png": "[encoded data removed]",
      "text/plain": [
       "<Figure size 432x288 with 1 Axes>"
      ]
     },
     "metadata": {
      "needs_background": "light",
      "tags": []
     },
     "output_type": "display_data"
    }
   ],
   "source": [
    "# summarize history for accuracy\n",
    "plt.plot(history.history['accuracy'])\n",
    "plt.plot(history.history['val_accuracy'])\n",
    "plt.title('model accuracy')\n",
    "plt.ylabel('accuracy')\n",
    "plt.xlabel('epoch')\n",
    "plt.legend(['train', 'test'], loc='upper left')\n",
    "plt.show()"
   ]
  },
  {
   "cell_type": "code",
   "execution_count": null,
   "metadata": {
    "colab": {
     "base_uri": "https://localhost:8080/",
     "height": 295
    },
    "id": "_LSMaQxdpFDN",
    "outputId": "f0beb3b1-0156-46d5-990e-f202dd8033e6"
   },
   "outputs": [
    {
     "data": {
      "image/png": "[encoded data removed]",
      "text/plain": [
       "<Figure size 432x288 with 1 Axes>"
      ]
     },
     "metadata": {
      "needs_background": "light",
      "tags": []
     },
     "output_type": "display_data"
    }
   ],
   "source": [
    "# summarize history for loss\n",
    "plt.plot(history.history['loss'])\n",
    "plt.plot(history.history['val_loss'])\n",
    "plt.title('model loss')\n",
    "plt.ylabel('loss')\n",
    "plt.xlabel('epoch')\n",
    "plt.legend(['train', 'test'], loc='upper left')\n",
    "plt.show()"
   ]
  },
  {
   "cell_type": "code",
   "execution_count": null,
   "metadata": {
    "colab": {
     "base_uri": "https://localhost:8080/",
     "height": 50
    },
    "id": "3sT0qOEQrKXX",
    "outputId": "a77b3ab6-9413-4968-fc8a-51ce05ec111a"
   },
   "outputs": [
    {
     "name": "stdout",
     "output_type": "stream",
     "text": [
      "Precision Is: 0.5490618941828497\n",
      "Recall Is: 0.5339\n"
     ]
    }
   ],
   "source": [
    "import pandas as pd\n",
    "from keras.datasets import cifar100\n",
    "from sklearn.metrics import precision_score\n",
    "from sklearn.metrics import recall_score\n",
    "(x_train, y_train), (x_test, y_test) = cifar100.load_data()\n",
    "x_test = x_test.astype('float32')\n",
    "x_test = x_test / 255.0\n",
    "y_pred = model.predict(x_test)\n",
    "y_pred=np.argmax(y_pred,axis=1)\n",
    "y_pred=pd.DataFrame(y_pred)\n",
    "y_test=pd.DataFrame(y_test)\n",
    "\n",
    "p=precision_score(y_test, y_pred,average='weighted',labels=np.unique(y_pred))\n",
    "r=recall_score(y_test,y_pred,average='micro',labels=np.unique(y_pred))\n",
    "print('Precision Is:',p)\n",
    "print('Recall Is:',r)"
   ]
  }
 ],
 "metadata": {
  "accelerator": "GPU",
  "colab": {
   "collapsed_sections": [],
   "name": " VGG16_ADAM_Dropout.ipynb",
   "provenance": []
  },
  "kernelspec": {
   "display_name": "Python 3",
   "language": "python",
   "name": "python3"
  },
  "language_info": {
   "codemirror_mode": {
    "name": "ipython",
    "version": 3
   },
   "file_extension": ".py",
   "mimetype": "text/x-python",
   "name": "python",
   "nbconvert_exporter": "python",
   "pygments_lexer": "ipython3",
   "version": "3.8.3"
  }
 },
 "nbformat": 4,
 "nbformat_minor": 1
}
